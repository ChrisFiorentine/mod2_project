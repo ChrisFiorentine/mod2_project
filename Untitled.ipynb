{
 "cells": [
  {
   "cell_type": "code",
   "execution_count": 1,
   "metadata": {},
   "outputs": [],
   "source": [
    "import pandas as pd  \n",
    "import numpy as np  \n",
    "import matplotlib.pyplot as plt  \n",
    "import seaborn as sns \n",
    "from sklearn.model_selection import train_test_split \n",
    "from sklearn.linear_model import LinearRegression\n",
    "from sklearn import metrics\n",
    "from statsmodels.formula.api import ols\n",
    "%matplotlib inline"
   ]
  },
  {
   "cell_type": "markdown",
   "metadata": {},
   "source": [
    "# Multi Linear Regression Model"
   ]
  },
  {
   "cell_type": "code",
   "execution_count": 2,
   "metadata": {},
   "outputs": [],
   "source": [
    "df = pd.read_csv('file:///Users/chrisfiorentine/Downloads/college-basketball-dataset/cbb.csv')"
   ]
  },
  {
   "cell_type": "code",
   "execution_count": 5,
   "metadata": {},
   "outputs": [
    {
     "data": {
      "text/plain": [
       "TEAM          False\n",
       "CONF          False\n",
       "G             False\n",
       "W             False\n",
       "ADJOE         False\n",
       "ADJDE         False\n",
       "BARTHAG       False\n",
       "EFG_O         False\n",
       "EFG_D         False\n",
       "TOR           False\n",
       "TORD          False\n",
       "ORB           False\n",
       "DRB           False\n",
       "FTR           False\n",
       "FTRD          False\n",
       "2P_O          False\n",
       "2P_D          False\n",
       "3P_O          False\n",
       "3P_D          False\n",
       "ADJ_T         False\n",
       "WAB           False\n",
       "POSTSEASON     True\n",
       "SEED           True\n",
       "YEAR          False\n",
       "dtype: bool"
      ]
     },
     "execution_count": 5,
     "metadata": {},
     "output_type": "execute_result"
    }
   ],
   "source": [
    "df.isnull().any()"
   ]
  },
  {
   "cell_type": "code",
   "execution_count": 10,
   "metadata": {},
   "outputs": [
    {
     "data": {
      "text/html": [
       "<div>\n",
       "<style scoped>\n",
       "    .dataframe tbody tr th:only-of-type {\n",
       "        vertical-align: middle;\n",
       "    }\n",
       "\n",
       "    .dataframe tbody tr th {\n",
       "        vertical-align: top;\n",
       "    }\n",
       "\n",
       "    .dataframe thead th {\n",
       "        text-align: right;\n",
       "    }\n",
       "</style>\n",
       "<table border=\"1\" class=\"dataframe\">\n",
       "  <thead>\n",
       "    <tr style=\"text-align: right;\">\n",
       "      <th></th>\n",
       "      <th>YEAR</th>\n",
       "      <th>TEAM</th>\n",
       "      <th>CONF</th>\n",
       "      <th>G</th>\n",
       "      <th>W</th>\n",
       "      <th>ADJOE</th>\n",
       "      <th>ADJDE</th>\n",
       "      <th>BARTHAG</th>\n",
       "      <th>EFG_O</th>\n",
       "      <th>EFG_D</th>\n",
       "      <th>...</th>\n",
       "      <th>FTR</th>\n",
       "      <th>FTRD</th>\n",
       "      <th>2P_O</th>\n",
       "      <th>2P_D</th>\n",
       "      <th>3P_O</th>\n",
       "      <th>3P_D</th>\n",
       "      <th>ADJ_T</th>\n",
       "      <th>WAB</th>\n",
       "      <th>POSTSEASON</th>\n",
       "      <th>SEED</th>\n",
       "    </tr>\n",
       "  </thead>\n",
       "  <tbody>\n",
       "    <tr>\n",
       "      <td>0</td>\n",
       "      <td>2016</td>\n",
       "      <td>North Carolina</td>\n",
       "      <td>ACC</td>\n",
       "      <td>40</td>\n",
       "      <td>33</td>\n",
       "      <td>123.3</td>\n",
       "      <td>94.9</td>\n",
       "      <td>0.9531</td>\n",
       "      <td>52.6</td>\n",
       "      <td>48.1</td>\n",
       "      <td>...</td>\n",
       "      <td>32.3</td>\n",
       "      <td>30.4</td>\n",
       "      <td>53.9</td>\n",
       "      <td>44.6</td>\n",
       "      <td>32.7</td>\n",
       "      <td>36.2</td>\n",
       "      <td>71.7</td>\n",
       "      <td>8.6</td>\n",
       "      <td>2ND</td>\n",
       "      <td>1.0</td>\n",
       "    </tr>\n",
       "    <tr>\n",
       "      <td>1</td>\n",
       "      <td>2018</td>\n",
       "      <td>Michigan</td>\n",
       "      <td>B10</td>\n",
       "      <td>40</td>\n",
       "      <td>33</td>\n",
       "      <td>114.4</td>\n",
       "      <td>90.4</td>\n",
       "      <td>0.9375</td>\n",
       "      <td>53.9</td>\n",
       "      <td>47.7</td>\n",
       "      <td>...</td>\n",
       "      <td>30.7</td>\n",
       "      <td>30.0</td>\n",
       "      <td>54.7</td>\n",
       "      <td>46.8</td>\n",
       "      <td>35.2</td>\n",
       "      <td>33.2</td>\n",
       "      <td>65.9</td>\n",
       "      <td>6.9</td>\n",
       "      <td>2ND</td>\n",
       "      <td>3.0</td>\n",
       "    </tr>\n",
       "    <tr>\n",
       "      <td>2</td>\n",
       "      <td>2019</td>\n",
       "      <td>Texas Tech</td>\n",
       "      <td>B12</td>\n",
       "      <td>38</td>\n",
       "      <td>31</td>\n",
       "      <td>115.2</td>\n",
       "      <td>85.2</td>\n",
       "      <td>0.9696</td>\n",
       "      <td>53.5</td>\n",
       "      <td>43.0</td>\n",
       "      <td>...</td>\n",
       "      <td>32.9</td>\n",
       "      <td>36.6</td>\n",
       "      <td>52.8</td>\n",
       "      <td>41.9</td>\n",
       "      <td>36.5</td>\n",
       "      <td>29.7</td>\n",
       "      <td>67.5</td>\n",
       "      <td>7.0</td>\n",
       "      <td>2ND</td>\n",
       "      <td>3.0</td>\n",
       "    </tr>\n",
       "    <tr>\n",
       "      <td>3</td>\n",
       "      <td>2017</td>\n",
       "      <td>Gonzaga</td>\n",
       "      <td>WCC</td>\n",
       "      <td>39</td>\n",
       "      <td>37</td>\n",
       "      <td>117.8</td>\n",
       "      <td>86.3</td>\n",
       "      <td>0.9728</td>\n",
       "      <td>56.6</td>\n",
       "      <td>41.1</td>\n",
       "      <td>...</td>\n",
       "      <td>39.0</td>\n",
       "      <td>26.9</td>\n",
       "      <td>56.3</td>\n",
       "      <td>40.0</td>\n",
       "      <td>38.2</td>\n",
       "      <td>29.0</td>\n",
       "      <td>71.5</td>\n",
       "      <td>7.7</td>\n",
       "      <td>2ND</td>\n",
       "      <td>1.0</td>\n",
       "    </tr>\n",
       "    <tr>\n",
       "      <td>4</td>\n",
       "      <td>2019</td>\n",
       "      <td>Virginia</td>\n",
       "      <td>ACC</td>\n",
       "      <td>38</td>\n",
       "      <td>35</td>\n",
       "      <td>123.0</td>\n",
       "      <td>89.9</td>\n",
       "      <td>0.9736</td>\n",
       "      <td>55.2</td>\n",
       "      <td>44.7</td>\n",
       "      <td>...</td>\n",
       "      <td>29.1</td>\n",
       "      <td>26.3</td>\n",
       "      <td>52.5</td>\n",
       "      <td>45.7</td>\n",
       "      <td>39.5</td>\n",
       "      <td>28.9</td>\n",
       "      <td>60.7</td>\n",
       "      <td>11.1</td>\n",
       "      <td>Champions</td>\n",
       "      <td>1.0</td>\n",
       "    </tr>\n",
       "    <tr>\n",
       "      <td>...</td>\n",
       "      <td>...</td>\n",
       "      <td>...</td>\n",
       "      <td>...</td>\n",
       "      <td>...</td>\n",
       "      <td>...</td>\n",
       "      <td>...</td>\n",
       "      <td>...</td>\n",
       "      <td>...</td>\n",
       "      <td>...</td>\n",
       "      <td>...</td>\n",
       "      <td>...</td>\n",
       "      <td>...</td>\n",
       "      <td>...</td>\n",
       "      <td>...</td>\n",
       "      <td>...</td>\n",
       "      <td>...</td>\n",
       "      <td>...</td>\n",
       "      <td>...</td>\n",
       "      <td>...</td>\n",
       "      <td>...</td>\n",
       "      <td>...</td>\n",
       "    </tr>\n",
       "    <tr>\n",
       "      <td>1399</td>\n",
       "      <td>2018</td>\n",
       "      <td>Texas A&amp;M</td>\n",
       "      <td>SEC</td>\n",
       "      <td>35</td>\n",
       "      <td>22</td>\n",
       "      <td>111.2</td>\n",
       "      <td>94.7</td>\n",
       "      <td>0.8640</td>\n",
       "      <td>51.4</td>\n",
       "      <td>46.9</td>\n",
       "      <td>...</td>\n",
       "      <td>32.0</td>\n",
       "      <td>27.6</td>\n",
       "      <td>52.5</td>\n",
       "      <td>45.7</td>\n",
       "      <td>32.9</td>\n",
       "      <td>32.6</td>\n",
       "      <td>70.3</td>\n",
       "      <td>1.9</td>\n",
       "      <td>S16</td>\n",
       "      <td>7.0</td>\n",
       "    </tr>\n",
       "    <tr>\n",
       "      <td>1400</td>\n",
       "      <td>2019</td>\n",
       "      <td>LSU</td>\n",
       "      <td>SEC</td>\n",
       "      <td>35</td>\n",
       "      <td>28</td>\n",
       "      <td>117.9</td>\n",
       "      <td>96.6</td>\n",
       "      <td>0.9081</td>\n",
       "      <td>51.2</td>\n",
       "      <td>49.9</td>\n",
       "      <td>...</td>\n",
       "      <td>37.1</td>\n",
       "      <td>33.1</td>\n",
       "      <td>52.9</td>\n",
       "      <td>49.4</td>\n",
       "      <td>31.9</td>\n",
       "      <td>33.7</td>\n",
       "      <td>71.2</td>\n",
       "      <td>7.3</td>\n",
       "      <td>S16</td>\n",
       "      <td>3.0</td>\n",
       "    </tr>\n",
       "    <tr>\n",
       "      <td>1401</td>\n",
       "      <td>2019</td>\n",
       "      <td>Tennessee</td>\n",
       "      <td>SEC</td>\n",
       "      <td>36</td>\n",
       "      <td>31</td>\n",
       "      <td>122.8</td>\n",
       "      <td>95.2</td>\n",
       "      <td>0.9488</td>\n",
       "      <td>55.3</td>\n",
       "      <td>48.1</td>\n",
       "      <td>...</td>\n",
       "      <td>33.3</td>\n",
       "      <td>34.9</td>\n",
       "      <td>55.4</td>\n",
       "      <td>44.7</td>\n",
       "      <td>36.7</td>\n",
       "      <td>35.4</td>\n",
       "      <td>68.8</td>\n",
       "      <td>9.9</td>\n",
       "      <td>S16</td>\n",
       "      <td>2.0</td>\n",
       "    </tr>\n",
       "    <tr>\n",
       "      <td>1402</td>\n",
       "      <td>2016</td>\n",
       "      <td>Gonzaga</td>\n",
       "      <td>WCC</td>\n",
       "      <td>35</td>\n",
       "      <td>27</td>\n",
       "      <td>117.4</td>\n",
       "      <td>94.5</td>\n",
       "      <td>0.9238</td>\n",
       "      <td>55.2</td>\n",
       "      <td>44.8</td>\n",
       "      <td>...</td>\n",
       "      <td>34.4</td>\n",
       "      <td>28.1</td>\n",
       "      <td>54.3</td>\n",
       "      <td>44.4</td>\n",
       "      <td>37.8</td>\n",
       "      <td>30.3</td>\n",
       "      <td>68.2</td>\n",
       "      <td>2.1</td>\n",
       "      <td>S16</td>\n",
       "      <td>11.0</td>\n",
       "    </tr>\n",
       "    <tr>\n",
       "      <td>1403</td>\n",
       "      <td>2018</td>\n",
       "      <td>Gonzaga</td>\n",
       "      <td>WCC</td>\n",
       "      <td>37</td>\n",
       "      <td>32</td>\n",
       "      <td>117.2</td>\n",
       "      <td>94.9</td>\n",
       "      <td>0.9192</td>\n",
       "      <td>57.0</td>\n",
       "      <td>47.1</td>\n",
       "      <td>...</td>\n",
       "      <td>32.1</td>\n",
       "      <td>29.1</td>\n",
       "      <td>58.2</td>\n",
       "      <td>44.1</td>\n",
       "      <td>36.8</td>\n",
       "      <td>35.0</td>\n",
       "      <td>70.5</td>\n",
       "      <td>4.9</td>\n",
       "      <td>S16</td>\n",
       "      <td>4.0</td>\n",
       "    </tr>\n",
       "  </tbody>\n",
       "</table>\n",
       "<p>1404 rows × 24 columns</p>\n",
       "</div>"
      ],
      "text/plain": [
       "      YEAR            TEAM CONF   G   W  ADJOE  ADJDE  BARTHAG  EFG_O  EFG_D  \\\n",
       "0     2016  North Carolina  ACC  40  33  123.3   94.9   0.9531   52.6   48.1   \n",
       "1     2018        Michigan  B10  40  33  114.4   90.4   0.9375   53.9   47.7   \n",
       "2     2019      Texas Tech  B12  38  31  115.2   85.2   0.9696   53.5   43.0   \n",
       "3     2017         Gonzaga  WCC  39  37  117.8   86.3   0.9728   56.6   41.1   \n",
       "4     2019        Virginia  ACC  38  35  123.0   89.9   0.9736   55.2   44.7   \n",
       "...    ...             ...  ...  ..  ..    ...    ...      ...    ...    ...   \n",
       "1399  2018       Texas A&M  SEC  35  22  111.2   94.7   0.8640   51.4   46.9   \n",
       "1400  2019             LSU  SEC  35  28  117.9   96.6   0.9081   51.2   49.9   \n",
       "1401  2019       Tennessee  SEC  36  31  122.8   95.2   0.9488   55.3   48.1   \n",
       "1402  2016         Gonzaga  WCC  35  27  117.4   94.5   0.9238   55.2   44.8   \n",
       "1403  2018         Gonzaga  WCC  37  32  117.2   94.9   0.9192   57.0   47.1   \n",
       "\n",
       "      ...   FTR  FTRD  2P_O  2P_D  3P_O  3P_D  ADJ_T   WAB  POSTSEASON  SEED  \n",
       "0     ...  32.3  30.4  53.9  44.6  32.7  36.2   71.7   8.6         2ND   1.0  \n",
       "1     ...  30.7  30.0  54.7  46.8  35.2  33.2   65.9   6.9         2ND   3.0  \n",
       "2     ...  32.9  36.6  52.8  41.9  36.5  29.7   67.5   7.0         2ND   3.0  \n",
       "3     ...  39.0  26.9  56.3  40.0  38.2  29.0   71.5   7.7         2ND   1.0  \n",
       "4     ...  29.1  26.3  52.5  45.7  39.5  28.9   60.7  11.1   Champions   1.0  \n",
       "...   ...   ...   ...   ...   ...   ...   ...    ...   ...         ...   ...  \n",
       "1399  ...  32.0  27.6  52.5  45.7  32.9  32.6   70.3   1.9         S16   7.0  \n",
       "1400  ...  37.1  33.1  52.9  49.4  31.9  33.7   71.2   7.3         S16   3.0  \n",
       "1401  ...  33.3  34.9  55.4  44.7  36.7  35.4   68.8   9.9         S16   2.0  \n",
       "1402  ...  34.4  28.1  54.3  44.4  37.8  30.3   68.2   2.1         S16  11.0  \n",
       "1403  ...  32.1  29.1  58.2  44.1  36.8  35.0   70.5   4.9         S16   4.0  \n",
       "\n",
       "[1404 rows x 24 columns]"
      ]
     },
     "execution_count": 10,
     "metadata": {},
     "output_type": "execute_result"
    }
   ],
   "source": [
    "years = df.reset_index()\n",
    "years = years.set_index('YEAR')\n",
    "years = years.drop(2015)\n",
    "years = years.reset_index()\n",
    "df2 = years\n",
    "df2"
   ]
  },
  {
   "cell_type": "code",
   "execution_count": 50,
   "metadata": {},
   "outputs": [],
   "source": [
    "X = df2[['ADJOE', 'ADJDE', 'TOR', 'ORB', 'DRB']]\n",
    "Y = df2['W']"
   ]
  },
  {
   "cell_type": "code",
   "execution_count": 51,
   "metadata": {},
   "outputs": [],
   "source": [
    "X_train, X_test, Y_train, Y_test = train_test_split(X, Y, test_size = .2) "
   ]
  },
  {
   "cell_type": "code",
   "execution_count": 52,
   "metadata": {},
   "outputs": [],
   "source": [
    "f = 'W~ADJOE+ADJDE+TOR+ORB+DRB'"
   ]
  },
  {
   "cell_type": "code",
   "execution_count": 53,
   "metadata": {},
   "outputs": [],
   "source": [
    "lr_model = ols(formula=f, data=df2).fit()"
   ]
  },
  {
   "cell_type": "code",
   "execution_count": 54,
   "metadata": {},
   "outputs": [
    {
     "data": {
      "text/html": [
       "<table class=\"simpletable\">\n",
       "<caption>OLS Regression Results</caption>\n",
       "<tr>\n",
       "  <th>Dep. Variable:</th>            <td>W</td>        <th>  R-squared:         </th> <td>   0.691</td>\n",
       "</tr>\n",
       "<tr>\n",
       "  <th>Model:</th>                   <td>OLS</td>       <th>  Adj. R-squared:    </th> <td>   0.690</td>\n",
       "</tr>\n",
       "<tr>\n",
       "  <th>Method:</th>             <td>Least Squares</td>  <th>  F-statistic:       </th> <td>   624.9</td>\n",
       "</tr>\n",
       "<tr>\n",
       "  <th>Date:</th>             <td>Thu, 26 Mar 2020</td> <th>  Prob (F-statistic):</th>  <td>  0.00</td> \n",
       "</tr>\n",
       "<tr>\n",
       "  <th>Time:</th>                 <td>16:23:47</td>     <th>  Log-Likelihood:    </th> <td> -3794.3</td>\n",
       "</tr>\n",
       "<tr>\n",
       "  <th>No. Observations:</th>      <td>  1404</td>      <th>  AIC:               </th> <td>   7601.</td>\n",
       "</tr>\n",
       "<tr>\n",
       "  <th>Df Residuals:</th>          <td>  1398</td>      <th>  BIC:               </th> <td>   7632.</td>\n",
       "</tr>\n",
       "<tr>\n",
       "  <th>Df Model:</th>              <td>     5</td>      <th>                     </th>     <td> </td>   \n",
       "</tr>\n",
       "<tr>\n",
       "  <th>Covariance Type:</th>      <td>nonrobust</td>    <th>                     </th>     <td> </td>   \n",
       "</tr>\n",
       "</table>\n",
       "<table class=\"simpletable\">\n",
       "<tr>\n",
       "      <td></td>         <th>coef</th>     <th>std err</th>      <th>t</th>      <th>P>|t|</th>  <th>[0.025</th>    <th>0.975]</th>  \n",
       "</tr>\n",
       "<tr>\n",
       "  <th>Intercept</th> <td>   26.4782</td> <td>    4.014</td> <td>    6.596</td> <td> 0.000</td> <td>   18.604</td> <td>   34.353</td>\n",
       "</tr>\n",
       "<tr>\n",
       "  <th>ADJOE</th>     <td>    0.3722</td> <td>    0.021</td> <td>   18.066</td> <td> 0.000</td> <td>    0.332</td> <td>    0.413</td>\n",
       "</tr>\n",
       "<tr>\n",
       "  <th>ADJDE</th>     <td>   -0.3868</td> <td>    0.019</td> <td>  -20.199</td> <td> 0.000</td> <td>   -0.424</td> <td>   -0.349</td>\n",
       "</tr>\n",
       "<tr>\n",
       "  <th>TOR</th>       <td>   -0.3636</td> <td>    0.066</td> <td>   -5.487</td> <td> 0.000</td> <td>   -0.494</td> <td>   -0.234</td>\n",
       "</tr>\n",
       "<tr>\n",
       "  <th>ORB</th>       <td>    0.1650</td> <td>    0.027</td> <td>    6.054</td> <td> 0.000</td> <td>    0.112</td> <td>    0.218</td>\n",
       "</tr>\n",
       "<tr>\n",
       "  <th>DRB</th>       <td>   -0.2163</td> <td>    0.036</td> <td>   -6.086</td> <td> 0.000</td> <td>   -0.286</td> <td>   -0.147</td>\n",
       "</tr>\n",
       "</table>\n",
       "<table class=\"simpletable\">\n",
       "<tr>\n",
       "  <th>Omnibus:</th>       <td> 6.953</td> <th>  Durbin-Watson:     </th> <td>   1.280</td>\n",
       "</tr>\n",
       "<tr>\n",
       "  <th>Prob(Omnibus):</th> <td> 0.031</td> <th>  Jarque-Bera (JB):  </th> <td>   5.357</td>\n",
       "</tr>\n",
       "<tr>\n",
       "  <th>Skew:</th>          <td> 0.026</td> <th>  Prob(JB):          </th> <td>  0.0687</td>\n",
       "</tr>\n",
       "<tr>\n",
       "  <th>Kurtosis:</th>      <td> 2.702</td> <th>  Cond. No.          </th> <td>6.39e+03</td>\n",
       "</tr>\n",
       "</table><br/><br/>Warnings:<br/>[1] Standard Errors assume that the covariance matrix of the errors is correctly specified.<br/>[2] The condition number is large, 6.39e+03. This might indicate that there are<br/>strong multicollinearity or other numerical problems."
      ],
      "text/plain": [
       "<class 'statsmodels.iolib.summary.Summary'>\n",
       "\"\"\"\n",
       "                            OLS Regression Results                            \n",
       "==============================================================================\n",
       "Dep. Variable:                      W   R-squared:                       0.691\n",
       "Model:                            OLS   Adj. R-squared:                  0.690\n",
       "Method:                 Least Squares   F-statistic:                     624.9\n",
       "Date:                Thu, 26 Mar 2020   Prob (F-statistic):               0.00\n",
       "Time:                        16:23:47   Log-Likelihood:                -3794.3\n",
       "No. Observations:                1404   AIC:                             7601.\n",
       "Df Residuals:                    1398   BIC:                             7632.\n",
       "Df Model:                           5                                         \n",
       "Covariance Type:            nonrobust                                         \n",
       "==============================================================================\n",
       "                 coef    std err          t      P>|t|      [0.025      0.975]\n",
       "------------------------------------------------------------------------------\n",
       "Intercept     26.4782      4.014      6.596      0.000      18.604      34.353\n",
       "ADJOE          0.3722      0.021     18.066      0.000       0.332       0.413\n",
       "ADJDE         -0.3868      0.019    -20.199      0.000      -0.424      -0.349\n",
       "TOR           -0.3636      0.066     -5.487      0.000      -0.494      -0.234\n",
       "ORB            0.1650      0.027      6.054      0.000       0.112       0.218\n",
       "DRB           -0.2163      0.036     -6.086      0.000      -0.286      -0.147\n",
       "==============================================================================\n",
       "Omnibus:                        6.953   Durbin-Watson:                   1.280\n",
       "Prob(Omnibus):                  0.031   Jarque-Bera (JB):                5.357\n",
       "Skew:                           0.026   Prob(JB):                       0.0687\n",
       "Kurtosis:                       2.702   Cond. No.                     6.39e+03\n",
       "==============================================================================\n",
       "\n",
       "Warnings:\n",
       "[1] Standard Errors assume that the covariance matrix of the errors is correctly specified.\n",
       "[2] The condition number is large, 6.39e+03. This might indicate that there are\n",
       "strong multicollinearity or other numerical problems.\n",
       "\"\"\""
      ]
     },
     "execution_count": 54,
     "metadata": {},
     "output_type": "execute_result"
    }
   ],
   "source": [
    "lr_model.summary()"
   ]
  },
  {
   "cell_type": "code",
   "execution_count": 55,
   "metadata": {},
   "outputs": [],
   "source": [
    "lr = LinearRegression()"
   ]
  },
  {
   "cell_type": "code",
   "execution_count": 119,
   "metadata": {},
   "outputs": [
    {
     "data": {
      "text/plain": [
       "LinearRegression(copy_X=True, fit_intercept=True, n_jobs=None, normalize=False)"
      ]
     },
     "execution_count": 119,
     "metadata": {},
     "output_type": "execute_result"
    }
   ],
   "source": [
    "lr.fit(X_train, Y_train)"
   ]
  },
  {
   "cell_type": "code",
   "execution_count": 120,
   "metadata": {},
   "outputs": [
    {
     "data": {
      "text/plain": [
       "array([ 0.37464291, -0.38318743, -0.40589849,  0.17174753, -0.192256  ])"
      ]
     },
     "execution_count": 120,
     "metadata": {},
     "output_type": "execute_result"
    }
   ],
   "source": [
    "lr.coef_"
   ]
  },
  {
   "cell_type": "code",
   "execution_count": 123,
   "metadata": {},
   "outputs": [
    {
     "data": {
      "text/plain": [
       "25.74518203781741"
      ]
     },
     "execution_count": 123,
     "metadata": {},
     "output_type": "execute_result"
    }
   ],
   "source": [
    "lr.intercept_"
   ]
  },
  {
   "cell_type": "code",
   "execution_count": 59,
   "metadata": {},
   "outputs": [],
   "source": [
    "wins_pred = lr.predict(X_test)"
   ]
  },
  {
   "cell_type": "code",
   "execution_count": 68,
   "metadata": {},
   "outputs": [],
   "source": [
    "wins_pred_df = pd.DataFrame({'Actual_Wins': Y_test, 'Wins_Predicted': wins_pred})"
   ]
  },
  {
   "cell_type": "code",
   "execution_count": 78,
   "metadata": {},
   "outputs": [
    {
     "data": {
      "text/html": [
       "<div>\n",
       "<style scoped>\n",
       "    .dataframe tbody tr th:only-of-type {\n",
       "        vertical-align: middle;\n",
       "    }\n",
       "\n",
       "    .dataframe tbody tr th {\n",
       "        vertical-align: top;\n",
       "    }\n",
       "\n",
       "    .dataframe thead th {\n",
       "        text-align: right;\n",
       "    }\n",
       "</style>\n",
       "<table border=\"1\" class=\"dataframe\">\n",
       "  <thead>\n",
       "    <tr style=\"text-align: right;\">\n",
       "      <th></th>\n",
       "      <th>Actual_Wins</th>\n",
       "      <th>Wins_Predicted</th>\n",
       "    </tr>\n",
       "  </thead>\n",
       "  <tbody>\n",
       "    <tr>\n",
       "      <td>191</td>\n",
       "      <td>14</td>\n",
       "      <td>12.884170</td>\n",
       "    </tr>\n",
       "    <tr>\n",
       "      <td>482</td>\n",
       "      <td>13</td>\n",
       "      <td>12.656617</td>\n",
       "    </tr>\n",
       "    <tr>\n",
       "      <td>805</td>\n",
       "      <td>10</td>\n",
       "      <td>10.389392</td>\n",
       "    </tr>\n",
       "    <tr>\n",
       "      <td>843</td>\n",
       "      <td>16</td>\n",
       "      <td>16.446402</td>\n",
       "    </tr>\n",
       "    <tr>\n",
       "      <td>212</td>\n",
       "      <td>14</td>\n",
       "      <td>20.438902</td>\n",
       "    </tr>\n",
       "    <tr>\n",
       "      <td>1144</td>\n",
       "      <td>13</td>\n",
       "      <td>13.015272</td>\n",
       "    </tr>\n",
       "    <tr>\n",
       "      <td>603</td>\n",
       "      <td>15</td>\n",
       "      <td>15.578966</td>\n",
       "    </tr>\n",
       "    <tr>\n",
       "      <td>565</td>\n",
       "      <td>17</td>\n",
       "      <td>14.601059</td>\n",
       "    </tr>\n",
       "    <tr>\n",
       "      <td>136</td>\n",
       "      <td>21</td>\n",
       "      <td>14.533269</td>\n",
       "    </tr>\n",
       "    <tr>\n",
       "      <td>317</td>\n",
       "      <td>15</td>\n",
       "      <td>12.838879</td>\n",
       "    </tr>\n",
       "  </tbody>\n",
       "</table>\n",
       "</div>"
      ],
      "text/plain": [
       "      Actual_Wins  Wins_Predicted\n",
       "191            14       12.884170\n",
       "482            13       12.656617\n",
       "805            10       10.389392\n",
       "843            16       16.446402\n",
       "212            14       20.438902\n",
       "1144           13       13.015272\n",
       "603            15       15.578966\n",
       "565            17       14.601059\n",
       "136            21       14.533269\n",
       "317            15       12.838879"
      ]
     },
     "execution_count": 78,
     "metadata": {},
     "output_type": "execute_result"
    }
   ],
   "source": [
    "wins_pred_df.head(10)"
   ]
  },
  {
   "cell_type": "code",
   "execution_count": 109,
   "metadata": {},
   "outputs": [
    {
     "data": {
      "text/plain": [
       "([<matplotlib.axis.YTick at 0x1a30429f50>,\n",
       "  <matplotlib.axis.YTick at 0x1a30429750>,\n",
       "  <matplotlib.axis.YTick at 0x1a3036b450>,\n",
       "  <matplotlib.axis.YTick at 0x1a30693750>,\n",
       "  <matplotlib.axis.YTick at 0x1a306930d0>,\n",
       "  <matplotlib.axis.YTick at 0x1a3069fd50>,\n",
       "  <matplotlib.axis.YTick at 0x1a306a6350>,\n",
       "  <matplotlib.axis.YTick at 0x1a306a6990>,\n",
       "  <matplotlib.axis.YTick at 0x1a306a6a90>,\n",
       "  <matplotlib.axis.YTick at 0x1a306ad650>,\n",
       "  <matplotlib.axis.YTick at 0x1a306adc50>,\n",
       "  <matplotlib.axis.YTick at 0x1a306b52d0>,\n",
       "  <matplotlib.axis.YTick at 0x1a306a6ed0>,\n",
       "  <matplotlib.axis.YTick at 0x1a3069fa10>,\n",
       "  <matplotlib.axis.YTick at 0x1a306b5750>,\n",
       "  <matplotlib.axis.YTick at 0x1a306b5e50>,\n",
       "  <matplotlib.axis.YTick at 0x1a306bc4d0>,\n",
       "  <matplotlib.axis.YTick at 0x1a306bcb10>,\n",
       "  <matplotlib.axis.YTick at 0x1a306c41d0>,\n",
       "  <matplotlib.axis.YTick at 0x1a306c47d0>],\n",
       " <a list of 20 Text yticklabel objects>)"
      ]
     },
     "execution_count": 109,
     "metadata": {},
     "output_type": "execute_result"
    },
    {
     "data": {
      "image/png": "[encoded data removed]",
      "text/plain": [
       "<Figure size 1224x504 with 1 Axes>"
      ]
     },
     "metadata": {
      "needs_background": "light"
     },
     "output_type": "display_data"
    }
   ],
   "source": [
    "wins_pred_df.head(20).plot(kind = 'bar', figsize = (17,7))\n",
    "plt.yticks(np.arange(0, 39, step=2))"
   ]
  },
  {
   "cell_type": "code",
   "execution_count": 111,
   "metadata": {},
   "outputs": [
    {
     "ename": "TypeError",
     "evalue": "scatter() missing 2 required positional arguments: 'x' and 'y'",
     "output_type": "error",
     "traceback": [
      "\u001b[0;31m---------------------------------------------------------------------------\u001b[0m",
      "\u001b[0;31mTypeError\u001b[0m                                 Traceback (most recent call last)",
      "\u001b[0;32m<ipython-input-111-63073ae9478c>\u001b[0m in \u001b[0;36m<module>\u001b[0;34m\u001b[0m\n\u001b[0;32m----> 1\u001b[0;31m \u001b[0mwins_pred_df\u001b[0m\u001b[0;34m.\u001b[0m\u001b[0mplot\u001b[0m\u001b[0;34m.\u001b[0m\u001b[0mscatter\u001b[0m\u001b[0;34m(\u001b[0m\u001b[0;34m)\u001b[0m\u001b[0;34m\u001b[0m\u001b[0;34m\u001b[0m\u001b[0m\n\u001b[0m",
      "\u001b[0;31mTypeError\u001b[0m: scatter() missing 2 required positional arguments: 'x' and 'y'"
     ]
    }
   ],
   "source": [
    "wins_pred_df.plot()"
   ]
  },
  {
   "cell_type": "code",
   "execution_count": 113,
   "metadata": {},
   "outputs": [
    {
     "name": "stdout",
     "output_type": "stream",
     "text": [
      "Mean Absolute Error: 2.754330435311909\n",
      "Mean Squared Error: 11.895619042163815\n",
      "Root Mean Squared Error: 3.4490026155634927\n"
     ]
    }
   ],
   "source": [
    "print('Mean Absolute Error:', metrics.mean_absolute_error(Y_test, wins_pred))  \n",
    "print('Mean Squared Error:', metrics.mean_squared_error(Y_test, wins_pred))  \n",
    "print('Root Mean Squared Error:', np.sqrt(metrics.mean_squared_error(Y_test, wins_pred)))"
   ]
  },
  {
   "cell_type": "code",
   "execution_count": null,
   "metadata": {},
   "outputs": [],
   "source": []
  }
 ],
 "metadata": {
  "kernelspec": {
   "display_name": "Python 3",
   "language": "python",
   "name": "python3"
  },
  "language_info": {
   "codemirror_mode": {
    "name": "ipython",
    "version": 3
   },
   "file_extension": ".py",
   "mimetype": "text/x-python",
   "name": "python",
   "nbconvert_exporter": "python",
   "pygments_lexer": "ipython3",
   "version": "3.7.4"
  }
 },
 "nbformat": 4,
 "nbformat_minor": 2
}
