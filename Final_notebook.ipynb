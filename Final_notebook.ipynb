{
 "cells": [
  {
   "cell_type": "markdown",
   "metadata": {},
   "source": [
    "# Predicitng College Basketball Teams Total Wins using Linear Regression "
   ]
  },
  {
   "cell_type": "markdown",
   "metadata": {},
   "source": [
    "## Importing Libraries "
   ]
  },
  {
   "cell_type": "code",
   "execution_count": 1,
   "metadata": {},
   "outputs": [],
   "source": [
    "import pandas as pd  \n",
    "import numpy as np  \n",
    "import matplotlib.pyplot as plt  \n",
    "import seaborn as sns \n",
    "from sklearn.model_selection import train_test_split \n",
    "from sklearn.linear_model import LinearRegression\n",
    "from sklearn import metrics\n",
    "from statsmodels.formula.api import ols\n",
    "%matplotlib inline"
   ]
  },
  {
   "cell_type": "markdown",
   "metadata": {},
   "source": [
    "## Loading in Dataset"
   ]
  },
  {
   "cell_type": "code",
   "execution_count": 9,
   "metadata": {},
   "outputs": [],
   "source": [
    "file = 'file:///Users/chrisfiorentine/Downloads/college-basketball-dataset%20(1)/cbb.csv'"
   ]
  },
  {
   "cell_type": "markdown",
   "metadata": {},
   "source": [
    "### Turn Dataset into DataFrame"
   ]
  },
  {
   "cell_type": "code",
   "execution_count": 113,
   "metadata": {},
   "outputs": [
    {
     "data": {
      "text/html": [
       "<div>\n",
       "<style scoped>\n",
       "    .dataframe tbody tr th:only-of-type {\n",
       "        vertical-align: middle;\n",
       "    }\n",
       "\n",
       "    .dataframe tbody tr th {\n",
       "        vertical-align: top;\n",
       "    }\n",
       "\n",
       "    .dataframe thead th {\n",
       "        text-align: right;\n",
       "    }\n",
       "</style>\n",
       "<table border=\"1\" class=\"dataframe\">\n",
       "  <thead>\n",
       "    <tr style=\"text-align: right;\">\n",
       "      <th></th>\n",
       "      <th>TEAM</th>\n",
       "      <th>CONF</th>\n",
       "      <th>G</th>\n",
       "      <th>W</th>\n",
       "      <th>ADJOE</th>\n",
       "      <th>ADJDE</th>\n",
       "      <th>BARTHAG</th>\n",
       "      <th>EFG_O</th>\n",
       "      <th>EFG_D</th>\n",
       "      <th>TOR</th>\n",
       "      <th>...</th>\n",
       "      <th>FTRD</th>\n",
       "      <th>2P_O</th>\n",
       "      <th>2P_D</th>\n",
       "      <th>3P_O</th>\n",
       "      <th>3P_D</th>\n",
       "      <th>ADJ_T</th>\n",
       "      <th>WAB</th>\n",
       "      <th>POSTSEASON</th>\n",
       "      <th>SEED</th>\n",
       "      <th>YEAR</th>\n",
       "    </tr>\n",
       "  </thead>\n",
       "  <tbody>\n",
       "    <tr>\n",
       "      <td>0</td>\n",
       "      <td>North Carolina</td>\n",
       "      <td>ACC</td>\n",
       "      <td>40</td>\n",
       "      <td>33</td>\n",
       "      <td>123.3</td>\n",
       "      <td>94.9</td>\n",
       "      <td>0.9531</td>\n",
       "      <td>52.6</td>\n",
       "      <td>48.1</td>\n",
       "      <td>15.4</td>\n",
       "      <td>...</td>\n",
       "      <td>30.4</td>\n",
       "      <td>53.9</td>\n",
       "      <td>44.6</td>\n",
       "      <td>32.7</td>\n",
       "      <td>36.2</td>\n",
       "      <td>71.7</td>\n",
       "      <td>8.6</td>\n",
       "      <td>2ND</td>\n",
       "      <td>1.0</td>\n",
       "      <td>2016</td>\n",
       "    </tr>\n",
       "    <tr>\n",
       "      <td>1</td>\n",
       "      <td>Wisconsin</td>\n",
       "      <td>B10</td>\n",
       "      <td>40</td>\n",
       "      <td>36</td>\n",
       "      <td>129.1</td>\n",
       "      <td>93.6</td>\n",
       "      <td>0.9758</td>\n",
       "      <td>54.8</td>\n",
       "      <td>47.7</td>\n",
       "      <td>12.4</td>\n",
       "      <td>...</td>\n",
       "      <td>22.4</td>\n",
       "      <td>54.8</td>\n",
       "      <td>44.7</td>\n",
       "      <td>36.5</td>\n",
       "      <td>37.5</td>\n",
       "      <td>59.3</td>\n",
       "      <td>11.3</td>\n",
       "      <td>2ND</td>\n",
       "      <td>1.0</td>\n",
       "      <td>2015</td>\n",
       "    </tr>\n",
       "    <tr>\n",
       "      <td>2</td>\n",
       "      <td>Michigan</td>\n",
       "      <td>B10</td>\n",
       "      <td>40</td>\n",
       "      <td>33</td>\n",
       "      <td>114.4</td>\n",
       "      <td>90.4</td>\n",
       "      <td>0.9375</td>\n",
       "      <td>53.9</td>\n",
       "      <td>47.7</td>\n",
       "      <td>14.0</td>\n",
       "      <td>...</td>\n",
       "      <td>30.0</td>\n",
       "      <td>54.7</td>\n",
       "      <td>46.8</td>\n",
       "      <td>35.2</td>\n",
       "      <td>33.2</td>\n",
       "      <td>65.9</td>\n",
       "      <td>6.9</td>\n",
       "      <td>2ND</td>\n",
       "      <td>3.0</td>\n",
       "      <td>2018</td>\n",
       "    </tr>\n",
       "    <tr>\n",
       "      <td>3</td>\n",
       "      <td>Texas Tech</td>\n",
       "      <td>B12</td>\n",
       "      <td>38</td>\n",
       "      <td>31</td>\n",
       "      <td>115.2</td>\n",
       "      <td>85.2</td>\n",
       "      <td>0.9696</td>\n",
       "      <td>53.5</td>\n",
       "      <td>43.0</td>\n",
       "      <td>17.7</td>\n",
       "      <td>...</td>\n",
       "      <td>36.6</td>\n",
       "      <td>52.8</td>\n",
       "      <td>41.9</td>\n",
       "      <td>36.5</td>\n",
       "      <td>29.7</td>\n",
       "      <td>67.5</td>\n",
       "      <td>7.0</td>\n",
       "      <td>2ND</td>\n",
       "      <td>3.0</td>\n",
       "      <td>2019</td>\n",
       "    </tr>\n",
       "    <tr>\n",
       "      <td>4</td>\n",
       "      <td>Gonzaga</td>\n",
       "      <td>WCC</td>\n",
       "      <td>39</td>\n",
       "      <td>37</td>\n",
       "      <td>117.8</td>\n",
       "      <td>86.3</td>\n",
       "      <td>0.9728</td>\n",
       "      <td>56.6</td>\n",
       "      <td>41.1</td>\n",
       "      <td>16.2</td>\n",
       "      <td>...</td>\n",
       "      <td>26.9</td>\n",
       "      <td>56.3</td>\n",
       "      <td>40.0</td>\n",
       "      <td>38.2</td>\n",
       "      <td>29.0</td>\n",
       "      <td>71.5</td>\n",
       "      <td>7.7</td>\n",
       "      <td>2ND</td>\n",
       "      <td>1.0</td>\n",
       "      <td>2017</td>\n",
       "    </tr>\n",
       "    <tr>\n",
       "      <td>...</td>\n",
       "      <td>...</td>\n",
       "      <td>...</td>\n",
       "      <td>...</td>\n",
       "      <td>...</td>\n",
       "      <td>...</td>\n",
       "      <td>...</td>\n",
       "      <td>...</td>\n",
       "      <td>...</td>\n",
       "      <td>...</td>\n",
       "      <td>...</td>\n",
       "      <td>...</td>\n",
       "      <td>...</td>\n",
       "      <td>...</td>\n",
       "      <td>...</td>\n",
       "      <td>...</td>\n",
       "      <td>...</td>\n",
       "      <td>...</td>\n",
       "      <td>...</td>\n",
       "      <td>...</td>\n",
       "      <td>...</td>\n",
       "      <td>...</td>\n",
       "    </tr>\n",
       "    <tr>\n",
       "      <td>1752</td>\n",
       "      <td>Texas A&amp;M</td>\n",
       "      <td>SEC</td>\n",
       "      <td>35</td>\n",
       "      <td>22</td>\n",
       "      <td>111.2</td>\n",
       "      <td>94.7</td>\n",
       "      <td>0.8640</td>\n",
       "      <td>51.4</td>\n",
       "      <td>46.9</td>\n",
       "      <td>19.2</td>\n",
       "      <td>...</td>\n",
       "      <td>27.6</td>\n",
       "      <td>52.5</td>\n",
       "      <td>45.7</td>\n",
       "      <td>32.9</td>\n",
       "      <td>32.6</td>\n",
       "      <td>70.3</td>\n",
       "      <td>1.9</td>\n",
       "      <td>S16</td>\n",
       "      <td>7.0</td>\n",
       "      <td>2018</td>\n",
       "    </tr>\n",
       "    <tr>\n",
       "      <td>1753</td>\n",
       "      <td>LSU</td>\n",
       "      <td>SEC</td>\n",
       "      <td>35</td>\n",
       "      <td>28</td>\n",
       "      <td>117.9</td>\n",
       "      <td>96.6</td>\n",
       "      <td>0.9081</td>\n",
       "      <td>51.2</td>\n",
       "      <td>49.9</td>\n",
       "      <td>17.9</td>\n",
       "      <td>...</td>\n",
       "      <td>33.1</td>\n",
       "      <td>52.9</td>\n",
       "      <td>49.4</td>\n",
       "      <td>31.9</td>\n",
       "      <td>33.7</td>\n",
       "      <td>71.2</td>\n",
       "      <td>7.3</td>\n",
       "      <td>S16</td>\n",
       "      <td>3.0</td>\n",
       "      <td>2019</td>\n",
       "    </tr>\n",
       "    <tr>\n",
       "      <td>1754</td>\n",
       "      <td>Tennessee</td>\n",
       "      <td>SEC</td>\n",
       "      <td>36</td>\n",
       "      <td>31</td>\n",
       "      <td>122.8</td>\n",
       "      <td>95.2</td>\n",
       "      <td>0.9488</td>\n",
       "      <td>55.3</td>\n",
       "      <td>48.1</td>\n",
       "      <td>15.8</td>\n",
       "      <td>...</td>\n",
       "      <td>34.9</td>\n",
       "      <td>55.4</td>\n",
       "      <td>44.7</td>\n",
       "      <td>36.7</td>\n",
       "      <td>35.4</td>\n",
       "      <td>68.8</td>\n",
       "      <td>9.9</td>\n",
       "      <td>S16</td>\n",
       "      <td>2.0</td>\n",
       "      <td>2019</td>\n",
       "    </tr>\n",
       "    <tr>\n",
       "      <td>1755</td>\n",
       "      <td>Gonzaga</td>\n",
       "      <td>WCC</td>\n",
       "      <td>35</td>\n",
       "      <td>27</td>\n",
       "      <td>117.4</td>\n",
       "      <td>94.5</td>\n",
       "      <td>0.9238</td>\n",
       "      <td>55.2</td>\n",
       "      <td>44.8</td>\n",
       "      <td>17.1</td>\n",
       "      <td>...</td>\n",
       "      <td>28.1</td>\n",
       "      <td>54.3</td>\n",
       "      <td>44.4</td>\n",
       "      <td>37.8</td>\n",
       "      <td>30.3</td>\n",
       "      <td>68.2</td>\n",
       "      <td>2.1</td>\n",
       "      <td>S16</td>\n",
       "      <td>11.0</td>\n",
       "      <td>2016</td>\n",
       "    </tr>\n",
       "    <tr>\n",
       "      <td>1756</td>\n",
       "      <td>Gonzaga</td>\n",
       "      <td>WCC</td>\n",
       "      <td>37</td>\n",
       "      <td>32</td>\n",
       "      <td>117.2</td>\n",
       "      <td>94.9</td>\n",
       "      <td>0.9192</td>\n",
       "      <td>57.0</td>\n",
       "      <td>47.1</td>\n",
       "      <td>16.1</td>\n",
       "      <td>...</td>\n",
       "      <td>29.1</td>\n",
       "      <td>58.2</td>\n",
       "      <td>44.1</td>\n",
       "      <td>36.8</td>\n",
       "      <td>35.0</td>\n",
       "      <td>70.5</td>\n",
       "      <td>4.9</td>\n",
       "      <td>S16</td>\n",
       "      <td>4.0</td>\n",
       "      <td>2018</td>\n",
       "    </tr>\n",
       "  </tbody>\n",
       "</table>\n",
       "<p>1757 rows × 24 columns</p>\n",
       "</div>"
      ],
      "text/plain": [
       "                TEAM CONF   G   W  ADJOE  ADJDE  BARTHAG  EFG_O  EFG_D   TOR  \\\n",
       "0     North Carolina  ACC  40  33  123.3   94.9   0.9531   52.6   48.1  15.4   \n",
       "1          Wisconsin  B10  40  36  129.1   93.6   0.9758   54.8   47.7  12.4   \n",
       "2           Michigan  B10  40  33  114.4   90.4   0.9375   53.9   47.7  14.0   \n",
       "3         Texas Tech  B12  38  31  115.2   85.2   0.9696   53.5   43.0  17.7   \n",
       "4            Gonzaga  WCC  39  37  117.8   86.3   0.9728   56.6   41.1  16.2   \n",
       "...              ...  ...  ..  ..    ...    ...      ...    ...    ...   ...   \n",
       "1752       Texas A&M  SEC  35  22  111.2   94.7   0.8640   51.4   46.9  19.2   \n",
       "1753             LSU  SEC  35  28  117.9   96.6   0.9081   51.2   49.9  17.9   \n",
       "1754       Tennessee  SEC  36  31  122.8   95.2   0.9488   55.3   48.1  15.8   \n",
       "1755         Gonzaga  WCC  35  27  117.4   94.5   0.9238   55.2   44.8  17.1   \n",
       "1756         Gonzaga  WCC  37  32  117.2   94.9   0.9192   57.0   47.1  16.1   \n",
       "\n",
       "      ...  FTRD  2P_O  2P_D  3P_O  3P_D  ADJ_T   WAB  POSTSEASON  SEED  YEAR  \n",
       "0     ...  30.4  53.9  44.6  32.7  36.2   71.7   8.6         2ND   1.0  2016  \n",
       "1     ...  22.4  54.8  44.7  36.5  37.5   59.3  11.3         2ND   1.0  2015  \n",
       "2     ...  30.0  54.7  46.8  35.2  33.2   65.9   6.9         2ND   3.0  2018  \n",
       "3     ...  36.6  52.8  41.9  36.5  29.7   67.5   7.0         2ND   3.0  2019  \n",
       "4     ...  26.9  56.3  40.0  38.2  29.0   71.5   7.7         2ND   1.0  2017  \n",
       "...   ...   ...   ...   ...   ...   ...    ...   ...         ...   ...   ...  \n",
       "1752  ...  27.6  52.5  45.7  32.9  32.6   70.3   1.9         S16   7.0  2018  \n",
       "1753  ...  33.1  52.9  49.4  31.9  33.7   71.2   7.3         S16   3.0  2019  \n",
       "1754  ...  34.9  55.4  44.7  36.7  35.4   68.8   9.9         S16   2.0  2019  \n",
       "1755  ...  28.1  54.3  44.4  37.8  30.3   68.2   2.1         S16  11.0  2016  \n",
       "1756  ...  29.1  58.2  44.1  36.8  35.0   70.5   4.9         S16   4.0  2018  \n",
       "\n",
       "[1757 rows x 24 columns]"
      ]
     },
     "execution_count": 113,
     "metadata": {},
     "output_type": "execute_result"
    }
   ],
   "source": [
    "df = pd.read_csv(file)\n",
    "df"
   ]
  },
  {
   "cell_type": "markdown",
   "metadata": {},
   "source": [
    "## Exploring Dataset"
   ]
  },
  {
   "cell_type": "markdown",
   "metadata": {},
   "source": [
    "### Showing Dscriptive Statistics "
   ]
  },
  {
   "cell_type": "code",
   "execution_count": 12,
   "metadata": {},
   "outputs": [
    {
     "data": {
      "text/html": [
       "<div>\n",
       "<style scoped>\n",
       "    .dataframe tbody tr th:only-of-type {\n",
       "        vertical-align: middle;\n",
       "    }\n",
       "\n",
       "    .dataframe tbody tr th {\n",
       "        vertical-align: top;\n",
       "    }\n",
       "\n",
       "    .dataframe thead th {\n",
       "        text-align: right;\n",
       "    }\n",
       "</style>\n",
       "<table border=\"1\" class=\"dataframe\">\n",
       "  <thead>\n",
       "    <tr style=\"text-align: right;\">\n",
       "      <th></th>\n",
       "      <th>G</th>\n",
       "      <th>W</th>\n",
       "      <th>ADJOE</th>\n",
       "      <th>ADJDE</th>\n",
       "      <th>BARTHAG</th>\n",
       "      <th>EFG_O</th>\n",
       "      <th>EFG_D</th>\n",
       "      <th>TOR</th>\n",
       "      <th>TORD</th>\n",
       "      <th>ORB</th>\n",
       "      <th>...</th>\n",
       "      <th>FTR</th>\n",
       "      <th>FTRD</th>\n",
       "      <th>2P_O</th>\n",
       "      <th>2P_D</th>\n",
       "      <th>3P_O</th>\n",
       "      <th>3P_D</th>\n",
       "      <th>ADJ_T</th>\n",
       "      <th>WAB</th>\n",
       "      <th>SEED</th>\n",
       "      <th>YEAR</th>\n",
       "    </tr>\n",
       "  </thead>\n",
       "  <tbody>\n",
       "    <tr>\n",
       "      <td>count</td>\n",
       "      <td>1757.000000</td>\n",
       "      <td>1757.000000</td>\n",
       "      <td>1757.000000</td>\n",
       "      <td>1757.000000</td>\n",
       "      <td>1757.000000</td>\n",
       "      <td>1757.000000</td>\n",
       "      <td>1757.000000</td>\n",
       "      <td>1757.000000</td>\n",
       "      <td>1757.000000</td>\n",
       "      <td>1757.000000</td>\n",
       "      <td>...</td>\n",
       "      <td>1757.000000</td>\n",
       "      <td>1757.000000</td>\n",
       "      <td>1757.000000</td>\n",
       "      <td>1757.000000</td>\n",
       "      <td>1757.000000</td>\n",
       "      <td>1757.000000</td>\n",
       "      <td>1757.000000</td>\n",
       "      <td>1757.000000</td>\n",
       "      <td>340.000000</td>\n",
       "      <td>1757.000000</td>\n",
       "    </tr>\n",
       "    <tr>\n",
       "      <td>mean</td>\n",
       "      <td>31.523051</td>\n",
       "      <td>16.513375</td>\n",
       "      <td>103.542402</td>\n",
       "      <td>103.542459</td>\n",
       "      <td>0.493398</td>\n",
       "      <td>50.120489</td>\n",
       "      <td>50.312806</td>\n",
       "      <td>18.591804</td>\n",
       "      <td>18.521286</td>\n",
       "      <td>29.277120</td>\n",
       "      <td>...</td>\n",
       "      <td>35.097894</td>\n",
       "      <td>35.373307</td>\n",
       "      <td>49.135970</td>\n",
       "      <td>49.298065</td>\n",
       "      <td>34.563517</td>\n",
       "      <td>34.744792</td>\n",
       "      <td>68.422254</td>\n",
       "      <td>-7.837109</td>\n",
       "      <td>8.791176</td>\n",
       "      <td>2017.002277</td>\n",
       "    </tr>\n",
       "    <tr>\n",
       "      <td>std</td>\n",
       "      <td>2.602819</td>\n",
       "      <td>6.545571</td>\n",
       "      <td>7.304975</td>\n",
       "      <td>6.472676</td>\n",
       "      <td>0.255291</td>\n",
       "      <td>3.130430</td>\n",
       "      <td>2.859604</td>\n",
       "      <td>1.991637</td>\n",
       "      <td>2.108968</td>\n",
       "      <td>4.101782</td>\n",
       "      <td>...</td>\n",
       "      <td>4.884599</td>\n",
       "      <td>5.900935</td>\n",
       "      <td>3.422136</td>\n",
       "      <td>3.288265</td>\n",
       "      <td>2.742323</td>\n",
       "      <td>2.369727</td>\n",
       "      <td>3.258920</td>\n",
       "      <td>6.988694</td>\n",
       "      <td>4.674090</td>\n",
       "      <td>1.415419</td>\n",
       "    </tr>\n",
       "    <tr>\n",
       "      <td>min</td>\n",
       "      <td>24.000000</td>\n",
       "      <td>0.000000</td>\n",
       "      <td>76.700000</td>\n",
       "      <td>84.000000</td>\n",
       "      <td>0.007700</td>\n",
       "      <td>39.400000</td>\n",
       "      <td>39.600000</td>\n",
       "      <td>12.400000</td>\n",
       "      <td>10.200000</td>\n",
       "      <td>15.000000</td>\n",
       "      <td>...</td>\n",
       "      <td>21.600000</td>\n",
       "      <td>21.800000</td>\n",
       "      <td>37.700000</td>\n",
       "      <td>37.700000</td>\n",
       "      <td>25.200000</td>\n",
       "      <td>27.100000</td>\n",
       "      <td>57.200000</td>\n",
       "      <td>-25.200000</td>\n",
       "      <td>1.000000</td>\n",
       "      <td>2015.000000</td>\n",
       "    </tr>\n",
       "    <tr>\n",
       "      <td>25%</td>\n",
       "      <td>30.000000</td>\n",
       "      <td>12.000000</td>\n",
       "      <td>98.600000</td>\n",
       "      <td>98.900000</td>\n",
       "      <td>0.283700</td>\n",
       "      <td>48.100000</td>\n",
       "      <td>48.400000</td>\n",
       "      <td>17.200000</td>\n",
       "      <td>17.100000</td>\n",
       "      <td>26.600000</td>\n",
       "      <td>...</td>\n",
       "      <td>31.700000</td>\n",
       "      <td>31.200000</td>\n",
       "      <td>46.900000</td>\n",
       "      <td>47.100000</td>\n",
       "      <td>32.600000</td>\n",
       "      <td>33.100000</td>\n",
       "      <td>66.400000</td>\n",
       "      <td>-13.000000</td>\n",
       "      <td>5.000000</td>\n",
       "      <td>2016.000000</td>\n",
       "    </tr>\n",
       "    <tr>\n",
       "      <td>50%</td>\n",
       "      <td>31.000000</td>\n",
       "      <td>16.000000</td>\n",
       "      <td>103.100000</td>\n",
       "      <td>103.800000</td>\n",
       "      <td>0.474000</td>\n",
       "      <td>50.000000</td>\n",
       "      <td>50.300000</td>\n",
       "      <td>18.500000</td>\n",
       "      <td>18.500000</td>\n",
       "      <td>29.400000</td>\n",
       "      <td>...</td>\n",
       "      <td>34.900000</td>\n",
       "      <td>34.900000</td>\n",
       "      <td>49.000000</td>\n",
       "      <td>49.300000</td>\n",
       "      <td>34.600000</td>\n",
       "      <td>34.700000</td>\n",
       "      <td>68.500000</td>\n",
       "      <td>-8.400000</td>\n",
       "      <td>9.000000</td>\n",
       "      <td>2017.000000</td>\n",
       "    </tr>\n",
       "    <tr>\n",
       "      <td>75%</td>\n",
       "      <td>33.000000</td>\n",
       "      <td>21.000000</td>\n",
       "      <td>108.100000</td>\n",
       "      <td>108.000000</td>\n",
       "      <td>0.710600</td>\n",
       "      <td>52.100000</td>\n",
       "      <td>52.300000</td>\n",
       "      <td>19.800000</td>\n",
       "      <td>19.900000</td>\n",
       "      <td>31.900000</td>\n",
       "      <td>...</td>\n",
       "      <td>38.300000</td>\n",
       "      <td>39.200000</td>\n",
       "      <td>51.400000</td>\n",
       "      <td>51.500000</td>\n",
       "      <td>36.400000</td>\n",
       "      <td>36.300000</td>\n",
       "      <td>70.400000</td>\n",
       "      <td>-3.100000</td>\n",
       "      <td>13.000000</td>\n",
       "      <td>2018.000000</td>\n",
       "    </tr>\n",
       "    <tr>\n",
       "      <td>max</td>\n",
       "      <td>40.000000</td>\n",
       "      <td>38.000000</td>\n",
       "      <td>129.100000</td>\n",
       "      <td>124.000000</td>\n",
       "      <td>0.984200</td>\n",
       "      <td>59.800000</td>\n",
       "      <td>59.500000</td>\n",
       "      <td>26.100000</td>\n",
       "      <td>28.000000</td>\n",
       "      <td>42.100000</td>\n",
       "      <td>...</td>\n",
       "      <td>51.000000</td>\n",
       "      <td>58.500000</td>\n",
       "      <td>62.600000</td>\n",
       "      <td>61.200000</td>\n",
       "      <td>44.100000</td>\n",
       "      <td>43.100000</td>\n",
       "      <td>83.400000</td>\n",
       "      <td>13.100000</td>\n",
       "      <td>16.000000</td>\n",
       "      <td>2019.000000</td>\n",
       "    </tr>\n",
       "  </tbody>\n",
       "</table>\n",
       "<p>8 rows × 21 columns</p>\n",
       "</div>"
      ],
      "text/plain": [
       "                 G            W        ADJOE        ADJDE      BARTHAG  \\\n",
       "count  1757.000000  1757.000000  1757.000000  1757.000000  1757.000000   \n",
       "mean     31.523051    16.513375   103.542402   103.542459     0.493398   \n",
       "std       2.602819     6.545571     7.304975     6.472676     0.255291   \n",
       "min      24.000000     0.000000    76.700000    84.000000     0.007700   \n",
       "25%      30.000000    12.000000    98.600000    98.900000     0.283700   \n",
       "50%      31.000000    16.000000   103.100000   103.800000     0.474000   \n",
       "75%      33.000000    21.000000   108.100000   108.000000     0.710600   \n",
       "max      40.000000    38.000000   129.100000   124.000000     0.984200   \n",
       "\n",
       "             EFG_O        EFG_D          TOR         TORD          ORB  ...  \\\n",
       "count  1757.000000  1757.000000  1757.000000  1757.000000  1757.000000  ...   \n",
       "mean     50.120489    50.312806    18.591804    18.521286    29.277120  ...   \n",
       "std       3.130430     2.859604     1.991637     2.108968     4.101782  ...   \n",
       "min      39.400000    39.600000    12.400000    10.200000    15.000000  ...   \n",
       "25%      48.100000    48.400000    17.200000    17.100000    26.600000  ...   \n",
       "50%      50.000000    50.300000    18.500000    18.500000    29.400000  ...   \n",
       "75%      52.100000    52.300000    19.800000    19.900000    31.900000  ...   \n",
       "max      59.800000    59.500000    26.100000    28.000000    42.100000  ...   \n",
       "\n",
       "               FTR         FTRD         2P_O         2P_D         3P_O  \\\n",
       "count  1757.000000  1757.000000  1757.000000  1757.000000  1757.000000   \n",
       "mean     35.097894    35.373307    49.135970    49.298065    34.563517   \n",
       "std       4.884599     5.900935     3.422136     3.288265     2.742323   \n",
       "min      21.600000    21.800000    37.700000    37.700000    25.200000   \n",
       "25%      31.700000    31.200000    46.900000    47.100000    32.600000   \n",
       "50%      34.900000    34.900000    49.000000    49.300000    34.600000   \n",
       "75%      38.300000    39.200000    51.400000    51.500000    36.400000   \n",
       "max      51.000000    58.500000    62.600000    61.200000    44.100000   \n",
       "\n",
       "              3P_D        ADJ_T          WAB        SEED         YEAR  \n",
       "count  1757.000000  1757.000000  1757.000000  340.000000  1757.000000  \n",
       "mean     34.744792    68.422254    -7.837109    8.791176  2017.002277  \n",
       "std       2.369727     3.258920     6.988694    4.674090     1.415419  \n",
       "min      27.100000    57.200000   -25.200000    1.000000  2015.000000  \n",
       "25%      33.100000    66.400000   -13.000000    5.000000  2016.000000  \n",
       "50%      34.700000    68.500000    -8.400000    9.000000  2017.000000  \n",
       "75%      36.300000    70.400000    -3.100000   13.000000  2018.000000  \n",
       "max      43.100000    83.400000    13.100000   16.000000  2019.000000  \n",
       "\n",
       "[8 rows x 21 columns]"
      ]
     },
     "execution_count": 12,
     "metadata": {},
     "output_type": "execute_result"
    }
   ],
   "source": [
    "df.describe()"
   ]
  },
  {
   "cell_type": "markdown",
   "metadata": {},
   "source": [
    "### Showing Bow Big Dataset is"
   ]
  },
  {
   "cell_type": "code",
   "execution_count": 14,
   "metadata": {},
   "outputs": [
    {
     "data": {
      "text/plain": [
       "(1757, 24)"
      ]
     },
     "execution_count": 14,
     "metadata": {},
     "output_type": "execute_result"
    }
   ],
   "source": [
    "df.shape #1757 rows 24 columns "
   ]
  },
  {
   "cell_type": "code",
   "execution_count": 395,
   "metadata": {},
   "outputs": [
    {
     "data": {
      "text/plain": [
       "TEAM          False\n",
       "CONF          False\n",
       "G             False\n",
       "W             False\n",
       "ADJOE         False\n",
       "ADJDE         False\n",
       "BARTHAG       False\n",
       "EFG_O         False\n",
       "EFG_D         False\n",
       "TOR           False\n",
       "TORD          False\n",
       "ORB           False\n",
       "DRB           False\n",
       "FTR           False\n",
       "FTRD          False\n",
       "2P_O          False\n",
       "2P_D          False\n",
       "3P_O          False\n",
       "3P_D          False\n",
       "ADJ_T         False\n",
       "WAB           False\n",
       "POSTSEASON     True\n",
       "SEED           True\n",
       "YEAR          False\n",
       "dtype: bool"
      ]
     },
     "execution_count": 395,
     "metadata": {},
     "output_type": "execute_result"
    }
   ],
   "source": [
    "df.isnull().any() # Checking for any null values "
   ]
  },
  {
   "cell_type": "markdown",
   "metadata": {},
   "source": [
    "## Key for columns "
   ]
  },
  {
   "cell_type": "markdown",
   "metadata": {},
   "source": [
    "G = Games   \n",
    "W = Wins   \n",
    "ADJOE = Adjusted Offensive Efficency   \n",
    "ADJDE = Adjusted Defensive Efficency  \n",
    "BARTHAG = Power Rating (Chance of beating an average Division I team)  \n",
    "EFG_O = Effective Field Goal Percentage Shot  \n",
    "EFG_D = Effective Field Goal Percentage Allowed  \n",
    "TOR = Turnover Percentage Allowed (Turnover Rate)  \n",
    "TORD = Turnover Percentage Committed (Steal Rate)  \n",
    "ORB = Offensive Rebound Percentage  \n",
    "DRB = Defensive Rebound Percentage  \n",
    "FTR = Free Throw Rate (How often the given team shoots Free Throws)  \n",
    "FTRD = Free Throw Rate Allowed  \n",
    "2P_O = Two-Point Shooting Percentage  \n",
    "2P_D = Two-Point Shooting Percentage Allowed  \n",
    "3P_O = Three-Point Shooting Percentage  \n",
    "3P_D = Three-Point Shooting Percentage Allowed  \n",
    "ADJ_T = Adjusted Tempo (An estimate of the tempo (possessions per 40 minutes) a team would have against the team that wants to play at an)  \n",
    "WAB = Wins Above Bubble (The bubble refers to the cut off between making the NCAA March Madness Tournament and not making it)  \n",
    "POSTSEASON = Round where the given team was eliminated or where their season ended  \n",
    "SEED = Seed in the NCAA March Madness Tournament  \n",
    "YEAR = Season"
   ]
  },
  {
   "cell_type": "markdown",
   "metadata": {},
   "source": [
    "## Exploring Descriptive Statistics for Dependent and Independent Variables for All Years "
   ]
  },
  {
   "cell_type": "markdown",
   "metadata": {},
   "source": [
    "Very important to see how the data changes from year to year. If the data changes significantly, it may be a result of how the game has changed from year to year. This may be due to a rule changes, coaching styles, or other factors. If descriptive statistics show that the game has changed significantly, it may be the result of a time series and data may be invalid. "
   ]
  },
  {
   "cell_type": "markdown",
   "metadata": {},
   "source": [
    "### Loading Datasets for every year "
   ]
  },
  {
   "cell_type": "code",
   "execution_count": 16,
   "metadata": {},
   "outputs": [],
   "source": [
    "csv_2015 = pd.read_csv('file:///Users/chrisfiorentine/Downloads/college-basketball-dataset%20(1)/cbb15.csv')\n",
    "csv_2016 = pd.read_csv('file:///Users/chrisfiorentine/Downloads/college-basketball-dataset%20(1)/cbb16.csv')\n",
    "csv_2017 = pd.read_csv('file:///Users/chrisfiorentine/Downloads/college-basketball-dataset%20(1)/cbb17.csv')\n",
    "csv_2018 = pd.read_csv('file:///Users/chrisfiorentine/Downloads/college-basketball-dataset%20(1)/cbb18.csv')\n",
    "csv_2019 = pd.read_csv('file:///Users/chrisfiorentine/Downloads/college-basketball-dataset%20(1)/cbb19.csv')"
   ]
  },
  {
   "cell_type": "markdown",
   "metadata": {},
   "source": [
    "### Turning Datasets into Data Frames"
   ]
  },
  {
   "cell_type": "code",
   "execution_count": 17,
   "metadata": {},
   "outputs": [],
   "source": [
    "df_2015 = pd.DataFrame(csv_2015)\n",
    "df_2016 = pd.DataFrame(csv_2016)\n",
    "df_2017 = pd.DataFrame(csv_2017)\n",
    "df_2018 = pd.DataFrame(csv_2018)\n",
    "df_2019 = pd.DataFrame(csv_2019)"
   ]
  },
  {
   "cell_type": "markdown",
   "metadata": {},
   "source": [
    "### Wins Stats Over all Years"
   ]
  },
  {
   "cell_type": "code",
   "execution_count": 18,
   "metadata": {},
   "outputs": [],
   "source": [
    "wins_stats_2015 = df_2015['W'].describe() \n",
    "df_wins_stats_2015 = pd.DataFrame(wins_stats_2015)"
   ]
  },
  {
   "cell_type": "code",
   "execution_count": 19,
   "metadata": {},
   "outputs": [],
   "source": [
    "wins_stats_2016 = df_2016['W'].describe()\n",
    "df_wins_stats_2016 = pd.DataFrame(wins_stats_2016)"
   ]
  },
  {
   "cell_type": "code",
   "execution_count": 20,
   "metadata": {},
   "outputs": [],
   "source": [
    "wins_stats_2017 = df_2017['W'].describe()\n",
    "df_wins_stats_2017 = pd.DataFrame(wins_stats_2017)"
   ]
  },
  {
   "cell_type": "code",
   "execution_count": 21,
   "metadata": {},
   "outputs": [],
   "source": [
    "wins_stats_2018 = df_2018['W'].describe()\n",
    "df_wins_stats_2018 = pd.DataFrame(wins_stats_2018)"
   ]
  },
  {
   "cell_type": "code",
   "execution_count": 22,
   "metadata": {},
   "outputs": [],
   "source": [
    "wins_stats_2019 = df_2019['W'].describe()\n",
    "df_wins_stats_2019 = pd.DataFrame(wins_stats_2019)"
   ]
  },
  {
   "cell_type": "code",
   "execution_count": 23,
   "metadata": {},
   "outputs": [],
   "source": [
    "wins_stats = df['W'].describe()\n",
    "df_wins_stats = pd.DataFrame(wins_stats) #Stats for wins over all years"
   ]
  },
  {
   "cell_type": "code",
   "execution_count": 97,
   "metadata": {},
   "outputs": [
    {
     "data": {
      "text/html": [
       "<div>\n",
       "<style scoped>\n",
       "    .dataframe tbody tr th:only-of-type {\n",
       "        vertical-align: middle;\n",
       "    }\n",
       "\n",
       "    .dataframe tbody tr th {\n",
       "        vertical-align: top;\n",
       "    }\n",
       "\n",
       "    .dataframe thead th {\n",
       "        text-align: right;\n",
       "    }\n",
       "</style>\n",
       "<table border=\"1\" class=\"dataframe\">\n",
       "  <thead>\n",
       "    <tr style=\"text-align: right;\">\n",
       "      <th></th>\n",
       "      <th>W</th>\n",
       "      <th>W</th>\n",
       "      <th>W</th>\n",
       "      <th>W</th>\n",
       "      <th>W</th>\n",
       "      <th>W</th>\n",
       "    </tr>\n",
       "  </thead>\n",
       "  <tbody>\n",
       "    <tr>\n",
       "      <td>count</td>\n",
       "      <td>351.000000</td>\n",
       "      <td>351.000000</td>\n",
       "      <td>351.000000</td>\n",
       "      <td>351.000000</td>\n",
       "      <td>353.000000</td>\n",
       "      <td>1757.000000</td>\n",
       "    </tr>\n",
       "    <tr>\n",
       "      <td>mean</td>\n",
       "      <td>15.666667</td>\n",
       "      <td>15.712251</td>\n",
       "      <td>17.002849</td>\n",
       "      <td>17.068376</td>\n",
       "      <td>17.113314</td>\n",
       "      <td>16.513375</td>\n",
       "    </tr>\n",
       "    <tr>\n",
       "      <td>std</td>\n",
       "      <td>6.698401</td>\n",
       "      <td>6.686006</td>\n",
       "      <td>6.456226</td>\n",
       "      <td>6.368305</td>\n",
       "      <td>6.374993</td>\n",
       "      <td>6.545571</td>\n",
       "    </tr>\n",
       "    <tr>\n",
       "      <td>min</td>\n",
       "      <td>0.000000</td>\n",
       "      <td>1.000000</td>\n",
       "      <td>2.000000</td>\n",
       "      <td>3.000000</td>\n",
       "      <td>3.000000</td>\n",
       "      <td>0.000000</td>\n",
       "    </tr>\n",
       "    <tr>\n",
       "      <td>25%</td>\n",
       "      <td>11.000000</td>\n",
       "      <td>10.000000</td>\n",
       "      <td>12.000000</td>\n",
       "      <td>12.000000</td>\n",
       "      <td>12.000000</td>\n",
       "      <td>12.000000</td>\n",
       "    </tr>\n",
       "    <tr>\n",
       "      <td>50%</td>\n",
       "      <td>15.000000</td>\n",
       "      <td>16.000000</td>\n",
       "      <td>17.000000</td>\n",
       "      <td>17.000000</td>\n",
       "      <td>17.000000</td>\n",
       "      <td>16.000000</td>\n",
       "    </tr>\n",
       "    <tr>\n",
       "      <td>75%</td>\n",
       "      <td>20.000000</td>\n",
       "      <td>21.000000</td>\n",
       "      <td>21.000000</td>\n",
       "      <td>21.000000</td>\n",
       "      <td>21.000000</td>\n",
       "      <td>21.000000</td>\n",
       "    </tr>\n",
       "    <tr>\n",
       "      <td>max</td>\n",
       "      <td>38.000000</td>\n",
       "      <td>35.000000</td>\n",
       "      <td>37.000000</td>\n",
       "      <td>36.000000</td>\n",
       "      <td>35.000000</td>\n",
       "      <td>38.000000</td>\n",
       "    </tr>\n",
       "  </tbody>\n",
       "</table>\n",
       "</div>"
      ],
      "text/plain": [
       "                W           W           W           W           W            W\n",
       "count  351.000000  351.000000  351.000000  351.000000  353.000000  1757.000000\n",
       "mean    15.666667   15.712251   17.002849   17.068376   17.113314    16.513375\n",
       "std      6.698401    6.686006    6.456226    6.368305    6.374993     6.545571\n",
       "min      0.000000    1.000000    2.000000    3.000000    3.000000     0.000000\n",
       "25%     11.000000   10.000000   12.000000   12.000000   12.000000    12.000000\n",
       "50%     15.000000   16.000000   17.000000   17.000000   17.000000    16.000000\n",
       "75%     20.000000   21.000000   21.000000   21.000000   21.000000    21.000000\n",
       "max     38.000000   35.000000   37.000000   36.000000   35.000000    38.000000"
      ]
     },
     "execution_count": 97,
     "metadata": {},
     "output_type": "execute_result"
    }
   ],
   "source": [
    "df_all_wins_stats = pd.concat([df_wins_stats_2015,df_wins_stats_2016, df_wins_stats_2017,df_wins_stats_2018,df_wins_stats_2019,df_wins_stats], axis = 1)\n",
    "df_all_wins_stats # Combining all data frames on one data frame in order from 2015 to 2019 then all years"
   ]
  },
  {
   "cell_type": "markdown",
   "metadata": {},
   "source": [
    "Average wins is fairly consistent over all years giving an average of about 16.5 wins per team "
   ]
  },
  {
   "cell_type": "markdown",
   "metadata": {},
   "source": [
    "### Games Played Stats"
   ]
  },
  {
   "cell_type": "markdown",
   "metadata": {},
   "source": [
    "Important to show all seasons play the same amount of games "
   ]
  },
  {
   "cell_type": "code",
   "execution_count": 27,
   "metadata": {},
   "outputs": [],
   "source": [
    "games_stats = df['G'].describe()\n",
    "df_game_stats = pd.DataFrame(games_stats) #Stats for all years"
   ]
  },
  {
   "cell_type": "code",
   "execution_count": 37,
   "metadata": {},
   "outputs": [],
   "source": [
    "games_stats_2015 = df_2015['G'].describe()\n",
    "df_game_stats_2015 = pd.DataFrame(games_stats_2015)"
   ]
  },
  {
   "cell_type": "code",
   "execution_count": 36,
   "metadata": {},
   "outputs": [],
   "source": [
    "games_stats_2016 = df_2016['G'].describe()\n",
    "df_game_stats_2016 = pd.DataFrame(games_stats_2016)"
   ]
  },
  {
   "cell_type": "code",
   "execution_count": 35,
   "metadata": {},
   "outputs": [],
   "source": [
    "games_stats_2017 = df_2017['G'].describe()\n",
    "df_game_stats_2017 = pd.DataFrame(games_stats_2017)"
   ]
  },
  {
   "cell_type": "code",
   "execution_count": 34,
   "metadata": {},
   "outputs": [],
   "source": [
    "games_stats_2018 = df_2018['G'].describe()\n",
    "df_game_stats_2018 = pd.DataFrame(games_stats_2018)"
   ]
  },
  {
   "cell_type": "code",
   "execution_count": 33,
   "metadata": {},
   "outputs": [],
   "source": [
    "games_stats_2019 = df_2019['G'].describe()\n",
    "df_game_stats_2019 = pd.DataFrame(games_stats_2019)"
   ]
  },
  {
   "cell_type": "code",
   "execution_count": 96,
   "metadata": {},
   "outputs": [
    {
     "data": {
      "text/html": [
       "<div>\n",
       "<style scoped>\n",
       "    .dataframe tbody tr th:only-of-type {\n",
       "        vertical-align: middle;\n",
       "    }\n",
       "\n",
       "    .dataframe tbody tr th {\n",
       "        vertical-align: top;\n",
       "    }\n",
       "\n",
       "    .dataframe thead th {\n",
       "        text-align: right;\n",
       "    }\n",
       "</style>\n",
       "<table border=\"1\" class=\"dataframe\">\n",
       "  <thead>\n",
       "    <tr style=\"text-align: right;\">\n",
       "      <th></th>\n",
       "      <th>G</th>\n",
       "      <th>G</th>\n",
       "      <th>G</th>\n",
       "      <th>G</th>\n",
       "      <th>G</th>\n",
       "      <th>G</th>\n",
       "    </tr>\n",
       "  </thead>\n",
       "  <tbody>\n",
       "    <tr>\n",
       "      <td>count</td>\n",
       "      <td>351.000000</td>\n",
       "      <td>351.000000</td>\n",
       "      <td>351.000000</td>\n",
       "      <td>351.000000</td>\n",
       "      <td>353.000000</td>\n",
       "      <td>1757.000000</td>\n",
       "    </tr>\n",
       "    <tr>\n",
       "      <td>mean</td>\n",
       "      <td>31.333333</td>\n",
       "      <td>31.430199</td>\n",
       "      <td>31.538462</td>\n",
       "      <td>31.566952</td>\n",
       "      <td>31.745042</td>\n",
       "      <td>31.523051</td>\n",
       "    </tr>\n",
       "    <tr>\n",
       "      <td>std</td>\n",
       "      <td>2.660827</td>\n",
       "      <td>2.606607</td>\n",
       "      <td>2.611639</td>\n",
       "      <td>2.615436</td>\n",
       "      <td>2.514195</td>\n",
       "      <td>2.602819</td>\n",
       "    </tr>\n",
       "    <tr>\n",
       "      <td>min</td>\n",
       "      <td>24.000000</td>\n",
       "      <td>24.000000</td>\n",
       "      <td>25.000000</td>\n",
       "      <td>24.000000</td>\n",
       "      <td>26.000000</td>\n",
       "      <td>24.000000</td>\n",
       "    </tr>\n",
       "    <tr>\n",
       "      <td>25%</td>\n",
       "      <td>29.000000</td>\n",
       "      <td>30.000000</td>\n",
       "      <td>30.000000</td>\n",
       "      <td>30.000000</td>\n",
       "      <td>30.000000</td>\n",
       "      <td>30.000000</td>\n",
       "    </tr>\n",
       "    <tr>\n",
       "      <td>50%</td>\n",
       "      <td>31.000000</td>\n",
       "      <td>31.000000</td>\n",
       "      <td>31.000000</td>\n",
       "      <td>31.000000</td>\n",
       "      <td>31.000000</td>\n",
       "      <td>31.000000</td>\n",
       "    </tr>\n",
       "    <tr>\n",
       "      <td>75%</td>\n",
       "      <td>33.000000</td>\n",
       "      <td>33.000000</td>\n",
       "      <td>33.000000</td>\n",
       "      <td>33.000000</td>\n",
       "      <td>33.000000</td>\n",
       "      <td>33.000000</td>\n",
       "    </tr>\n",
       "    <tr>\n",
       "      <td>max</td>\n",
       "      <td>40.000000</td>\n",
       "      <td>40.000000</td>\n",
       "      <td>39.000000</td>\n",
       "      <td>40.000000</td>\n",
       "      <td>39.000000</td>\n",
       "      <td>40.000000</td>\n",
       "    </tr>\n",
       "  </tbody>\n",
       "</table>\n",
       "</div>"
      ],
      "text/plain": [
       "                G           G           G           G           G            G\n",
       "count  351.000000  351.000000  351.000000  351.000000  353.000000  1757.000000\n",
       "mean    31.333333   31.430199   31.538462   31.566952   31.745042    31.523051\n",
       "std      2.660827    2.606607    2.611639    2.615436    2.514195     2.602819\n",
       "min     24.000000   24.000000   25.000000   24.000000   26.000000    24.000000\n",
       "25%     29.000000   30.000000   30.000000   30.000000   30.000000    30.000000\n",
       "50%     31.000000   31.000000   31.000000   31.000000   31.000000    31.000000\n",
       "75%     33.000000   33.000000   33.000000   33.000000   33.000000    33.000000\n",
       "max     40.000000   40.000000   39.000000   40.000000   39.000000    40.000000"
      ]
     },
     "execution_count": 96,
     "metadata": {},
     "output_type": "execute_result"
    }
   ],
   "source": [
    "df_all_game_stats = pd.concat([df_game_stats_2015,df_game_stats_2016, df_game_stats_2017,df_game_stats_2018,df_game_stats_2019,df_game_stats], axis = 1)\n",
    "df_all_game_stats # Combining all data frames on one data frame in order from 2015 to 2019 then all years"
   ]
  },
  {
   "cell_type": "markdown",
   "metadata": {},
   "source": [
    "All seasons had about an average of about 31 games played each year with a total average of 31.5"
   ]
  },
  {
   "cell_type": "markdown",
   "metadata": {},
   "source": [
    "### ADJOE Stats "
   ]
  },
  {
   "cell_type": "markdown",
   "metadata": {},
   "source": [
    "Adjusted Offensive Efficency "
   ]
  },
  {
   "cell_type": "code",
   "execution_count": 43,
   "metadata": {},
   "outputs": [],
   "source": [
    "adjoe_stats = df['ADJOE'].describe()\n",
    "df_adjoe_stats = pd.DataFrame(adjoe_stats) #Stats for all years"
   ]
  },
  {
   "cell_type": "code",
   "execution_count": 44,
   "metadata": {},
   "outputs": [],
   "source": [
    "adjoe_stats_2015 = df_2015['ADJOE'].describe()\n",
    "df_adjoe_stats_2015 = pd.DataFrame(adjoe_stats_2015)"
   ]
  },
  {
   "cell_type": "code",
   "execution_count": 45,
   "metadata": {},
   "outputs": [],
   "source": [
    "adjoe_stats_2016 = df_2016['ADJOE'].describe()\n",
    "df_adjoe_stats_2016 = pd.DataFrame(adjoe_stats_2016)"
   ]
  },
  {
   "cell_type": "code",
   "execution_count": 46,
   "metadata": {},
   "outputs": [],
   "source": [
    "adjoe_stats_2017 = df_2017['ADJOE'].describe()\n",
    "df_adjoe_stats_2017 = pd.DataFrame(adjoe_stats_2017)"
   ]
  },
  {
   "cell_type": "code",
   "execution_count": 47,
   "metadata": {},
   "outputs": [],
   "source": [
    "adjoe_stats_2018 = df_2018['ADJOE'].describe()\n",
    "df_adjoe_stats_2018 = pd.DataFrame(adjoe_stats_2018)"
   ]
  },
  {
   "cell_type": "code",
   "execution_count": 48,
   "metadata": {},
   "outputs": [],
   "source": [
    "adjoe_stats_2019 = df_2019['ADJOE'].describe()\n",
    "df_adjoe_stats_2019 = pd.DataFrame(adjoe_stats_2019)"
   ]
  },
  {
   "cell_type": "code",
   "execution_count": 95,
   "metadata": {},
   "outputs": [
    {
     "data": {
      "text/html": [
       "<div>\n",
       "<style scoped>\n",
       "    .dataframe tbody tr th:only-of-type {\n",
       "        vertical-align: middle;\n",
       "    }\n",
       "\n",
       "    .dataframe tbody tr th {\n",
       "        vertical-align: top;\n",
       "    }\n",
       "\n",
       "    .dataframe thead th {\n",
       "        text-align: right;\n",
       "    }\n",
       "</style>\n",
       "<table border=\"1\" class=\"dataframe\">\n",
       "  <thead>\n",
       "    <tr style=\"text-align: right;\">\n",
       "      <th></th>\n",
       "      <th>ADJOE</th>\n",
       "      <th>ADJOE</th>\n",
       "      <th>ADJOE</th>\n",
       "      <th>ADJOE</th>\n",
       "      <th>ADJOE</th>\n",
       "      <th>ADJOE</th>\n",
       "    </tr>\n",
       "  </thead>\n",
       "  <tbody>\n",
       "    <tr>\n",
       "      <td>count</td>\n",
       "      <td>351.000000</td>\n",
       "      <td>351.000000</td>\n",
       "      <td>351.000000</td>\n",
       "      <td>351.000000</td>\n",
       "      <td>353.000000</td>\n",
       "      <td>1757.000000</td>\n",
       "    </tr>\n",
       "    <tr>\n",
       "      <td>mean</td>\n",
       "      <td>102.315385</td>\n",
       "      <td>103.866382</td>\n",
       "      <td>103.840456</td>\n",
       "      <td>104.354986</td>\n",
       "      <td>103.335977</td>\n",
       "      <td>103.542402</td>\n",
       "    </tr>\n",
       "    <tr>\n",
       "      <td>std</td>\n",
       "      <td>7.401505</td>\n",
       "      <td>7.462340</td>\n",
       "      <td>7.334709</td>\n",
       "      <td>7.175631</td>\n",
       "      <td>7.020019</td>\n",
       "      <td>7.304975</td>\n",
       "    </tr>\n",
       "    <tr>\n",
       "      <td>min</td>\n",
       "      <td>76.700000</td>\n",
       "      <td>82.900000</td>\n",
       "      <td>84.000000</td>\n",
       "      <td>86.200000</td>\n",
       "      <td>83.700000</td>\n",
       "      <td>76.700000</td>\n",
       "    </tr>\n",
       "    <tr>\n",
       "      <td>25%</td>\n",
       "      <td>97.900000</td>\n",
       "      <td>99.050000</td>\n",
       "      <td>98.850000</td>\n",
       "      <td>99.050000</td>\n",
       "      <td>98.600000</td>\n",
       "      <td>98.600000</td>\n",
       "    </tr>\n",
       "    <tr>\n",
       "      <td>50%</td>\n",
       "      <td>102.100000</td>\n",
       "      <td>103.200000</td>\n",
       "      <td>103.100000</td>\n",
       "      <td>104.100000</td>\n",
       "      <td>103.100000</td>\n",
       "      <td>103.100000</td>\n",
       "    </tr>\n",
       "    <tr>\n",
       "      <td>75%</td>\n",
       "      <td>106.500000</td>\n",
       "      <td>109.000000</td>\n",
       "      <td>108.300000</td>\n",
       "      <td>108.800000</td>\n",
       "      <td>107.700000</td>\n",
       "      <td>108.100000</td>\n",
       "    </tr>\n",
       "    <tr>\n",
       "      <td>max</td>\n",
       "      <td>129.100000</td>\n",
       "      <td>123.300000</td>\n",
       "      <td>126.800000</td>\n",
       "      <td>128.400000</td>\n",
       "      <td>123.400000</td>\n",
       "      <td>129.100000</td>\n",
       "    </tr>\n",
       "  </tbody>\n",
       "</table>\n",
       "</div>"
      ],
      "text/plain": [
       "            ADJOE       ADJOE       ADJOE       ADJOE       ADJOE        ADJOE\n",
       "count  351.000000  351.000000  351.000000  351.000000  353.000000  1757.000000\n",
       "mean   102.315385  103.866382  103.840456  104.354986  103.335977   103.542402\n",
       "std      7.401505    7.462340    7.334709    7.175631    7.020019     7.304975\n",
       "min     76.700000   82.900000   84.000000   86.200000   83.700000    76.700000\n",
       "25%     97.900000   99.050000   98.850000   99.050000   98.600000    98.600000\n",
       "50%    102.100000  103.200000  103.100000  104.100000  103.100000   103.100000\n",
       "75%    106.500000  109.000000  108.300000  108.800000  107.700000   108.100000\n",
       "max    129.100000  123.300000  126.800000  128.400000  123.400000   129.100000"
      ]
     },
     "execution_count": 95,
     "metadata": {},
     "output_type": "execute_result"
    }
   ],
   "source": [
    "df_all_adjoe_stats = pd.concat([df_adjoe_stats_2015,df_adjoe_stats_2016, df_adjoe_stats_2017,df_adjoe_stats_2018,df_adjoe_stats_2019,df_adjoe_stats], axis = 1)\n",
    "df_all_adjoe_stats # Combining all data frames on one data frame in order from 2015 to 2019 then all years "
   ]
  },
  {
   "cell_type": "markdown",
   "metadata": {},
   "source": [
    "ADJOE is consistent over all years with a total average ADJOE of about 103.5"
   ]
  },
  {
   "cell_type": "markdown",
   "metadata": {},
   "source": [
    "### ADJDE Stats "
   ]
  },
  {
   "cell_type": "markdown",
   "metadata": {},
   "source": [
    "Adjusted Defensive Efficency "
   ]
  },
  {
   "cell_type": "code",
   "execution_count": 53,
   "metadata": {},
   "outputs": [],
   "source": [
    "df_adjde_stats = pd.DataFrame(df['ADJDE'].describe()) #Stats for all years"
   ]
  },
  {
   "cell_type": "code",
   "execution_count": 54,
   "metadata": {},
   "outputs": [],
   "source": [
    "adjde_stats_2015 = df_2015['ADJDE'].describe()\n",
    "df_adjde_stats_2015 = pd.DataFrame(adjde_stats_2015)"
   ]
  },
  {
   "cell_type": "code",
   "execution_count": 55,
   "metadata": {},
   "outputs": [],
   "source": [
    "adjde_stats_2016 = df_2016['ADJDE'].describe()\n",
    "df_adjde_stats_2016 = pd.DataFrame(adjde_stats_2016)"
   ]
  },
  {
   "cell_type": "code",
   "execution_count": 56,
   "metadata": {},
   "outputs": [],
   "source": [
    "adjde_stats_2017 = df_2017['ADJDE'].describe()\n",
    "df_adjde_stats_2017 = pd.DataFrame(adjde_stats_2017)"
   ]
  },
  {
   "cell_type": "code",
   "execution_count": 57,
   "metadata": {},
   "outputs": [],
   "source": [
    "adjde_stats_2018 = df_2018['ADJDE'].describe()\n",
    "df_adjde_stats_2018 = pd.DataFrame(adjde_stats_2018)"
   ]
  },
  {
   "cell_type": "code",
   "execution_count": 58,
   "metadata": {},
   "outputs": [],
   "source": [
    "adjde_stats_2019 = df_2019['ADJDE'].describe()\n",
    "df_adjde_stats_2019 = pd.DataFrame(adjde_stats_2019)"
   ]
  },
  {
   "cell_type": "code",
   "execution_count": 94,
   "metadata": {},
   "outputs": [
    {
     "data": {
      "text/html": [
       "<div>\n",
       "<style scoped>\n",
       "    .dataframe tbody tr th:only-of-type {\n",
       "        vertical-align: middle;\n",
       "    }\n",
       "\n",
       "    .dataframe tbody tr th {\n",
       "        vertical-align: top;\n",
       "    }\n",
       "\n",
       "    .dataframe thead th {\n",
       "        text-align: right;\n",
       "    }\n",
       "</style>\n",
       "<table border=\"1\" class=\"dataframe\">\n",
       "  <thead>\n",
       "    <tr style=\"text-align: right;\">\n",
       "      <th></th>\n",
       "      <th>ADJDE</th>\n",
       "      <th>ADJDE</th>\n",
       "      <th>ADJDE</th>\n",
       "      <th>ADJDE</th>\n",
       "      <th>ADJDE</th>\n",
       "      <th>ADJDE</th>\n",
       "    </tr>\n",
       "  </thead>\n",
       "  <tbody>\n",
       "    <tr>\n",
       "      <td>count</td>\n",
       "      <td>351.000000</td>\n",
       "      <td>351.000000</td>\n",
       "      <td>351.000000</td>\n",
       "      <td>351.000000</td>\n",
       "      <td>353.000000</td>\n",
       "      <td>1757.000000</td>\n",
       "    </tr>\n",
       "    <tr>\n",
       "      <td>mean</td>\n",
       "      <td>102.311681</td>\n",
       "      <td>103.866382</td>\n",
       "      <td>103.841880</td>\n",
       "      <td>104.357265</td>\n",
       "      <td>103.336261</td>\n",
       "      <td>103.542459</td>\n",
       "    </tr>\n",
       "    <tr>\n",
       "      <td>std</td>\n",
       "      <td>6.537436</td>\n",
       "      <td>6.325834</td>\n",
       "      <td>6.591266</td>\n",
       "      <td>6.300789</td>\n",
       "      <td>6.452597</td>\n",
       "      <td>6.472676</td>\n",
       "    </tr>\n",
       "    <tr>\n",
       "      <td>min</td>\n",
       "      <td>84.000000</td>\n",
       "      <td>87.800000</td>\n",
       "      <td>86.300000</td>\n",
       "      <td>86.700000</td>\n",
       "      <td>85.200000</td>\n",
       "      <td>84.000000</td>\n",
       "    </tr>\n",
       "    <tr>\n",
       "      <td>25%</td>\n",
       "      <td>97.750000</td>\n",
       "      <td>99.100000</td>\n",
       "      <td>99.500000</td>\n",
       "      <td>99.850000</td>\n",
       "      <td>98.700000</td>\n",
       "      <td>98.900000</td>\n",
       "    </tr>\n",
       "    <tr>\n",
       "      <td>50%</td>\n",
       "      <td>102.600000</td>\n",
       "      <td>103.800000</td>\n",
       "      <td>103.700000</td>\n",
       "      <td>104.400000</td>\n",
       "      <td>104.000000</td>\n",
       "      <td>103.800000</td>\n",
       "    </tr>\n",
       "    <tr>\n",
       "      <td>75%</td>\n",
       "      <td>107.100000</td>\n",
       "      <td>108.400000</td>\n",
       "      <td>108.250000</td>\n",
       "      <td>108.300000</td>\n",
       "      <td>107.800000</td>\n",
       "      <td>108.000000</td>\n",
       "    </tr>\n",
       "    <tr>\n",
       "      <td>max</td>\n",
       "      <td>120.000000</td>\n",
       "      <td>118.200000</td>\n",
       "      <td>124.000000</td>\n",
       "      <td>123.000000</td>\n",
       "      <td>119.200000</td>\n",
       "      <td>124.000000</td>\n",
       "    </tr>\n",
       "  </tbody>\n",
       "</table>\n",
       "</div>"
      ],
      "text/plain": [
       "            ADJDE       ADJDE       ADJDE       ADJDE       ADJDE        ADJDE\n",
       "count  351.000000  351.000000  351.000000  351.000000  353.000000  1757.000000\n",
       "mean   102.311681  103.866382  103.841880  104.357265  103.336261   103.542459\n",
       "std      6.537436    6.325834    6.591266    6.300789    6.452597     6.472676\n",
       "min     84.000000   87.800000   86.300000   86.700000   85.200000    84.000000\n",
       "25%     97.750000   99.100000   99.500000   99.850000   98.700000    98.900000\n",
       "50%    102.600000  103.800000  103.700000  104.400000  104.000000   103.800000\n",
       "75%    107.100000  108.400000  108.250000  108.300000  107.800000   108.000000\n",
       "max    120.000000  118.200000  124.000000  123.000000  119.200000   124.000000"
      ]
     },
     "execution_count": 94,
     "metadata": {},
     "output_type": "execute_result"
    }
   ],
   "source": [
    "df_all_adjde_stats = pd.concat([df_adjde_stats_2015,df_adjde_stats_2016, df_adjde_stats_2017,df_adjde_stats_2018,df_adjde_stats_2019,df_adjde_stats], axis = 1)\n",
    "df_all_adjde_stats # Combining all data frames on one data frame in order from 2015 to 2019 then all years"
   ]
  },
  {
   "cell_type": "markdown",
   "metadata": {},
   "source": [
    "ADJDE is consistent over all years with a total average ADJDE of about 103.5"
   ]
  },
  {
   "cell_type": "markdown",
   "metadata": {},
   "source": [
    "### Tempo Stats"
   ]
  },
  {
   "cell_type": "markdown",
   "metadata": {},
   "source": [
    "Important to see if the pace of the games played stays consistent for all years as it may be a result of rule change, different coaching styles or other factors resulting in a time series affecting the data and making the data invalid."
   ]
  },
  {
   "cell_type": "code",
   "execution_count": 62,
   "metadata": {},
   "outputs": [],
   "source": [
    "df_tempo_stats = pd.DataFrame(df['ADJ_T'].describe()) #Stats for all years"
   ]
  },
  {
   "cell_type": "code",
   "execution_count": 67,
   "metadata": {},
   "outputs": [],
   "source": [
    "df_tempo_stats_2015 = pd.DataFrame(df_2015['ADJ_T'].describe()) # Same code as before just written in one line"
   ]
  },
  {
   "cell_type": "code",
   "execution_count": 68,
   "metadata": {},
   "outputs": [],
   "source": [
    "df_tempo_stats_2016 = pd.DataFrame(df_2016['ADJ_T'].describe())"
   ]
  },
  {
   "cell_type": "code",
   "execution_count": 69,
   "metadata": {},
   "outputs": [],
   "source": [
    "df_tempo_stats_2017 = pd.DataFrame(df_2017['ADJ_T'].describe())"
   ]
  },
  {
   "cell_type": "code",
   "execution_count": 70,
   "metadata": {},
   "outputs": [],
   "source": [
    "df_tempo_stats_2018 = pd.DataFrame(df_2018['ADJ_T'].describe())"
   ]
  },
  {
   "cell_type": "code",
   "execution_count": 71,
   "metadata": {},
   "outputs": [],
   "source": [
    "df_tempo_stats_2019 = pd.DataFrame(df_2019['ADJ_T'].describe())"
   ]
  },
  {
   "cell_type": "code",
   "execution_count": 93,
   "metadata": {},
   "outputs": [
    {
     "data": {
      "text/html": [
       "<div>\n",
       "<style scoped>\n",
       "    .dataframe tbody tr th:only-of-type {\n",
       "        vertical-align: middle;\n",
       "    }\n",
       "\n",
       "    .dataframe tbody tr th {\n",
       "        vertical-align: top;\n",
       "    }\n",
       "\n",
       "    .dataframe thead th {\n",
       "        text-align: right;\n",
       "    }\n",
       "</style>\n",
       "<table border=\"1\" class=\"dataframe\">\n",
       "  <thead>\n",
       "    <tr style=\"text-align: right;\">\n",
       "      <th></th>\n",
       "      <th>ADJ_T</th>\n",
       "      <th>ADJ_T</th>\n",
       "      <th>ADJ_T</th>\n",
       "      <th>ADJ_T</th>\n",
       "      <th>ADJ_T</th>\n",
       "      <th>ADJ_T</th>\n",
       "    </tr>\n",
       "  </thead>\n",
       "  <tbody>\n",
       "    <tr>\n",
       "      <td>count</td>\n",
       "      <td>351.000000</td>\n",
       "      <td>351.000000</td>\n",
       "      <td>351.000000</td>\n",
       "      <td>351.000000</td>\n",
       "      <td>353.000000</td>\n",
       "      <td>1757.000000</td>\n",
       "    </tr>\n",
       "    <tr>\n",
       "      <td>mean</td>\n",
       "      <td>64.936467</td>\n",
       "      <td>69.100855</td>\n",
       "      <td>69.481766</td>\n",
       "      <td>69.419373</td>\n",
       "      <td>69.168555</td>\n",
       "      <td>68.422254</td>\n",
       "    </tr>\n",
       "    <tr>\n",
       "      <td>std</td>\n",
       "      <td>2.686141</td>\n",
       "      <td>2.780478</td>\n",
       "      <td>2.917897</td>\n",
       "      <td>2.681646</td>\n",
       "      <td>2.694397</td>\n",
       "      <td>3.258920</td>\n",
       "    </tr>\n",
       "    <tr>\n",
       "      <td>min</td>\n",
       "      <td>57.200000</td>\n",
       "      <td>61.900000</td>\n",
       "      <td>60.300000</td>\n",
       "      <td>60.500000</td>\n",
       "      <td>60.700000</td>\n",
       "      <td>57.200000</td>\n",
       "    </tr>\n",
       "    <tr>\n",
       "      <td>25%</td>\n",
       "      <td>63.300000</td>\n",
       "      <td>67.200000</td>\n",
       "      <td>67.700000</td>\n",
       "      <td>67.500000</td>\n",
       "      <td>67.300000</td>\n",
       "      <td>66.400000</td>\n",
       "    </tr>\n",
       "    <tr>\n",
       "      <td>50%</td>\n",
       "      <td>64.900000</td>\n",
       "      <td>68.900000</td>\n",
       "      <td>69.600000</td>\n",
       "      <td>69.400000</td>\n",
       "      <td>69.000000</td>\n",
       "      <td>68.500000</td>\n",
       "    </tr>\n",
       "    <tr>\n",
       "      <td>75%</td>\n",
       "      <td>66.600000</td>\n",
       "      <td>70.850000</td>\n",
       "      <td>71.100000</td>\n",
       "      <td>71.000000</td>\n",
       "      <td>70.800000</td>\n",
       "      <td>70.400000</td>\n",
       "    </tr>\n",
       "    <tr>\n",
       "      <td>max</td>\n",
       "      <td>77.300000</td>\n",
       "      <td>81.900000</td>\n",
       "      <td>83.300000</td>\n",
       "      <td>83.400000</td>\n",
       "      <td>79.100000</td>\n",
       "      <td>83.400000</td>\n",
       "    </tr>\n",
       "  </tbody>\n",
       "</table>\n",
       "</div>"
      ],
      "text/plain": [
       "            ADJ_T       ADJ_T       ADJ_T       ADJ_T       ADJ_T        ADJ_T\n",
       "count  351.000000  351.000000  351.000000  351.000000  353.000000  1757.000000\n",
       "mean    64.936467   69.100855   69.481766   69.419373   69.168555    68.422254\n",
       "std      2.686141    2.780478    2.917897    2.681646    2.694397     3.258920\n",
       "min     57.200000   61.900000   60.300000   60.500000   60.700000    57.200000\n",
       "25%     63.300000   67.200000   67.700000   67.500000   67.300000    66.400000\n",
       "50%     64.900000   68.900000   69.600000   69.400000   69.000000    68.500000\n",
       "75%     66.600000   70.850000   71.100000   71.000000   70.800000    70.400000\n",
       "max     77.300000   81.900000   83.300000   83.400000   79.100000    83.400000"
      ]
     },
     "execution_count": 93,
     "metadata": {},
     "output_type": "execute_result"
    }
   ],
   "source": [
    "df_all_tempo_stats = pd.concat([df_tempo_stats_2015,df_tempo_stats_2016, df_tempo_stats_2017,df_tempo_stats_2018,df_tempo_stats_2019,df_tempo_stats], axis = 1)\n",
    "df_all_tempo_stats # Combining all data frames on one data frame in order from 2015 to 2019 then all years"
   ]
  },
  {
   "cell_type": "markdown",
   "metadata": {},
   "source": [
    "2015 has an average tempo of 64 possensions per game where every other year has average of 69.   \n",
    "Shown later in hypothesis test to see if 2015 tempo is statistcally different enough to rule out. "
   ]
  },
  {
   "cell_type": "markdown",
   "metadata": {},
   "source": [
    "#### NOTE "
   ]
  },
  {
   "cell_type": "markdown",
   "metadata": {},
   "source": [
    "A rule-change after the 2015 had a direct affect on the tempo of the game. The rule-change changed the shot clock from 35 to 30 seconds. This means that each time the possesion changes, the team with the ball has a maximun of 30 seconds to shoot the ball instead of 35. This sped up the game and changed the tempo. Before the rule-change, teams averaged about 65 possesions per 40 minutes. After the rule-change, speeding up the shotclock, the average posseions per game spiked to 69 per 40 minutes as seen in the data.   "
   ]
  },
  {
   "cell_type": "markdown",
   "metadata": {},
   "source": [
    "### Turnover Stats"
   ]
  },
  {
   "cell_type": "markdown",
   "metadata": {},
   "source": [
    "Turnover Rate"
   ]
  },
  {
   "cell_type": "code",
   "execution_count": 76,
   "metadata": {},
   "outputs": [],
   "source": [
    "df_tor_stats = pd.DataFrame(df['TOR'].describe()) #Stats for all years"
   ]
  },
  {
   "cell_type": "code",
   "execution_count": 77,
   "metadata": {},
   "outputs": [],
   "source": [
    "df_tor_stats_2015 = pd.DataFrame(df_2015['TOR'].describe())"
   ]
  },
  {
   "cell_type": "code",
   "execution_count": 78,
   "metadata": {},
   "outputs": [],
   "source": [
    "df_tor_stats_2016 = pd.DataFrame(df_2016['TOR'].describe())"
   ]
  },
  {
   "cell_type": "code",
   "execution_count": 79,
   "metadata": {},
   "outputs": [],
   "source": [
    "df_tor_stats_2017 = pd.DataFrame(df_2017['TOR'].describe())"
   ]
  },
  {
   "cell_type": "code",
   "execution_count": 80,
   "metadata": {},
   "outputs": [],
   "source": [
    "df_tor_stats_2018 = pd.DataFrame(df_2018['TOR'].describe())"
   ]
  },
  {
   "cell_type": "code",
   "execution_count": 81,
   "metadata": {},
   "outputs": [],
   "source": [
    "df_tor_stats_2019 = pd.DataFrame(df_2019['TOR'].describe())"
   ]
  },
  {
   "cell_type": "code",
   "execution_count": 82,
   "metadata": {},
   "outputs": [
    {
     "data": {
      "text/html": [
       "<div>\n",
       "<style scoped>\n",
       "    .dataframe tbody tr th:only-of-type {\n",
       "        vertical-align: middle;\n",
       "    }\n",
       "\n",
       "    .dataframe tbody tr th {\n",
       "        vertical-align: top;\n",
       "    }\n",
       "\n",
       "    .dataframe thead th {\n",
       "        text-align: right;\n",
       "    }\n",
       "</style>\n",
       "<table border=\"1\" class=\"dataframe\">\n",
       "  <thead>\n",
       "    <tr style=\"text-align: right;\">\n",
       "      <th></th>\n",
       "      <th>TOR</th>\n",
       "      <th>TOR</th>\n",
       "      <th>TOR</th>\n",
       "      <th>TOR</th>\n",
       "      <th>TOR</th>\n",
       "      <th>TOR</th>\n",
       "    </tr>\n",
       "  </thead>\n",
       "  <tbody>\n",
       "    <tr>\n",
       "      <td>count</td>\n",
       "      <td>351.000000</td>\n",
       "      <td>351.000000</td>\n",
       "      <td>351.000000</td>\n",
       "      <td>351.000000</td>\n",
       "      <td>353.000000</td>\n",
       "      <td>1757.000000</td>\n",
       "    </tr>\n",
       "    <tr>\n",
       "      <td>mean</td>\n",
       "      <td>19.125641</td>\n",
       "      <td>18.184046</td>\n",
       "      <td>18.594017</td>\n",
       "      <td>18.448718</td>\n",
       "      <td>18.606516</td>\n",
       "      <td>18.591804</td>\n",
       "    </tr>\n",
       "    <tr>\n",
       "      <td>std</td>\n",
       "      <td>2.070562</td>\n",
       "      <td>1.898790</td>\n",
       "      <td>1.893913</td>\n",
       "      <td>1.911168</td>\n",
       "      <td>2.066711</td>\n",
       "      <td>1.991637</td>\n",
       "    </tr>\n",
       "    <tr>\n",
       "      <td>min</td>\n",
       "      <td>12.400000</td>\n",
       "      <td>13.600000</td>\n",
       "      <td>13.900000</td>\n",
       "      <td>13.500000</td>\n",
       "      <td>13.500000</td>\n",
       "      <td>12.400000</td>\n",
       "    </tr>\n",
       "    <tr>\n",
       "      <td>25%</td>\n",
       "      <td>17.800000</td>\n",
       "      <td>16.800000</td>\n",
       "      <td>17.400000</td>\n",
       "      <td>17.200000</td>\n",
       "      <td>17.200000</td>\n",
       "      <td>17.200000</td>\n",
       "    </tr>\n",
       "    <tr>\n",
       "      <td>50%</td>\n",
       "      <td>19.200000</td>\n",
       "      <td>18.100000</td>\n",
       "      <td>18.500000</td>\n",
       "      <td>18.500000</td>\n",
       "      <td>18.500000</td>\n",
       "      <td>18.500000</td>\n",
       "    </tr>\n",
       "    <tr>\n",
       "      <td>75%</td>\n",
       "      <td>20.300000</td>\n",
       "      <td>19.450000</td>\n",
       "      <td>19.800000</td>\n",
       "      <td>19.600000</td>\n",
       "      <td>19.800000</td>\n",
       "      <td>19.800000</td>\n",
       "    </tr>\n",
       "    <tr>\n",
       "      <td>max</td>\n",
       "      <td>26.100000</td>\n",
       "      <td>25.400000</td>\n",
       "      <td>25.900000</td>\n",
       "      <td>24.700000</td>\n",
       "      <td>25.100000</td>\n",
       "      <td>26.100000</td>\n",
       "    </tr>\n",
       "  </tbody>\n",
       "</table>\n",
       "</div>"
      ],
      "text/plain": [
       "              TOR         TOR         TOR         TOR         TOR          TOR\n",
       "count  351.000000  351.000000  351.000000  351.000000  353.000000  1757.000000\n",
       "mean    19.125641   18.184046   18.594017   18.448718   18.606516    18.591804\n",
       "std      2.070562    1.898790    1.893913    1.911168    2.066711     1.991637\n",
       "min     12.400000   13.600000   13.900000   13.500000   13.500000    12.400000\n",
       "25%     17.800000   16.800000   17.400000   17.200000   17.200000    17.200000\n",
       "50%     19.200000   18.100000   18.500000   18.500000   18.500000    18.500000\n",
       "75%     20.300000   19.450000   19.800000   19.600000   19.800000    19.800000\n",
       "max     26.100000   25.400000   25.900000   24.700000   25.100000    26.100000"
      ]
     },
     "execution_count": 82,
     "metadata": {},
     "output_type": "execute_result"
    }
   ],
   "source": [
    "df_all_tor_stats = pd.concat([df_tor_stats_2015,df_tor_stats_2016, df_tor_stats_2017,df_tor_stats_2018,df_tor_stats_2019,df_tor_stats], axis = 1)\n",
    "df_all_tor_stats # Combining all data frames on one data frame in order from 2015 to 2019 then all years"
   ]
  },
  {
   "cell_type": "markdown",
   "metadata": {},
   "source": [
    "Turnover Rate is consistent over all years with a total average Turnover Rate of about 18.6"
   ]
  },
  {
   "cell_type": "markdown",
   "metadata": {},
   "source": [
    "### Free Throw Statistics"
   ]
  },
  {
   "cell_type": "markdown",
   "metadata": {},
   "source": [
    "Free Throw Rate"
   ]
  },
  {
   "cell_type": "code",
   "execution_count": 83,
   "metadata": {},
   "outputs": [],
   "source": [
    "df_ft_stats = pd.DataFrame(df['FTR'].describe()) #Stats for all years"
   ]
  },
  {
   "cell_type": "code",
   "execution_count": 86,
   "metadata": {},
   "outputs": [],
   "source": [
    "df_ft_stats_2015 = pd.DataFrame(df_2015['FTR'].describe())"
   ]
  },
  {
   "cell_type": "code",
   "execution_count": 87,
   "metadata": {},
   "outputs": [],
   "source": [
    "df_ft_stats_2016 = pd.DataFrame(df_2016['FTR'].describe())"
   ]
  },
  {
   "cell_type": "code",
   "execution_count": 88,
   "metadata": {},
   "outputs": [],
   "source": [
    "df_ft_stats_2017 = pd.DataFrame(df_2017['FTR'].describe())"
   ]
  },
  {
   "cell_type": "code",
   "execution_count": 89,
   "metadata": {},
   "outputs": [],
   "source": [
    "df_ft_stats_2018 = pd.DataFrame(df_2018['FTR'].describe())"
   ]
  },
  {
   "cell_type": "code",
   "execution_count": 90,
   "metadata": {},
   "outputs": [],
   "source": [
    "df_ft_stats_2019 = pd.DataFrame(df_2019['FTR'].describe())"
   ]
  },
  {
   "cell_type": "code",
   "execution_count": 92,
   "metadata": {},
   "outputs": [
    {
     "data": {
      "text/html": [
       "<div>\n",
       "<style scoped>\n",
       "    .dataframe tbody tr th:only-of-type {\n",
       "        vertical-align: middle;\n",
       "    }\n",
       "\n",
       "    .dataframe tbody tr th {\n",
       "        vertical-align: top;\n",
       "    }\n",
       "\n",
       "    .dataframe thead th {\n",
       "        text-align: right;\n",
       "    }\n",
       "</style>\n",
       "<table border=\"1\" class=\"dataframe\">\n",
       "  <thead>\n",
       "    <tr style=\"text-align: right;\">\n",
       "      <th></th>\n",
       "      <th>FTR</th>\n",
       "      <th>FTR</th>\n",
       "      <th>FTR</th>\n",
       "      <th>FTR</th>\n",
       "      <th>FTR</th>\n",
       "      <th>FTR</th>\n",
       "    </tr>\n",
       "  </thead>\n",
       "  <tbody>\n",
       "    <tr>\n",
       "      <td>count</td>\n",
       "      <td>351.000000</td>\n",
       "      <td>351.000000</td>\n",
       "      <td>351.000000</td>\n",
       "      <td>351.000000</td>\n",
       "      <td>353.000000</td>\n",
       "      <td>1757.000000</td>\n",
       "    </tr>\n",
       "    <tr>\n",
       "      <td>mean</td>\n",
       "      <td>37.043305</td>\n",
       "      <td>36.638177</td>\n",
       "      <td>35.328205</td>\n",
       "      <td>33.537607</td>\n",
       "      <td>32.954391</td>\n",
       "      <td>35.097894</td>\n",
       "    </tr>\n",
       "    <tr>\n",
       "      <td>std</td>\n",
       "      <td>4.747210</td>\n",
       "      <td>4.610320</td>\n",
       "      <td>4.493351</td>\n",
       "      <td>4.485782</td>\n",
       "      <td>4.708719</td>\n",
       "      <td>4.884599</td>\n",
       "    </tr>\n",
       "    <tr>\n",
       "      <td>min</td>\n",
       "      <td>26.100000</td>\n",
       "      <td>25.500000</td>\n",
       "      <td>24.000000</td>\n",
       "      <td>21.600000</td>\n",
       "      <td>21.900000</td>\n",
       "      <td>21.600000</td>\n",
       "    </tr>\n",
       "    <tr>\n",
       "      <td>25%</td>\n",
       "      <td>33.550000</td>\n",
       "      <td>33.300000</td>\n",
       "      <td>32.450000</td>\n",
       "      <td>30.400000</td>\n",
       "      <td>29.900000</td>\n",
       "      <td>31.700000</td>\n",
       "    </tr>\n",
       "    <tr>\n",
       "      <td>50%</td>\n",
       "      <td>36.600000</td>\n",
       "      <td>36.800000</td>\n",
       "      <td>35.100000</td>\n",
       "      <td>33.300000</td>\n",
       "      <td>33.300000</td>\n",
       "      <td>34.900000</td>\n",
       "    </tr>\n",
       "    <tr>\n",
       "      <td>75%</td>\n",
       "      <td>40.300000</td>\n",
       "      <td>40.200000</td>\n",
       "      <td>38.250000</td>\n",
       "      <td>36.450000</td>\n",
       "      <td>35.900000</td>\n",
       "      <td>38.300000</td>\n",
       "    </tr>\n",
       "    <tr>\n",
       "      <td>max</td>\n",
       "      <td>51.000000</td>\n",
       "      <td>49.400000</td>\n",
       "      <td>46.000000</td>\n",
       "      <td>45.800000</td>\n",
       "      <td>48.100000</td>\n",
       "      <td>51.000000</td>\n",
       "    </tr>\n",
       "  </tbody>\n",
       "</table>\n",
       "</div>"
      ],
      "text/plain": [
       "              FTR         FTR         FTR         FTR         FTR          FTR\n",
       "count  351.000000  351.000000  351.000000  351.000000  353.000000  1757.000000\n",
       "mean    37.043305   36.638177   35.328205   33.537607   32.954391    35.097894\n",
       "std      4.747210    4.610320    4.493351    4.485782    4.708719     4.884599\n",
       "min     26.100000   25.500000   24.000000   21.600000   21.900000    21.600000\n",
       "25%     33.550000   33.300000   32.450000   30.400000   29.900000    31.700000\n",
       "50%     36.600000   36.800000   35.100000   33.300000   33.300000    34.900000\n",
       "75%     40.300000   40.200000   38.250000   36.450000   35.900000    38.300000\n",
       "max     51.000000   49.400000   46.000000   45.800000   48.100000    51.000000"
      ]
     },
     "execution_count": 92,
     "metadata": {},
     "output_type": "execute_result"
    }
   ],
   "source": [
    "df_all_ft_stats = pd.concat([df_ft_stats_2015,df_ft_stats_2016, df_ft_stats_2017,df_ft_stats_2018,df_ft_stats_2019,df_ft_stats], axis = 1)\n",
    "df_all_ft_stats # Combining all data frames on one data frame in order from 2015 to 2019 then all years"
   ]
  },
  {
   "cell_type": "markdown",
   "metadata": {},
   "source": [
    "Free Throw Rate steadily drops each year from 37 to 32.95 with an average Free Throw Rate of 35 "
   ]
  },
  {
   "cell_type": "markdown",
   "metadata": {},
   "source": [
    "### Offensive Rebound Statistics "
   ]
  },
  {
   "cell_type": "markdown",
   "metadata": {},
   "source": [
    "Offensive Rebound Rate"
   ]
  },
  {
   "cell_type": "code",
   "execution_count": 132,
   "metadata": {},
   "outputs": [],
   "source": [
    "df_ORB_stats = pd.DataFrame(df['ORB'].describe()) #Stats for all years "
   ]
  },
  {
   "cell_type": "code",
   "execution_count": 133,
   "metadata": {},
   "outputs": [],
   "source": [
    "df_ORB_stats_2015 = pd.DataFrame(df_2015['ORB'].describe())"
   ]
  },
  {
   "cell_type": "code",
   "execution_count": 134,
   "metadata": {},
   "outputs": [],
   "source": [
    "df_ORB_stats_2016 = pd.DataFrame(df_2016['ORB'].describe())"
   ]
  },
  {
   "cell_type": "code",
   "execution_count": 135,
   "metadata": {},
   "outputs": [],
   "source": [
    "df_ORB_stats_2017 = pd.DataFrame(df_2017['ORB'].describe())"
   ]
  },
  {
   "cell_type": "code",
   "execution_count": 136,
   "metadata": {},
   "outputs": [],
   "source": [
    "df_ORB_stats_2018 = pd.DataFrame(df_2018['ORB'].describe())"
   ]
  },
  {
   "cell_type": "code",
   "execution_count": 137,
   "metadata": {},
   "outputs": [],
   "source": [
    "df_ORB_stats_2019 = pd.DataFrame(df_2019['ORB'].describe())"
   ]
  },
  {
   "cell_type": "code",
   "execution_count": 138,
   "metadata": {},
   "outputs": [
    {
     "data": {
      "text/html": [
       "<div>\n",
       "<style scoped>\n",
       "    .dataframe tbody tr th:only-of-type {\n",
       "        vertical-align: middle;\n",
       "    }\n",
       "\n",
       "    .dataframe tbody tr th {\n",
       "        vertical-align: top;\n",
       "    }\n",
       "\n",
       "    .dataframe thead th {\n",
       "        text-align: right;\n",
       "    }\n",
       "</style>\n",
       "<table border=\"1\" class=\"dataframe\">\n",
       "  <thead>\n",
       "    <tr style=\"text-align: right;\">\n",
       "      <th></th>\n",
       "      <th>ORB</th>\n",
       "      <th>ORB</th>\n",
       "      <th>ORB</th>\n",
       "      <th>ORB</th>\n",
       "      <th>ORB</th>\n",
       "      <th>ORB</th>\n",
       "    </tr>\n",
       "  </thead>\n",
       "  <tbody>\n",
       "    <tr>\n",
       "      <td>count</td>\n",
       "      <td>351.000000</td>\n",
       "      <td>351.000000</td>\n",
       "      <td>351.000000</td>\n",
       "      <td>351.000000</td>\n",
       "      <td>353.000000</td>\n",
       "      <td>1757.000000</td>\n",
       "    </tr>\n",
       "    <tr>\n",
       "      <td>mean</td>\n",
       "      <td>30.862963</td>\n",
       "      <td>29.618234</td>\n",
       "      <td>29.120798</td>\n",
       "      <td>28.543590</td>\n",
       "      <td>28.245892</td>\n",
       "      <td>29.277120</td>\n",
       "    </tr>\n",
       "    <tr>\n",
       "      <td>std</td>\n",
       "      <td>3.943029</td>\n",
       "      <td>4.109475</td>\n",
       "      <td>4.088345</td>\n",
       "      <td>3.922602</td>\n",
       "      <td>3.938373</td>\n",
       "      <td>4.101782</td>\n",
       "    </tr>\n",
       "    <tr>\n",
       "      <td>min</td>\n",
       "      <td>19.300000</td>\n",
       "      <td>17.700000</td>\n",
       "      <td>15.000000</td>\n",
       "      <td>18.000000</td>\n",
       "      <td>15.900000</td>\n",
       "      <td>15.000000</td>\n",
       "    </tr>\n",
       "    <tr>\n",
       "      <td>25%</td>\n",
       "      <td>28.650000</td>\n",
       "      <td>26.950000</td>\n",
       "      <td>26.750000</td>\n",
       "      <td>25.900000</td>\n",
       "      <td>25.400000</td>\n",
       "      <td>26.600000</td>\n",
       "    </tr>\n",
       "    <tr>\n",
       "      <td>50%</td>\n",
       "      <td>30.800000</td>\n",
       "      <td>29.600000</td>\n",
       "      <td>29.300000</td>\n",
       "      <td>28.700000</td>\n",
       "      <td>28.300000</td>\n",
       "      <td>29.400000</td>\n",
       "    </tr>\n",
       "    <tr>\n",
       "      <td>75%</td>\n",
       "      <td>33.700000</td>\n",
       "      <td>32.200000</td>\n",
       "      <td>31.600000</td>\n",
       "      <td>31.300000</td>\n",
       "      <td>31.000000</td>\n",
       "      <td>31.900000</td>\n",
       "    </tr>\n",
       "    <tr>\n",
       "      <td>max</td>\n",
       "      <td>42.100000</td>\n",
       "      <td>42.000000</td>\n",
       "      <td>41.300000</td>\n",
       "      <td>38.800000</td>\n",
       "      <td>38.700000</td>\n",
       "      <td>42.100000</td>\n",
       "    </tr>\n",
       "  </tbody>\n",
       "</table>\n",
       "</div>"
      ],
      "text/plain": [
       "              ORB         ORB         ORB         ORB         ORB          ORB\n",
       "count  351.000000  351.000000  351.000000  351.000000  353.000000  1757.000000\n",
       "mean    30.862963   29.618234   29.120798   28.543590   28.245892    29.277120\n",
       "std      3.943029    4.109475    4.088345    3.922602    3.938373     4.101782\n",
       "min     19.300000   17.700000   15.000000   18.000000   15.900000    15.000000\n",
       "25%     28.650000   26.950000   26.750000   25.900000   25.400000    26.600000\n",
       "50%     30.800000   29.600000   29.300000   28.700000   28.300000    29.400000\n",
       "75%     33.700000   32.200000   31.600000   31.300000   31.000000    31.900000\n",
       "max     42.100000   42.000000   41.300000   38.800000   38.700000    42.100000"
      ]
     },
     "execution_count": 138,
     "metadata": {},
     "output_type": "execute_result"
    }
   ],
   "source": [
    "df_all_ORB_stats = pd.concat([df_ORB_stats_2015,df_ORB_stats_2016, df_ORB_stats_2017,df_ORB_stats_2018,df_ORB_stats_2019,df_ORB_stats], axis = 1)\n",
    "df_all_ORB_stats # Combining all data frames on one data frame in order from 2015 to 2019 then all years"
   ]
  },
  {
   "cell_type": "markdown",
   "metadata": {},
   "source": [
    "Offensive Rebound Rate is consistent over all years with average of 29.3"
   ]
  },
  {
   "cell_type": "markdown",
   "metadata": {},
   "source": [
    "### Defensive Rebound Stats"
   ]
  },
  {
   "cell_type": "markdown",
   "metadata": {},
   "source": [
    "Defensive Rebound Rate"
   ]
  },
  {
   "cell_type": "code",
   "execution_count": 126,
   "metadata": {},
   "outputs": [],
   "source": [
    "df_DRB_stats = pd.DataFrame(df['DRB'].describe()) #Stats for all years "
   ]
  },
  {
   "cell_type": "code",
   "execution_count": 127,
   "metadata": {},
   "outputs": [],
   "source": [
    "df_DRB_stats_2015 = pd.DataFrame(df_2015['DRB'].describe())"
   ]
  },
  {
   "cell_type": "code",
   "execution_count": 128,
   "metadata": {},
   "outputs": [],
   "source": [
    "df_DRB_stats_2016 = pd.DataFrame(df_2016['DRB'].describe())"
   ]
  },
  {
   "cell_type": "code",
   "execution_count": 129,
   "metadata": {},
   "outputs": [],
   "source": [
    "df_DRB_stats_2017 = pd.DataFrame(df_2017['DRB'].describe())"
   ]
  },
  {
   "cell_type": "code",
   "execution_count": 130,
   "metadata": {},
   "outputs": [],
   "source": [
    "df_DRB_stats_2018 = pd.DataFrame(df_2018['DRB'].describe())"
   ]
  },
  {
   "cell_type": "code",
   "execution_count": 131,
   "metadata": {},
   "outputs": [],
   "source": [
    "df_DRB_stats_2019 = pd.DataFrame(df_2019['ORB'].describe())"
   ]
  },
  {
   "cell_type": "code",
   "execution_count": 139,
   "metadata": {},
   "outputs": [
    {
     "data": {
      "text/html": [
       "<div>\n",
       "<style scoped>\n",
       "    .dataframe tbody tr th:only-of-type {\n",
       "        vertical-align: middle;\n",
       "    }\n",
       "\n",
       "    .dataframe tbody tr th {\n",
       "        vertical-align: top;\n",
       "    }\n",
       "\n",
       "    .dataframe thead th {\n",
       "        text-align: right;\n",
       "    }\n",
       "</style>\n",
       "<table border=\"1\" class=\"dataframe\">\n",
       "  <thead>\n",
       "    <tr style=\"text-align: right;\">\n",
       "      <th></th>\n",
       "      <th>DRB</th>\n",
       "      <th>DRB</th>\n",
       "      <th>DRB</th>\n",
       "      <th>DRB</th>\n",
       "      <th>ORB</th>\n",
       "      <th>DRB</th>\n",
       "    </tr>\n",
       "  </thead>\n",
       "  <tbody>\n",
       "    <tr>\n",
       "      <td>count</td>\n",
       "      <td>351.000000</td>\n",
       "      <td>351.000000</td>\n",
       "      <td>351.000000</td>\n",
       "      <td>351.000000</td>\n",
       "      <td>353.000000</td>\n",
       "      <td>1757.000000</td>\n",
       "    </tr>\n",
       "    <tr>\n",
       "      <td>mean</td>\n",
       "      <td>31.090028</td>\n",
       "      <td>29.821083</td>\n",
       "      <td>29.298575</td>\n",
       "      <td>28.713105</td>\n",
       "      <td>28.245892</td>\n",
       "      <td>29.467445</td>\n",
       "    </tr>\n",
       "    <tr>\n",
       "      <td>std</td>\n",
       "      <td>2.912875</td>\n",
       "      <td>2.873775</td>\n",
       "      <td>2.869380</td>\n",
       "      <td>2.998533</td>\n",
       "      <td>3.938373</td>\n",
       "      <td>3.061786</td>\n",
       "    </tr>\n",
       "    <tr>\n",
       "      <td>min</td>\n",
       "      <td>22.400000</td>\n",
       "      <td>21.700000</td>\n",
       "      <td>21.700000</td>\n",
       "      <td>18.400000</td>\n",
       "      <td>15.900000</td>\n",
       "      <td>18.400000</td>\n",
       "    </tr>\n",
       "    <tr>\n",
       "      <td>25%</td>\n",
       "      <td>29.200000</td>\n",
       "      <td>27.900000</td>\n",
       "      <td>27.300000</td>\n",
       "      <td>26.850000</td>\n",
       "      <td>25.400000</td>\n",
       "      <td>27.300000</td>\n",
       "    </tr>\n",
       "    <tr>\n",
       "      <td>50%</td>\n",
       "      <td>31.200000</td>\n",
       "      <td>29.800000</td>\n",
       "      <td>29.300000</td>\n",
       "      <td>28.700000</td>\n",
       "      <td>28.300000</td>\n",
       "      <td>29.400000</td>\n",
       "    </tr>\n",
       "    <tr>\n",
       "      <td>75%</td>\n",
       "      <td>32.900000</td>\n",
       "      <td>31.500000</td>\n",
       "      <td>31.250000</td>\n",
       "      <td>30.700000</td>\n",
       "      <td>31.000000</td>\n",
       "      <td>31.500000</td>\n",
       "    </tr>\n",
       "    <tr>\n",
       "      <td>max</td>\n",
       "      <td>40.400000</td>\n",
       "      <td>38.800000</td>\n",
       "      <td>37.600000</td>\n",
       "      <td>37.800000</td>\n",
       "      <td>38.700000</td>\n",
       "      <td>40.400000</td>\n",
       "    </tr>\n",
       "  </tbody>\n",
       "</table>\n",
       "</div>"
      ],
      "text/plain": [
       "              DRB         DRB         DRB         DRB         ORB          DRB\n",
       "count  351.000000  351.000000  351.000000  351.000000  353.000000  1757.000000\n",
       "mean    31.090028   29.821083   29.298575   28.713105   28.245892    29.467445\n",
       "std      2.912875    2.873775    2.869380    2.998533    3.938373     3.061786\n",
       "min     22.400000   21.700000   21.700000   18.400000   15.900000    18.400000\n",
       "25%     29.200000   27.900000   27.300000   26.850000   25.400000    27.300000\n",
       "50%     31.200000   29.800000   29.300000   28.700000   28.300000    29.400000\n",
       "75%     32.900000   31.500000   31.250000   30.700000   31.000000    31.500000\n",
       "max     40.400000   38.800000   37.600000   37.800000   38.700000    40.400000"
      ]
     },
     "execution_count": 139,
     "metadata": {},
     "output_type": "execute_result"
    }
   ],
   "source": [
    "df_all_DRB_stats = pd.concat([df_DRB_stats_2015,df_DRB_stats_2016, df_DRB_stats_2017,df_DRB_stats_2018,df_DRB_stats_2019,df_DRB_stats], axis = 1)\n",
    "df_all_DRB_stats # Combining all data frames on one data frame in order from 2015 to 2019 then all years"
   ]
  },
  {
   "cell_type": "markdown",
   "metadata": {},
   "source": [
    "Defensive Rebound Rate is fairly consistent over all years with a total average of 29.5"
   ]
  },
  {
   "cell_type": "markdown",
   "metadata": {},
   "source": [
    "#### Note found in descriptive statistics "
   ]
  },
  {
   "cell_type": "markdown",
   "metadata": {},
   "source": [
    "The count(number of teams) for 2019 is 353 and every other year is 351. 2 teams were added in 2019. However, this will not affect the model and they will be added into the model. This is okay to do because the stats taken from the games those teams played will still help the model to predict wins. "
   ]
  },
  {
   "cell_type": "markdown",
   "metadata": {},
   "source": [
    "## Trimming Down Data"
   ]
  },
  {
   "cell_type": "markdown",
   "metadata": {},
   "source": [
    "### Avoiding Multicollinearity"
   ]
  },
  {
   "cell_type": "markdown",
   "metadata": {},
   "source": [
    "Multicollinearity is important to avoid because we do not want to add unnecessary variables to our model. If we do not check for multicollinearity in our variables, it may lead to a large number of coefficents and may confuse our model. "
   ]
  },
  {
   "cell_type": "code",
   "execution_count": 142,
   "metadata": {},
   "outputs": [
    {
     "data": {
      "text/html": [
       "<div>\n",
       "<style scoped>\n",
       "    .dataframe tbody tr th:only-of-type {\n",
       "        vertical-align: middle;\n",
       "    }\n",
       "\n",
       "    .dataframe tbody tr th {\n",
       "        vertical-align: top;\n",
       "    }\n",
       "\n",
       "    .dataframe thead th {\n",
       "        text-align: right;\n",
       "    }\n",
       "</style>\n",
       "<table border=\"1\" class=\"dataframe\">\n",
       "  <thead>\n",
       "    <tr style=\"text-align: right;\">\n",
       "      <th></th>\n",
       "      <th>G</th>\n",
       "      <th>W</th>\n",
       "      <th>ADJOE</th>\n",
       "      <th>ADJDE</th>\n",
       "      <th>BARTHAG</th>\n",
       "      <th>EFG_O</th>\n",
       "      <th>EFG_D</th>\n",
       "      <th>TOR</th>\n",
       "      <th>TORD</th>\n",
       "      <th>ORB</th>\n",
       "      <th>...</th>\n",
       "      <th>FTR</th>\n",
       "      <th>FTRD</th>\n",
       "      <th>2P_O</th>\n",
       "      <th>2P_D</th>\n",
       "      <th>3P_O</th>\n",
       "      <th>3P_D</th>\n",
       "      <th>ADJ_T</th>\n",
       "      <th>WAB</th>\n",
       "      <th>SEED</th>\n",
       "      <th>YEAR</th>\n",
       "    </tr>\n",
       "  </thead>\n",
       "  <tbody>\n",
       "    <tr>\n",
       "      <td>G</td>\n",
       "      <td>1.000000</td>\n",
       "      <td>0.708838</td>\n",
       "      <td>0.613432</td>\n",
       "      <td>-0.606166</td>\n",
       "      <td>0.688059</td>\n",
       "      <td>0.346425</td>\n",
       "      <td>-0.481942</td>\n",
       "      <td>-0.336407</td>\n",
       "      <td>0.065020</td>\n",
       "      <td>0.261046</td>\n",
       "      <td>...</td>\n",
       "      <td>0.090549</td>\n",
       "      <td>-0.279593</td>\n",
       "      <td>0.339290</td>\n",
       "      <td>-0.439340</td>\n",
       "      <td>0.225821</td>\n",
       "      <td>-0.349726</td>\n",
       "      <td>-0.040433</td>\n",
       "      <td>0.666595</td>\n",
       "      <td>-0.607807</td>\n",
       "      <td>0.052233</td>\n",
       "    </tr>\n",
       "    <tr>\n",
       "      <td>W</td>\n",
       "      <td>0.708838</td>\n",
       "      <td>1.000000</td>\n",
       "      <td>0.754532</td>\n",
       "      <td>-0.690753</td>\n",
       "      <td>0.814512</td>\n",
       "      <td>0.617839</td>\n",
       "      <td>-0.609144</td>\n",
       "      <td>-0.467073</td>\n",
       "      <td>0.138805</td>\n",
       "      <td>0.296395</td>\n",
       "      <td>...</td>\n",
       "      <td>0.126931</td>\n",
       "      <td>-0.329245</td>\n",
       "      <td>0.585806</td>\n",
       "      <td>-0.529558</td>\n",
       "      <td>0.432743</td>\n",
       "      <td>-0.485485</td>\n",
       "      <td>-0.016057</td>\n",
       "      <td>0.905029</td>\n",
       "      <td>-0.612284</td>\n",
       "      <td>0.091829</td>\n",
       "    </tr>\n",
       "    <tr>\n",
       "      <td>ADJOE</td>\n",
       "      <td>0.613432</td>\n",
       "      <td>0.754532</td>\n",
       "      <td>1.000000</td>\n",
       "      <td>-0.528576</td>\n",
       "      <td>0.870686</td>\n",
       "      <td>0.732683</td>\n",
       "      <td>-0.333693</td>\n",
       "      <td>-0.601024</td>\n",
       "      <td>-0.116231</td>\n",
       "      <td>0.261351</td>\n",
       "      <td>...</td>\n",
       "      <td>0.063637</td>\n",
       "      <td>-0.382290</td>\n",
       "      <td>0.646011</td>\n",
       "      <td>-0.328822</td>\n",
       "      <td>0.579193</td>\n",
       "      <td>-0.198275</td>\n",
       "      <td>0.070476</td>\n",
       "      <td>0.851663</td>\n",
       "      <td>-0.791692</td>\n",
       "      <td>0.048861</td>\n",
       "    </tr>\n",
       "    <tr>\n",
       "      <td>ADJDE</td>\n",
       "      <td>-0.606166</td>\n",
       "      <td>-0.690753</td>\n",
       "      <td>-0.528576</td>\n",
       "      <td>1.000000</td>\n",
       "      <td>-0.852432</td>\n",
       "      <td>-0.221381</td>\n",
       "      <td>0.792320</td>\n",
       "      <td>0.219779</td>\n",
       "      <td>-0.234615</td>\n",
       "      <td>-0.294066</td>\n",
       "      <td>...</td>\n",
       "      <td>-0.125265</td>\n",
       "      <td>0.180823</td>\n",
       "      <td>-0.251354</td>\n",
       "      <td>0.728488</td>\n",
       "      <td>-0.102715</td>\n",
       "      <td>0.564135</td>\n",
       "      <td>0.227852</td>\n",
       "      <td>-0.809486</td>\n",
       "      <td>0.706046</td>\n",
       "      <td>0.055367</td>\n",
       "    </tr>\n",
       "    <tr>\n",
       "      <td>BARTHAG</td>\n",
       "      <td>0.688059</td>\n",
       "      <td>0.814512</td>\n",
       "      <td>0.870686</td>\n",
       "      <td>-0.852432</td>\n",
       "      <td>1.000000</td>\n",
       "      <td>0.543153</td>\n",
       "      <td>-0.627696</td>\n",
       "      <td>-0.472329</td>\n",
       "      <td>0.054377</td>\n",
       "      <td>0.310917</td>\n",
       "      <td>...</td>\n",
       "      <td>0.112072</td>\n",
       "      <td>-0.327932</td>\n",
       "      <td>0.512045</td>\n",
       "      <td>-0.588121</td>\n",
       "      <td>0.386597</td>\n",
       "      <td>-0.427750</td>\n",
       "      <td>-0.079611</td>\n",
       "      <td>0.941776</td>\n",
       "      <td>-0.832709</td>\n",
       "      <td>0.000228</td>\n",
       "    </tr>\n",
       "    <tr>\n",
       "      <td>EFG_O</td>\n",
       "      <td>0.346425</td>\n",
       "      <td>0.617839</td>\n",
       "      <td>0.732683</td>\n",
       "      <td>-0.221381</td>\n",
       "      <td>0.543153</td>\n",
       "      <td>1.000000</td>\n",
       "      <td>-0.120335</td>\n",
       "      <td>-0.367975</td>\n",
       "      <td>-0.144287</td>\n",
       "      <td>-0.147990</td>\n",
       "      <td>...</td>\n",
       "      <td>-0.083514</td>\n",
       "      <td>-0.404445</td>\n",
       "      <td>0.893530</td>\n",
       "      <td>-0.104079</td>\n",
       "      <td>0.763028</td>\n",
       "      <td>-0.100545</td>\n",
       "      <td>0.120142</td>\n",
       "      <td>0.562904</td>\n",
       "      <td>-0.275137</td>\n",
       "      <td>0.196195</td>\n",
       "    </tr>\n",
       "    <tr>\n",
       "      <td>EFG_D</td>\n",
       "      <td>-0.481942</td>\n",
       "      <td>-0.609144</td>\n",
       "      <td>-0.333693</td>\n",
       "      <td>0.792320</td>\n",
       "      <td>-0.627696</td>\n",
       "      <td>-0.120335</td>\n",
       "      <td>1.000000</td>\n",
       "      <td>0.101070</td>\n",
       "      <td>-0.020831</td>\n",
       "      <td>-0.341636</td>\n",
       "      <td>...</td>\n",
       "      <td>-0.205807</td>\n",
       "      <td>0.107161</td>\n",
       "      <td>-0.148439</td>\n",
       "      <td>0.907933</td>\n",
       "      <td>-0.043770</td>\n",
       "      <td>0.722404</td>\n",
       "      <td>0.273412</td>\n",
       "      <td>-0.629864</td>\n",
       "      <td>0.386928</td>\n",
       "      <td>0.211657</td>\n",
       "    </tr>\n",
       "    <tr>\n",
       "      <td>TOR</td>\n",
       "      <td>-0.336407</td>\n",
       "      <td>-0.467073</td>\n",
       "      <td>-0.601024</td>\n",
       "      <td>0.219779</td>\n",
       "      <td>-0.472329</td>\n",
       "      <td>-0.367975</td>\n",
       "      <td>0.101070</td>\n",
       "      <td>1.000000</td>\n",
       "      <td>0.103437</td>\n",
       "      <td>0.134433</td>\n",
       "      <td>...</td>\n",
       "      <td>0.161369</td>\n",
       "      <td>0.316898</td>\n",
       "      <td>-0.288945</td>\n",
       "      <td>0.091686</td>\n",
       "      <td>-0.333397</td>\n",
       "      <td>0.066363</td>\n",
       "      <td>-0.102687</td>\n",
       "      <td>-0.470286</td>\n",
       "      <td>0.291587</td>\n",
       "      <td>-0.054840</td>\n",
       "    </tr>\n",
       "    <tr>\n",
       "      <td>TORD</td>\n",
       "      <td>0.065020</td>\n",
       "      <td>0.138805</td>\n",
       "      <td>-0.116231</td>\n",
       "      <td>-0.234615</td>\n",
       "      <td>0.054377</td>\n",
       "      <td>-0.144287</td>\n",
       "      <td>-0.020831</td>\n",
       "      <td>0.103437</td>\n",
       "      <td>1.000000</td>\n",
       "      <td>0.118496</td>\n",
       "      <td>...</td>\n",
       "      <td>0.111844</td>\n",
       "      <td>0.392412</td>\n",
       "      <td>-0.079076</td>\n",
       "      <td>0.027203</td>\n",
       "      <td>-0.177276</td>\n",
       "      <td>-0.106798</td>\n",
       "      <td>-0.065216</td>\n",
       "      <td>0.094765</td>\n",
       "      <td>0.057411</td>\n",
       "      <td>-0.051754</td>\n",
       "    </tr>\n",
       "    <tr>\n",
       "      <td>ORB</td>\n",
       "      <td>0.261046</td>\n",
       "      <td>0.296395</td>\n",
       "      <td>0.261351</td>\n",
       "      <td>-0.294066</td>\n",
       "      <td>0.310917</td>\n",
       "      <td>-0.147990</td>\n",
       "      <td>-0.341636</td>\n",
       "      <td>0.134433</td>\n",
       "      <td>0.118496</td>\n",
       "      <td>1.000000</td>\n",
       "      <td>...</td>\n",
       "      <td>0.280598</td>\n",
       "      <td>0.136233</td>\n",
       "      <td>-0.091259</td>\n",
       "      <td>-0.341291</td>\n",
       "      <td>-0.143735</td>\n",
       "      <td>-0.197189</td>\n",
       "      <td>-0.105308</td>\n",
       "      <td>0.332275</td>\n",
       "      <td>-0.314659</td>\n",
       "      <td>-0.217610</td>\n",
       "    </tr>\n",
       "    <tr>\n",
       "      <td>DRB</td>\n",
       "      <td>-0.184134</td>\n",
       "      <td>-0.366715</td>\n",
       "      <td>-0.266665</td>\n",
       "      <td>0.347646</td>\n",
       "      <td>-0.337804</td>\n",
       "      <td>-0.319901</td>\n",
       "      <td>0.172261</td>\n",
       "      <td>0.188585</td>\n",
       "      <td>0.289078</td>\n",
       "      <td>0.018964</td>\n",
       "      <td>...</td>\n",
       "      <td>0.082964</td>\n",
       "      <td>0.235665</td>\n",
       "      <td>-0.299565</td>\n",
       "      <td>0.183057</td>\n",
       "      <td>-0.225528</td>\n",
       "      <td>0.090050</td>\n",
       "      <td>0.032497</td>\n",
       "      <td>-0.303666</td>\n",
       "      <td>0.114416</td>\n",
       "      <td>-0.297920</td>\n",
       "    </tr>\n",
       "    <tr>\n",
       "      <td>FTR</td>\n",
       "      <td>0.090549</td>\n",
       "      <td>0.126931</td>\n",
       "      <td>0.063637</td>\n",
       "      <td>-0.125265</td>\n",
       "      <td>0.112072</td>\n",
       "      <td>-0.083514</td>\n",
       "      <td>-0.205807</td>\n",
       "      <td>0.161369</td>\n",
       "      <td>0.111844</td>\n",
       "      <td>0.280598</td>\n",
       "      <td>...</td>\n",
       "      <td>1.000000</td>\n",
       "      <td>0.203173</td>\n",
       "      <td>-0.040561</td>\n",
       "      <td>-0.202888</td>\n",
       "      <td>-0.093085</td>\n",
       "      <td>-0.108273</td>\n",
       "      <td>0.039090</td>\n",
       "      <td>0.146079</td>\n",
       "      <td>0.091152</td>\n",
       "      <td>-0.326780</td>\n",
       "    </tr>\n",
       "    <tr>\n",
       "      <td>FTRD</td>\n",
       "      <td>-0.279593</td>\n",
       "      <td>-0.329245</td>\n",
       "      <td>-0.382290</td>\n",
       "      <td>0.180823</td>\n",
       "      <td>-0.327932</td>\n",
       "      <td>-0.404445</td>\n",
       "      <td>0.107161</td>\n",
       "      <td>0.316898</td>\n",
       "      <td>0.392412</td>\n",
       "      <td>0.136233</td>\n",
       "      <td>...</td>\n",
       "      <td>0.203173</td>\n",
       "      <td>1.000000</td>\n",
       "      <td>-0.390594</td>\n",
       "      <td>0.088794</td>\n",
       "      <td>-0.267869</td>\n",
       "      <td>0.103091</td>\n",
       "      <td>-0.000793</td>\n",
       "      <td>-0.333798</td>\n",
       "      <td>0.250020</td>\n",
       "      <td>-0.273743</td>\n",
       "    </tr>\n",
       "    <tr>\n",
       "      <td>2P_O</td>\n",
       "      <td>0.339290</td>\n",
       "      <td>0.585806</td>\n",
       "      <td>0.646011</td>\n",
       "      <td>-0.251354</td>\n",
       "      <td>0.512045</td>\n",
       "      <td>0.893530</td>\n",
       "      <td>-0.148439</td>\n",
       "      <td>-0.288945</td>\n",
       "      <td>-0.079076</td>\n",
       "      <td>-0.091259</td>\n",
       "      <td>...</td>\n",
       "      <td>-0.040561</td>\n",
       "      <td>-0.390594</td>\n",
       "      <td>1.000000</td>\n",
       "      <td>-0.119930</td>\n",
       "      <td>0.402768</td>\n",
       "      <td>-0.138731</td>\n",
       "      <td>0.163304</td>\n",
       "      <td>0.530586</td>\n",
       "      <td>-0.235655</td>\n",
       "      <td>0.245197</td>\n",
       "    </tr>\n",
       "    <tr>\n",
       "      <td>2P_D</td>\n",
       "      <td>-0.439340</td>\n",
       "      <td>-0.529558</td>\n",
       "      <td>-0.328822</td>\n",
       "      <td>0.728488</td>\n",
       "      <td>-0.588121</td>\n",
       "      <td>-0.104079</td>\n",
       "      <td>0.907933</td>\n",
       "      <td>0.091686</td>\n",
       "      <td>0.027203</td>\n",
       "      <td>-0.341291</td>\n",
       "      <td>...</td>\n",
       "      <td>-0.202888</td>\n",
       "      <td>0.088794</td>\n",
       "      <td>-0.119930</td>\n",
       "      <td>1.000000</td>\n",
       "      <td>-0.053283</td>\n",
       "      <td>0.373182</td>\n",
       "      <td>0.283103</td>\n",
       "      <td>-0.574111</td>\n",
       "      <td>0.391802</td>\n",
       "      <td>0.253167</td>\n",
       "    </tr>\n",
       "    <tr>\n",
       "      <td>3P_O</td>\n",
       "      <td>0.225821</td>\n",
       "      <td>0.432743</td>\n",
       "      <td>0.579193</td>\n",
       "      <td>-0.102715</td>\n",
       "      <td>0.386597</td>\n",
       "      <td>0.763028</td>\n",
       "      <td>-0.043770</td>\n",
       "      <td>-0.333397</td>\n",
       "      <td>-0.177276</td>\n",
       "      <td>-0.143735</td>\n",
       "      <td>...</td>\n",
       "      <td>-0.093085</td>\n",
       "      <td>-0.267869</td>\n",
       "      <td>0.402768</td>\n",
       "      <td>-0.053283</td>\n",
       "      <td>1.000000</td>\n",
       "      <td>-0.009907</td>\n",
       "      <td>0.017151</td>\n",
       "      <td>0.403304</td>\n",
       "      <td>-0.220968</td>\n",
       "      <td>0.034529</td>\n",
       "    </tr>\n",
       "    <tr>\n",
       "      <td>3P_D</td>\n",
       "      <td>-0.349726</td>\n",
       "      <td>-0.485485</td>\n",
       "      <td>-0.198275</td>\n",
       "      <td>0.564135</td>\n",
       "      <td>-0.427750</td>\n",
       "      <td>-0.100545</td>\n",
       "      <td>0.722404</td>\n",
       "      <td>0.066363</td>\n",
       "      <td>-0.106798</td>\n",
       "      <td>-0.197189</td>\n",
       "      <td>...</td>\n",
       "      <td>-0.108273</td>\n",
       "      <td>0.103091</td>\n",
       "      <td>-0.138731</td>\n",
       "      <td>0.373182</td>\n",
       "      <td>-0.009907</td>\n",
       "      <td>1.000000</td>\n",
       "      <td>0.141897</td>\n",
       "      <td>-0.455148</td>\n",
       "      <td>0.157616</td>\n",
       "      <td>0.024843</td>\n",
       "    </tr>\n",
       "    <tr>\n",
       "      <td>ADJ_T</td>\n",
       "      <td>-0.040433</td>\n",
       "      <td>-0.016057</td>\n",
       "      <td>0.070476</td>\n",
       "      <td>0.227852</td>\n",
       "      <td>-0.079611</td>\n",
       "      <td>0.120142</td>\n",
       "      <td>0.273412</td>\n",
       "      <td>-0.102687</td>\n",
       "      <td>-0.065216</td>\n",
       "      <td>-0.105308</td>\n",
       "      <td>...</td>\n",
       "      <td>0.039090</td>\n",
       "      <td>-0.000793</td>\n",
       "      <td>0.163304</td>\n",
       "      <td>0.283103</td>\n",
       "      <td>0.017151</td>\n",
       "      <td>0.141897</td>\n",
       "      <td>1.000000</td>\n",
       "      <td>-0.056011</td>\n",
       "      <td>0.043924</td>\n",
       "      <td>0.380953</td>\n",
       "    </tr>\n",
       "    <tr>\n",
       "      <td>WAB</td>\n",
       "      <td>0.666595</td>\n",
       "      <td>0.905029</td>\n",
       "      <td>0.851663</td>\n",
       "      <td>-0.809486</td>\n",
       "      <td>0.941776</td>\n",
       "      <td>0.562904</td>\n",
       "      <td>-0.629864</td>\n",
       "      <td>-0.470286</td>\n",
       "      <td>0.094765</td>\n",
       "      <td>0.332275</td>\n",
       "      <td>...</td>\n",
       "      <td>0.146079</td>\n",
       "      <td>-0.333798</td>\n",
       "      <td>0.530586</td>\n",
       "      <td>-0.574111</td>\n",
       "      <td>0.403304</td>\n",
       "      <td>-0.455148</td>\n",
       "      <td>-0.056011</td>\n",
       "      <td>1.000000</td>\n",
       "      <td>-0.922111</td>\n",
       "      <td>-0.003705</td>\n",
       "    </tr>\n",
       "    <tr>\n",
       "      <td>SEED</td>\n",
       "      <td>-0.607807</td>\n",
       "      <td>-0.612284</td>\n",
       "      <td>-0.791692</td>\n",
       "      <td>0.706046</td>\n",
       "      <td>-0.832709</td>\n",
       "      <td>-0.275137</td>\n",
       "      <td>0.386928</td>\n",
       "      <td>0.291587</td>\n",
       "      <td>0.057411</td>\n",
       "      <td>-0.314659</td>\n",
       "      <td>...</td>\n",
       "      <td>0.091152</td>\n",
       "      <td>0.250020</td>\n",
       "      <td>-0.235655</td>\n",
       "      <td>0.391802</td>\n",
       "      <td>-0.220968</td>\n",
       "      <td>0.157616</td>\n",
       "      <td>0.043924</td>\n",
       "      <td>-0.922111</td>\n",
       "      <td>1.000000</td>\n",
       "      <td>0.000446</td>\n",
       "    </tr>\n",
       "    <tr>\n",
       "      <td>YEAR</td>\n",
       "      <td>0.052233</td>\n",
       "      <td>0.091829</td>\n",
       "      <td>0.048861</td>\n",
       "      <td>0.055367</td>\n",
       "      <td>0.000228</td>\n",
       "      <td>0.196195</td>\n",
       "      <td>0.211657</td>\n",
       "      <td>-0.054840</td>\n",
       "      <td>-0.051754</td>\n",
       "      <td>-0.217610</td>\n",
       "      <td>...</td>\n",
       "      <td>-0.326780</td>\n",
       "      <td>-0.273743</td>\n",
       "      <td>0.245197</td>\n",
       "      <td>0.253167</td>\n",
       "      <td>0.034529</td>\n",
       "      <td>0.024843</td>\n",
       "      <td>0.380953</td>\n",
       "      <td>-0.003705</td>\n",
       "      <td>0.000446</td>\n",
       "      <td>1.000000</td>\n",
       "    </tr>\n",
       "  </tbody>\n",
       "</table>\n",
       "<p>21 rows × 21 columns</p>\n",
       "</div>"
      ],
      "text/plain": [
       "                G         W     ADJOE     ADJDE   BARTHAG     EFG_O     EFG_D  \\\n",
       "G        1.000000  0.708838  0.613432 -0.606166  0.688059  0.346425 -0.481942   \n",
       "W        0.708838  1.000000  0.754532 -0.690753  0.814512  0.617839 -0.609144   \n",
       "ADJOE    0.613432  0.754532  1.000000 -0.528576  0.870686  0.732683 -0.333693   \n",
       "ADJDE   -0.606166 -0.690753 -0.528576  1.000000 -0.852432 -0.221381  0.792320   \n",
       "BARTHAG  0.688059  0.814512  0.870686 -0.852432  1.000000  0.543153 -0.627696   \n",
       "EFG_O    0.346425  0.617839  0.732683 -0.221381  0.543153  1.000000 -0.120335   \n",
       "EFG_D   -0.481942 -0.609144 -0.333693  0.792320 -0.627696 -0.120335  1.000000   \n",
       "TOR     -0.336407 -0.467073 -0.601024  0.219779 -0.472329 -0.367975  0.101070   \n",
       "TORD     0.065020  0.138805 -0.116231 -0.234615  0.054377 -0.144287 -0.020831   \n",
       "ORB      0.261046  0.296395  0.261351 -0.294066  0.310917 -0.147990 -0.341636   \n",
       "DRB     -0.184134 -0.366715 -0.266665  0.347646 -0.337804 -0.319901  0.172261   \n",
       "FTR      0.090549  0.126931  0.063637 -0.125265  0.112072 -0.083514 -0.205807   \n",
       "FTRD    -0.279593 -0.329245 -0.382290  0.180823 -0.327932 -0.404445  0.107161   \n",
       "2P_O     0.339290  0.585806  0.646011 -0.251354  0.512045  0.893530 -0.148439   \n",
       "2P_D    -0.439340 -0.529558 -0.328822  0.728488 -0.588121 -0.104079  0.907933   \n",
       "3P_O     0.225821  0.432743  0.579193 -0.102715  0.386597  0.763028 -0.043770   \n",
       "3P_D    -0.349726 -0.485485 -0.198275  0.564135 -0.427750 -0.100545  0.722404   \n",
       "ADJ_T   -0.040433 -0.016057  0.070476  0.227852 -0.079611  0.120142  0.273412   \n",
       "WAB      0.666595  0.905029  0.851663 -0.809486  0.941776  0.562904 -0.629864   \n",
       "SEED    -0.607807 -0.612284 -0.791692  0.706046 -0.832709 -0.275137  0.386928   \n",
       "YEAR     0.052233  0.091829  0.048861  0.055367  0.000228  0.196195  0.211657   \n",
       "\n",
       "              TOR      TORD       ORB  ...       FTR      FTRD      2P_O  \\\n",
       "G       -0.336407  0.065020  0.261046  ...  0.090549 -0.279593  0.339290   \n",
       "W       -0.467073  0.138805  0.296395  ...  0.126931 -0.329245  0.585806   \n",
       "ADJOE   -0.601024 -0.116231  0.261351  ...  0.063637 -0.382290  0.646011   \n",
       "ADJDE    0.219779 -0.234615 -0.294066  ... -0.125265  0.180823 -0.251354   \n",
       "BARTHAG -0.472329  0.054377  0.310917  ...  0.112072 -0.327932  0.512045   \n",
       "EFG_O   -0.367975 -0.144287 -0.147990  ... -0.083514 -0.404445  0.893530   \n",
       "EFG_D    0.101070 -0.020831 -0.341636  ... -0.205807  0.107161 -0.148439   \n",
       "TOR      1.000000  0.103437  0.134433  ...  0.161369  0.316898 -0.288945   \n",
       "TORD     0.103437  1.000000  0.118496  ...  0.111844  0.392412 -0.079076   \n",
       "ORB      0.134433  0.118496  1.000000  ...  0.280598  0.136233 -0.091259   \n",
       "DRB      0.188585  0.289078  0.018964  ...  0.082964  0.235665 -0.299565   \n",
       "FTR      0.161369  0.111844  0.280598  ...  1.000000  0.203173 -0.040561   \n",
       "FTRD     0.316898  0.392412  0.136233  ...  0.203173  1.000000 -0.390594   \n",
       "2P_O    -0.288945 -0.079076 -0.091259  ... -0.040561 -0.390594  1.000000   \n",
       "2P_D     0.091686  0.027203 -0.341291  ... -0.202888  0.088794 -0.119930   \n",
       "3P_O    -0.333397 -0.177276 -0.143735  ... -0.093085 -0.267869  0.402768   \n",
       "3P_D     0.066363 -0.106798 -0.197189  ... -0.108273  0.103091 -0.138731   \n",
       "ADJ_T   -0.102687 -0.065216 -0.105308  ...  0.039090 -0.000793  0.163304   \n",
       "WAB     -0.470286  0.094765  0.332275  ...  0.146079 -0.333798  0.530586   \n",
       "SEED     0.291587  0.057411 -0.314659  ...  0.091152  0.250020 -0.235655   \n",
       "YEAR    -0.054840 -0.051754 -0.217610  ... -0.326780 -0.273743  0.245197   \n",
       "\n",
       "             2P_D      3P_O      3P_D     ADJ_T       WAB      SEED      YEAR  \n",
       "G       -0.439340  0.225821 -0.349726 -0.040433  0.666595 -0.607807  0.052233  \n",
       "W       -0.529558  0.432743 -0.485485 -0.016057  0.905029 -0.612284  0.091829  \n",
       "ADJOE   -0.328822  0.579193 -0.198275  0.070476  0.851663 -0.791692  0.048861  \n",
       "ADJDE    0.728488 -0.102715  0.564135  0.227852 -0.809486  0.706046  0.055367  \n",
       "BARTHAG -0.588121  0.386597 -0.427750 -0.079611  0.941776 -0.832709  0.000228  \n",
       "EFG_O   -0.104079  0.763028 -0.100545  0.120142  0.562904 -0.275137  0.196195  \n",
       "EFG_D    0.907933 -0.043770  0.722404  0.273412 -0.629864  0.386928  0.211657  \n",
       "TOR      0.091686 -0.333397  0.066363 -0.102687 -0.470286  0.291587 -0.054840  \n",
       "TORD     0.027203 -0.177276 -0.106798 -0.065216  0.094765  0.057411 -0.051754  \n",
       "ORB     -0.341291 -0.143735 -0.197189 -0.105308  0.332275 -0.314659 -0.217610  \n",
       "DRB      0.183057 -0.225528  0.090050  0.032497 -0.303666  0.114416 -0.297920  \n",
       "FTR     -0.202888 -0.093085 -0.108273  0.039090  0.146079  0.091152 -0.326780  \n",
       "FTRD     0.088794 -0.267869  0.103091 -0.000793 -0.333798  0.250020 -0.273743  \n",
       "2P_O    -0.119930  0.402768 -0.138731  0.163304  0.530586 -0.235655  0.245197  \n",
       "2P_D     1.000000 -0.053283  0.373182  0.283103 -0.574111  0.391802  0.253167  \n",
       "3P_O    -0.053283  1.000000 -0.009907  0.017151  0.403304 -0.220968  0.034529  \n",
       "3P_D     0.373182 -0.009907  1.000000  0.141897 -0.455148  0.157616  0.024843  \n",
       "ADJ_T    0.283103  0.017151  0.141897  1.000000 -0.056011  0.043924  0.380953  \n",
       "WAB     -0.574111  0.403304 -0.455148 -0.056011  1.000000 -0.922111 -0.003705  \n",
       "SEED     0.391802 -0.220968  0.157616  0.043924 -0.922111  1.000000  0.000446  \n",
       "YEAR     0.253167  0.034529  0.024843  0.380953 -0.003705  0.000446  1.000000  \n",
       "\n",
       "[21 rows x 21 columns]"
      ]
     },
     "execution_count": 142,
     "metadata": {},
     "output_type": "execute_result"
    }
   ],
   "source": [
    "df.corr() # Displays how each column is correlated with each other in a Data Frame"
   ]
  },
  {
   "cell_type": "markdown",
   "metadata": {},
   "source": [
    "### Notes found in correlation"
   ]
  },
  {
   "cell_type": "markdown",
   "metadata": {},
   "source": [
    "ADJOE and EFG_O have a correlation of 0.73. This correlation is too close to use in the same model. Since ADJOE has a closer correlation to Wins, ADJOE will be used in the model.  \n",
    "ADJDE and EFG_D have a correlation of 0.79. ADJDE and 2P_D have a correlation of 0.73. These correlations are too close to use in the same model. Since ADJDE has the closest correlation to Wins, ADJDE will be used in the model.  "
   ]
  },
  {
   "cell_type": "markdown",
   "metadata": {},
   "source": [
    "### Dropping Multicollinear Columns "
   ]
  },
  {
   "cell_type": "code",
   "execution_count": 146,
   "metadata": {},
   "outputs": [
    {
     "data": {
      "text/plain": [
       "(1757, 21)"
      ]
     },
     "execution_count": 146,
     "metadata": {},
     "output_type": "execute_result"
    }
   ],
   "source": [
    "df2 = df.drop(['EFG_O', 'EFG_D', '2P_D'], axis = 1)\n",
    "df2.shape # 21 columns"
   ]
  },
  {
   "cell_type": "markdown",
   "metadata": {},
   "source": [
    "### Dropping non useful columns "
   ]
  },
  {
   "cell_type": "markdown",
   "metadata": {},
   "source": [
    "WAB, BARTHAG and SEED are not useful because these numbers are calculated from wins.  \n",
    "POSTSEASON and CONF are also not useful because they cannot be used to help the model. "
   ]
  },
  {
   "cell_type": "code",
   "execution_count": 149,
   "metadata": {},
   "outputs": [
    {
     "data": {
      "text/plain": [
       "(1757, 16)"
      ]
     },
     "execution_count": 149,
     "metadata": {},
     "output_type": "execute_result"
    }
   ],
   "source": [
    "df3 = df2.drop(['WAB','BARTHAG','SEED','POSTSEASON', 'CONF'], axis = 1)\n",
    "df3.shape # 16 columns"
   ]
  },
  {
   "cell_type": "markdown",
   "metadata": {},
   "source": [
    "## Simple Linear Regression Model"
   ]
  },
  {
   "cell_type": "markdown",
   "metadata": {},
   "source": [
    "### Predicting Wins with ADJOE "
   ]
  },
  {
   "cell_type": "code",
   "execution_count": 273,
   "metadata": {},
   "outputs": [
    {
     "data": {
      "text/plain": [
       "<matplotlib.axes._subplots.AxesSubplot at 0x1a238ecf50>"
      ]
     },
     "execution_count": 273,
     "metadata": {},
     "output_type": "execute_result"
    },
    {
     "data": {
      "image/png": "[encoded data removed]",
      "text/plain": [
       "<Figure size 432x288 with 1 Axes>"
      ]
     },
     "metadata": {
      "needs_background": "light"
     },
     "output_type": "display_data"
    }
   ],
   "source": [
    "df3.plot.scatter(x = 'ADJOE', y = 'W', label = 'Team Wins') # Scatter plot to display on the same graph"
   ]
  },
  {
   "cell_type": "code",
   "execution_count": 401,
   "metadata": {},
   "outputs": [
    {
     "data": {
      "text/html": [
       "<table class=\"simpletable\">\n",
       "<caption>OLS Regression Results</caption>\n",
       "<tr>\n",
       "  <th>Dep. Variable:</th>            <td>W</td>        <th>  R-squared:         </th> <td>   0.569</td> \n",
       "</tr>\n",
       "<tr>\n",
       "  <th>Model:</th>                   <td>OLS</td>       <th>  Adj. R-squared:    </th> <td>   0.569</td> \n",
       "</tr>\n",
       "<tr>\n",
       "  <th>Method:</th>             <td>Least Squares</td>  <th>  F-statistic:       </th> <td>   2320.</td> \n",
       "</tr>\n",
       "<tr>\n",
       "  <th>Date:</th>             <td>Fri, 27 Mar 2020</td> <th>  Prob (F-statistic):</th> <td>2.47e-323</td>\n",
       "</tr>\n",
       "<tr>\n",
       "  <th>Time:</th>                 <td>07:21:54</td>     <th>  Log-Likelihood:    </th> <td> -5053.6</td> \n",
       "</tr>\n",
       "<tr>\n",
       "  <th>No. Observations:</th>      <td>  1757</td>      <th>  AIC:               </th> <td>1.011e+04</td>\n",
       "</tr>\n",
       "<tr>\n",
       "  <th>Df Residuals:</th>          <td>  1755</td>      <th>  BIC:               </th> <td>1.012e+04</td>\n",
       "</tr>\n",
       "<tr>\n",
       "  <th>Df Model:</th>              <td>     1</td>      <th>                     </th>     <td> </td>    \n",
       "</tr>\n",
       "<tr>\n",
       "  <th>Covariance Type:</th>      <td>nonrobust</td>    <th>                     </th>     <td> </td>    \n",
       "</tr>\n",
       "</table>\n",
       "<table class=\"simpletable\">\n",
       "<tr>\n",
       "      <td></td>         <th>coef</th>     <th>std err</th>      <th>t</th>      <th>P>|t|</th>  <th>[0.025</th>    <th>0.975]</th>  \n",
       "</tr>\n",
       "<tr>\n",
       "  <th>Intercept</th> <td>  -53.4909</td> <td>    1.457</td> <td>  -36.713</td> <td> 0.000</td> <td>  -56.349</td> <td>  -50.633</td>\n",
       "</tr>\n",
       "<tr>\n",
       "  <th>ADJOE</th>     <td>    0.6761</td> <td>    0.014</td> <td>   48.166</td> <td> 0.000</td> <td>    0.649</td> <td>    0.704</td>\n",
       "</tr>\n",
       "</table>\n",
       "<table class=\"simpletable\">\n",
       "<tr>\n",
       "  <th>Omnibus:</th>       <td>18.637</td> <th>  Durbin-Watson:     </th> <td>   1.591</td>\n",
       "</tr>\n",
       "<tr>\n",
       "  <th>Prob(Omnibus):</th> <td> 0.000</td> <th>  Jarque-Bera (JB):  </th> <td>  14.186</td>\n",
       "</tr>\n",
       "<tr>\n",
       "  <th>Skew:</th>          <td> 0.124</td> <th>  Prob(JB):          </th> <td>0.000831</td>\n",
       "</tr>\n",
       "<tr>\n",
       "  <th>Kurtosis:</th>      <td> 2.636</td> <th>  Cond. No.          </th> <td>1.48e+03</td>\n",
       "</tr>\n",
       "</table><br/><br/>Warnings:<br/>[1] Standard Errors assume that the covariance matrix of the errors is correctly specified.<br/>[2] The condition number is large, 1.48e+03. This might indicate that there are<br/>strong multicollinearity or other numerical problems."
      ],
      "text/plain": [
       "<class 'statsmodels.iolib.summary.Summary'>\n",
       "\"\"\"\n",
       "                            OLS Regression Results                            \n",
       "==============================================================================\n",
       "Dep. Variable:                      W   R-squared:                       0.569\n",
       "Model:                            OLS   Adj. R-squared:                  0.569\n",
       "Method:                 Least Squares   F-statistic:                     2320.\n",
       "Date:                Fri, 27 Mar 2020   Prob (F-statistic):          2.47e-323\n",
       "Time:                        07:21:54   Log-Likelihood:                -5053.6\n",
       "No. Observations:                1757   AIC:                         1.011e+04\n",
       "Df Residuals:                    1755   BIC:                         1.012e+04\n",
       "Df Model:                           1                                         \n",
       "Covariance Type:            nonrobust                                         \n",
       "==============================================================================\n",
       "                 coef    std err          t      P>|t|      [0.025      0.975]\n",
       "------------------------------------------------------------------------------\n",
       "Intercept    -53.4909      1.457    -36.713      0.000     -56.349     -50.633\n",
       "ADJOE          0.6761      0.014     48.166      0.000       0.649       0.704\n",
       "==============================================================================\n",
       "Omnibus:                       18.637   Durbin-Watson:                   1.591\n",
       "Prob(Omnibus):                  0.000   Jarque-Bera (JB):               14.186\n",
       "Skew:                           0.124   Prob(JB):                     0.000831\n",
       "Kurtosis:                       2.636   Cond. No.                     1.48e+03\n",
       "==============================================================================\n",
       "\n",
       "Warnings:\n",
       "[1] Standard Errors assume that the covariance matrix of the errors is correctly specified.\n",
       "[2] The condition number is large, 1.48e+03. This might indicate that there are\n",
       "strong multicollinearity or other numerical problems.\n",
       "\"\"\""
      ]
     },
     "execution_count": 401,
     "metadata": {},
     "output_type": "execute_result"
    }
   ],
   "source": [
    "lr_model = ols(formula='W~ADJOE', data=df3).fit()\n",
    "\n",
    "lr_model.summary()"
   ]
  },
  {
   "cell_type": "markdown",
   "metadata": {},
   "source": [
    "**R Squared is 0.569**"
   ]
  },
  {
   "cell_type": "code",
   "execution_count": 274,
   "metadata": {},
   "outputs": [],
   "source": [
    "X = df3['ADJOE'].values.reshape(-1,1)\n",
    "Y = df3['W'].values.reshape(-1,1)"
   ]
  },
  {
   "cell_type": "code",
   "execution_count": 275,
   "metadata": {},
   "outputs": [],
   "source": [
    "X_train, X_test, Y_train, Y_test = train_test_split(X, Y, test_size=0.2, random_state=0) # 80% of data is used to train model and 20% used to test model"
   ]
  },
  {
   "cell_type": "code",
   "execution_count": 276,
   "metadata": {},
   "outputs": [],
   "source": [
    "lr = LinearRegression()"
   ]
  },
  {
   "cell_type": "code",
   "execution_count": 277,
   "metadata": {},
   "outputs": [
    {
     "data": {
      "text/plain": [
       "LinearRegression(copy_X=True, fit_intercept=True, n_jobs=None, normalize=False)"
      ]
     },
     "execution_count": 277,
     "metadata": {},
     "output_type": "execute_result"
    }
   ],
   "source": [
    "lr.fit(X_train,Y_train)"
   ]
  },
  {
   "cell_type": "code",
   "execution_count": 278,
   "metadata": {},
   "outputs": [
    {
     "name": "stdout",
     "output_type": "stream",
     "text": [
      "[[0.66133474]]\n"
     ]
    }
   ],
   "source": [
    "print(lr.coef_) "
   ]
  },
  {
   "cell_type": "code",
   "execution_count": 279,
   "metadata": {},
   "outputs": [
    {
     "name": "stdout",
     "output_type": "stream",
     "text": [
      "[-51.95429045]\n"
     ]
    }
   ],
   "source": [
    "print(lr.intercept_)"
   ]
  },
  {
   "cell_type": "code",
   "execution_count": 260,
   "metadata": {},
   "outputs": [
    {
     "data": {
      "text/html": [
       "<div>\n",
       "<style scoped>\n",
       "    .dataframe tbody tr th:only-of-type {\n",
       "        vertical-align: middle;\n",
       "    }\n",
       "\n",
       "    .dataframe tbody tr th {\n",
       "        vertical-align: top;\n",
       "    }\n",
       "\n",
       "    .dataframe thead th {\n",
       "        text-align: right;\n",
       "    }\n",
       "</style>\n",
       "<table border=\"1\" class=\"dataframe\">\n",
       "  <thead>\n",
       "    <tr style=\"text-align: right;\">\n",
       "      <th></th>\n",
       "      <th>Actual_Wins</th>\n",
       "      <th>Predicted_Wins</th>\n",
       "    </tr>\n",
       "  </thead>\n",
       "  <tbody>\n",
       "    <tr>\n",
       "      <td>0</td>\n",
       "      <td>11</td>\n",
       "      <td>13.054915</td>\n",
       "    </tr>\n",
       "    <tr>\n",
       "      <td>1</td>\n",
       "      <td>16</td>\n",
       "      <td>12.393580</td>\n",
       "    </tr>\n",
       "    <tr>\n",
       "      <td>2</td>\n",
       "      <td>15</td>\n",
       "      <td>14.113051</td>\n",
       "    </tr>\n",
       "    <tr>\n",
       "      <td>3</td>\n",
       "      <td>25</td>\n",
       "      <td>20.990932</td>\n",
       "    </tr>\n",
       "    <tr>\n",
       "      <td>4</td>\n",
       "      <td>11</td>\n",
       "      <td>10.475709</td>\n",
       "    </tr>\n",
       "    <tr>\n",
       "      <td>...</td>\n",
       "      <td>...</td>\n",
       "      <td>...</td>\n",
       "    </tr>\n",
       "    <tr>\n",
       "      <td>347</td>\n",
       "      <td>6</td>\n",
       "      <td>13.319449</td>\n",
       "    </tr>\n",
       "    <tr>\n",
       "      <td>348</td>\n",
       "      <td>20</td>\n",
       "      <td>20.990932</td>\n",
       "    </tr>\n",
       "    <tr>\n",
       "      <td>349</td>\n",
       "      <td>19</td>\n",
       "      <td>23.041070</td>\n",
       "    </tr>\n",
       "    <tr>\n",
       "      <td>350</td>\n",
       "      <td>4</td>\n",
       "      <td>12.129046</td>\n",
       "    </tr>\n",
       "    <tr>\n",
       "      <td>351</td>\n",
       "      <td>25</td>\n",
       "      <td>19.469862</td>\n",
       "    </tr>\n",
       "  </tbody>\n",
       "</table>\n",
       "<p>352 rows × 2 columns</p>\n",
       "</div>"
      ],
      "text/plain": [
       "     Actual_Wins  Predicted_Wins\n",
       "0             11       13.054915\n",
       "1             16       12.393580\n",
       "2             15       14.113051\n",
       "3             25       20.990932\n",
       "4             11       10.475709\n",
       "..           ...             ...\n",
       "347            6       13.319449\n",
       "348           20       20.990932\n",
       "349           19       23.041070\n",
       "350            4       12.129046\n",
       "351           25       19.469862\n",
       "\n",
       "[352 rows x 2 columns]"
      ]
     },
     "execution_count": 260,
     "metadata": {},
     "output_type": "execute_result"
    }
   ],
   "source": [
    "wins_pred_adjoe = (lr.predict(X_test)) # Model predictied wins using test data\n",
    "wins_pred_adjoe_df = pd.DataFrame({'Actual_Wins': Y_test.flatten(), 'Predicted_Wins': wins_pred_adjoe.flatten()}) # Predicted wins and Actual wins into Data Frame\n",
    "wins_pred_adjoe_df"
   ]
  },
  {
   "cell_type": "code",
   "execution_count": 265,
   "metadata": {},
   "outputs": [
    {
     "data": {
      "image/png": "[encoded data removed]",
      "text/plain": [
       "<Figure size 432x288 with 1 Axes>"
      ]
     },
     "metadata": {
      "needs_background": "light"
     },
     "output_type": "display_data"
    }
   ],
   "source": [
    "plt.scatter(X_test, Y_test, color = 'blue', label = 'Actual Team Wins')\n",
    "plt.plot(X_test, W_pred_adjoe, color = 'red', linewidth = 3, label = 'Predicted Team Wins')\n",
    "plt.xlabel('Adjusted Offensive Efficency')\n",
    "plt.ylabel('Wins')\n",
    "plt.legend()\n",
    "plt.title('Adjusted Offensive Efficency Predicting Wins')\n",
    "plt.show() # Graphing Predicted Wins vs Actual Wins"
   ]
  },
  {
   "cell_type": "code",
   "execution_count": 269,
   "metadata": {},
   "outputs": [
    {
     "name": "stdout",
     "output_type": "stream",
     "text": [
      "Root Mean Squared Error: 4.3031810950856775\n"
     ]
    }
   ],
   "source": [
    "print('Root Mean Squared Error:', np.sqrt(metrics.mean_squared_error(Y_test, wins_pred_adjoe))) # Model RMSE"
   ]
  },
  {
   "cell_type": "markdown",
   "metadata": {},
   "source": [
    "### Predicting Wins with ADJDE "
   ]
  },
  {
   "cell_type": "code",
   "execution_count": 298,
   "metadata": {},
   "outputs": [
    {
     "data": {
      "text/plain": [
       "<matplotlib.axes._subplots.AxesSubplot at 0x1a23e1d690>"
      ]
     },
     "execution_count": 298,
     "metadata": {},
     "output_type": "execute_result"
    },
    {
     "data": {
      "image/png": "[encoded data removed]",
      "text/plain": [
       "<Figure size 432x288 with 1 Axes>"
      ]
     },
     "metadata": {
      "needs_background": "light"
     },
     "output_type": "display_data"
    }
   ],
   "source": [
    "df3.plot.scatter(x = 'ADJDE', y = 'W', label = 'Team Wins') # Scatter plot to display on the same graph"
   ]
  },
  {
   "cell_type": "code",
   "execution_count": 280,
   "metadata": {},
   "outputs": [
    {
     "data": {
      "text/html": [
       "<table class=\"simpletable\">\n",
       "<caption>OLS Regression Results</caption>\n",
       "<tr>\n",
       "  <th>Dep. Variable:</th>            <td>W</td>        <th>  R-squared:         </th> <td>   0.477</td> \n",
       "</tr>\n",
       "<tr>\n",
       "  <th>Model:</th>                   <td>OLS</td>       <th>  Adj. R-squared:    </th> <td>   0.477</td> \n",
       "</tr>\n",
       "<tr>\n",
       "  <th>Method:</th>             <td>Least Squares</td>  <th>  F-statistic:       </th> <td>   1602.</td> \n",
       "</tr>\n",
       "<tr>\n",
       "  <th>Date:</th>             <td>Fri, 27 Mar 2020</td> <th>  Prob (F-statistic):</th> <td>2.11e-249</td>\n",
       "</tr>\n",
       "<tr>\n",
       "  <th>Time:</th>                 <td>06:34:25</td>     <th>  Log-Likelihood:    </th> <td> -5224.0</td> \n",
       "</tr>\n",
       "<tr>\n",
       "  <th>No. Observations:</th>      <td>  1757</td>      <th>  AIC:               </th> <td>1.045e+04</td>\n",
       "</tr>\n",
       "<tr>\n",
       "  <th>Df Residuals:</th>          <td>  1755</td>      <th>  BIC:               </th> <td>1.046e+04</td>\n",
       "</tr>\n",
       "<tr>\n",
       "  <th>Df Model:</th>              <td>     1</td>      <th>                     </th>     <td> </td>    \n",
       "</tr>\n",
       "<tr>\n",
       "  <th>Covariance Type:</th>      <td>nonrobust</td>    <th>                     </th>     <td> </td>    \n",
       "</tr>\n",
       "</table>\n",
       "<table class=\"simpletable\">\n",
       "<tr>\n",
       "      <td></td>         <th>coef</th>     <th>std err</th>      <th>t</th>      <th>P>|t|</th>  <th>[0.025</th>    <th>0.975]</th>  \n",
       "</tr>\n",
       "<tr>\n",
       "  <th>Intercept</th> <td>   88.8411</td> <td>    1.811</td> <td>   49.060</td> <td> 0.000</td> <td>   85.289</td> <td>   92.393</td>\n",
       "</tr>\n",
       "<tr>\n",
       "  <th>ADJDE</th>     <td>   -0.6985</td> <td>    0.017</td> <td>  -40.019</td> <td> 0.000</td> <td>   -0.733</td> <td>   -0.664</td>\n",
       "</tr>\n",
       "</table>\n",
       "<table class=\"simpletable\">\n",
       "<tr>\n",
       "  <th>Omnibus:</th>       <td>11.263</td> <th>  Durbin-Watson:     </th> <td>   1.499</td>\n",
       "</tr>\n",
       "<tr>\n",
       "  <th>Prob(Omnibus):</th> <td> 0.004</td> <th>  Jarque-Bera (JB):  </th> <td>   8.143</td>\n",
       "</tr>\n",
       "<tr>\n",
       "  <th>Skew:</th>          <td> 0.021</td> <th>  Prob(JB):          </th> <td>  0.0170</td>\n",
       "</tr>\n",
       "<tr>\n",
       "  <th>Kurtosis:</th>      <td> 2.669</td> <th>  Cond. No.          </th> <td>1.66e+03</td>\n",
       "</tr>\n",
       "</table><br/><br/>Warnings:<br/>[1] Standard Errors assume that the covariance matrix of the errors is correctly specified.<br/>[2] The condition number is large, 1.66e+03. This might indicate that there are<br/>strong multicollinearity or other numerical problems."
      ],
      "text/plain": [
       "<class 'statsmodels.iolib.summary.Summary'>\n",
       "\"\"\"\n",
       "                            OLS Regression Results                            \n",
       "==============================================================================\n",
       "Dep. Variable:                      W   R-squared:                       0.477\n",
       "Model:                            OLS   Adj. R-squared:                  0.477\n",
       "Method:                 Least Squares   F-statistic:                     1602.\n",
       "Date:                Fri, 27 Mar 2020   Prob (F-statistic):          2.11e-249\n",
       "Time:                        06:34:25   Log-Likelihood:                -5224.0\n",
       "No. Observations:                1757   AIC:                         1.045e+04\n",
       "Df Residuals:                    1755   BIC:                         1.046e+04\n",
       "Df Model:                           1                                         \n",
       "Covariance Type:            nonrobust                                         \n",
       "==============================================================================\n",
       "                 coef    std err          t      P>|t|      [0.025      0.975]\n",
       "------------------------------------------------------------------------------\n",
       "Intercept     88.8411      1.811     49.060      0.000      85.289      92.393\n",
       "ADJDE         -0.6985      0.017    -40.019      0.000      -0.733      -0.664\n",
       "==============================================================================\n",
       "Omnibus:                       11.263   Durbin-Watson:                   1.499\n",
       "Prob(Omnibus):                  0.004   Jarque-Bera (JB):                8.143\n",
       "Skew:                           0.021   Prob(JB):                       0.0170\n",
       "Kurtosis:                       2.669   Cond. No.                     1.66e+03\n",
       "==============================================================================\n",
       "\n",
       "Warnings:\n",
       "[1] Standard Errors assume that the covariance matrix of the errors is correctly specified.\n",
       "[2] The condition number is large, 1.66e+03. This might indicate that there are\n",
       "strong multicollinearity or other numerical problems.\n",
       "\"\"\""
      ]
     },
     "execution_count": 280,
     "metadata": {},
     "output_type": "execute_result"
    }
   ],
   "source": [
    "lr_model2 = ols(formula='W~ADJDE', data=df3).fit()\n",
    "\n",
    "lr_model2.summary()"
   ]
  },
  {
   "cell_type": "markdown",
   "metadata": {},
   "source": [
    "**R Squared is 0.477**"
   ]
  },
  {
   "cell_type": "code",
   "execution_count": 281,
   "metadata": {},
   "outputs": [],
   "source": [
    "X2 = df3['ADJDE'].values.reshape(-1,1)\n",
    "Y2 = df3['W'].values.reshape(-1,1)"
   ]
  },
  {
   "cell_type": "code",
   "execution_count": 245,
   "metadata": {},
   "outputs": [],
   "source": [
    "X2_train, X2_test, Y2_train, Y2_test = train_test_split(X2, Y2, test_size=0.2, random_state=0) # 80% of data is used to train model and 20% used to test model"
   ]
  },
  {
   "cell_type": "code",
   "execution_count": 246,
   "metadata": {},
   "outputs": [],
   "source": [
    "lr2 = LinearRegression()"
   ]
  },
  {
   "cell_type": "code",
   "execution_count": 247,
   "metadata": {},
   "outputs": [
    {
     "data": {
      "text/plain": [
       "LinearRegression(copy_X=True, fit_intercept=True, n_jobs=None, normalize=False)"
      ]
     },
     "execution_count": 247,
     "metadata": {},
     "output_type": "execute_result"
    }
   ],
   "source": [
    "lr2.fit(X2_train,Y2_train)"
   ]
  },
  {
   "cell_type": "code",
   "execution_count": 248,
   "metadata": {},
   "outputs": [
    {
     "name": "stdout",
     "output_type": "stream",
     "text": [
      "[[-0.67870539]]\n"
     ]
    }
   ],
   "source": [
    "print(lr2.coef_) "
   ]
  },
  {
   "cell_type": "code",
   "execution_count": 249,
   "metadata": {},
   "outputs": [
    {
     "name": "stdout",
     "output_type": "stream",
     "text": [
      "[86.77044974]\n"
     ]
    }
   ],
   "source": [
    "print(lr2.intercept_)"
   ]
  },
  {
   "cell_type": "code",
   "execution_count": 259,
   "metadata": {},
   "outputs": [
    {
     "data": {
      "text/html": [
       "<div>\n",
       "<style scoped>\n",
       "    .dataframe tbody tr th:only-of-type {\n",
       "        vertical-align: middle;\n",
       "    }\n",
       "\n",
       "    .dataframe tbody tr th {\n",
       "        vertical-align: top;\n",
       "    }\n",
       "\n",
       "    .dataframe thead th {\n",
       "        text-align: right;\n",
       "    }\n",
       "</style>\n",
       "<table border=\"1\" class=\"dataframe\">\n",
       "  <thead>\n",
       "    <tr style=\"text-align: right;\">\n",
       "      <th></th>\n",
       "      <th>Actual_Wins</th>\n",
       "      <th>Predicted_Wins</th>\n",
       "    </tr>\n",
       "  </thead>\n",
       "  <tbody>\n",
       "    <tr>\n",
       "      <td>0</td>\n",
       "      <td>11</td>\n",
       "      <td>15.234902</td>\n",
       "    </tr>\n",
       "    <tr>\n",
       "      <td>1</td>\n",
       "      <td>16</td>\n",
       "      <td>18.967782</td>\n",
       "    </tr>\n",
       "    <tr>\n",
       "      <td>2</td>\n",
       "      <td>15</td>\n",
       "      <td>13.945362</td>\n",
       "    </tr>\n",
       "    <tr>\n",
       "      <td>3</td>\n",
       "      <td>25</td>\n",
       "      <td>21.071768</td>\n",
       "    </tr>\n",
       "    <tr>\n",
       "      <td>4</td>\n",
       "      <td>11</td>\n",
       "      <td>9.126553</td>\n",
       "    </tr>\n",
       "    <tr>\n",
       "      <td>...</td>\n",
       "      <td>...</td>\n",
       "      <td>...</td>\n",
       "    </tr>\n",
       "    <tr>\n",
       "      <td>347</td>\n",
       "      <td>6</td>\n",
       "      <td>10.076741</td>\n",
       "    </tr>\n",
       "    <tr>\n",
       "      <td>348</td>\n",
       "      <td>20</td>\n",
       "      <td>25.211871</td>\n",
       "    </tr>\n",
       "    <tr>\n",
       "      <td>349</td>\n",
       "      <td>19</td>\n",
       "      <td>12.655821</td>\n",
       "    </tr>\n",
       "    <tr>\n",
       "      <td>350</td>\n",
       "      <td>4</td>\n",
       "      <td>8.040625</td>\n",
       "    </tr>\n",
       "    <tr>\n",
       "      <td>351</td>\n",
       "      <td>25</td>\n",
       "      <td>27.180117</td>\n",
       "    </tr>\n",
       "  </tbody>\n",
       "</table>\n",
       "<p>352 rows × 2 columns</p>\n",
       "</div>"
      ],
      "text/plain": [
       "     Actual_Wins  Predicted_Wins\n",
       "0             11       15.234902\n",
       "1             16       18.967782\n",
       "2             15       13.945362\n",
       "3             25       21.071768\n",
       "4             11        9.126553\n",
       "..           ...             ...\n",
       "347            6       10.076741\n",
       "348           20       25.211871\n",
       "349           19       12.655821\n",
       "350            4        8.040625\n",
       "351           25       27.180117\n",
       "\n",
       "[352 rows x 2 columns]"
      ]
     },
     "execution_count": 259,
     "metadata": {},
     "output_type": "execute_result"
    }
   ],
   "source": [
    "wins_pred_adjde = (lr2.predict(X2_test)) # Model predictied wins using test data\n",
    "wins_pred_adjde_df = pd.DataFrame({'Actual_Wins': Y2_test.flatten(), 'Predicted_Wins': wins_pred_adjde.flatten()}) # Predicted wins and Actual wins into Data Frame\n",
    "wins_pred_adjde_df"
   ]
  },
  {
   "cell_type": "code",
   "execution_count": 264,
   "metadata": {},
   "outputs": [
    {
     "data": {
      "image/png": "[encoded data removed]",
      "text/plain": [
       "<Figure size 432x288 with 1 Axes>"
      ]
     },
     "metadata": {
      "needs_background": "light"
     },
     "output_type": "display_data"
    }
   ],
   "source": [
    "plt.scatter(X2_test, Y2_test, color = 'blue', label = 'Actual Team Wins')\n",
    "plt.plot(X2_test, W_pred_adjde, color = 'red', linewidth = 3, label = 'Predicted Team Wins')\n",
    "plt.xlabel('Adjusted Defensive Efficency')\n",
    "plt.ylabel('Wins')\n",
    "plt.legend()\n",
    "plt.title('Adjusted Defensive Efficency Predicting Wins')\n",
    "plt.show() # Graphing Predicted Wins vs Actual Wins"
   ]
  },
  {
   "cell_type": "code",
   "execution_count": 268,
   "metadata": {},
   "outputs": [
    {
     "name": "stdout",
     "output_type": "stream",
     "text": [
      "Root Mean Squared Error: 4.863165183507496\n"
     ]
    }
   ],
   "source": [
    "print('Root Mean Squared Error:', np.sqrt(metrics.mean_squared_error(Y2_test, wins_pred_adjde))) # Model RMSE"
   ]
  },
  {
   "cell_type": "markdown",
   "metadata": {},
   "source": [
    "### Predicting Wins with Turnover Rate "
   ]
  },
  {
   "cell_type": "code",
   "execution_count": 282,
   "metadata": {},
   "outputs": [
    {
     "data": {
      "text/plain": [
       "<matplotlib.axes._subplots.AxesSubplot at 0x1a22dba7d0>"
      ]
     },
     "execution_count": 282,
     "metadata": {},
     "output_type": "execute_result"
    },
    {
     "data": {
      "image/png": "[encoded data removed]",
      "text/plain": [
       "<Figure size 432x288 with 1 Axes>"
      ]
     },
     "metadata": {
      "needs_background": "light"
     },
     "output_type": "display_data"
    }
   ],
   "source": [
    "df3.plot.scatter(x = 'TOR', y = 'W', label = 'Team Wins') # Scatter plot to display on the same graph"
   ]
  },
  {
   "cell_type": "code",
   "execution_count": 283,
   "metadata": {},
   "outputs": [
    {
     "data": {
      "text/html": [
       "<table class=\"simpletable\">\n",
       "<caption>OLS Regression Results</caption>\n",
       "<tr>\n",
       "  <th>Dep. Variable:</th>            <td>W</td>        <th>  R-squared:         </th> <td>   0.218</td> \n",
       "</tr>\n",
       "<tr>\n",
       "  <th>Model:</th>                   <td>OLS</td>       <th>  Adj. R-squared:    </th> <td>   0.218</td> \n",
       "</tr>\n",
       "<tr>\n",
       "  <th>Method:</th>             <td>Least Squares</td>  <th>  F-statistic:       </th> <td>   489.7</td> \n",
       "</tr>\n",
       "<tr>\n",
       "  <th>Date:</th>             <td>Fri, 27 Mar 2020</td> <th>  Prob (F-statistic):</th> <td>6.63e-96</td> \n",
       "</tr>\n",
       "<tr>\n",
       "  <th>Time:</th>                 <td>06:34:53</td>     <th>  Log-Likelihood:    </th> <td> -5577.4</td> \n",
       "</tr>\n",
       "<tr>\n",
       "  <th>No. Observations:</th>      <td>  1757</td>      <th>  AIC:               </th> <td>1.116e+04</td>\n",
       "</tr>\n",
       "<tr>\n",
       "  <th>Df Residuals:</th>          <td>  1755</td>      <th>  BIC:               </th> <td>1.117e+04</td>\n",
       "</tr>\n",
       "<tr>\n",
       "  <th>Df Model:</th>              <td>     1</td>      <th>                     </th>     <td> </td>    \n",
       "</tr>\n",
       "<tr>\n",
       "  <th>Covariance Type:</th>      <td>nonrobust</td>    <th>                     </th>     <td> </td>    \n",
       "</tr>\n",
       "</table>\n",
       "<table class=\"simpletable\">\n",
       "<tr>\n",
       "      <td></td>         <th>coef</th>     <th>std err</th>      <th>t</th>      <th>P>|t|</th>  <th>[0.025</th>    <th>0.975]</th>  \n",
       "</tr>\n",
       "<tr>\n",
       "  <th>Intercept</th> <td>   45.0527</td> <td>    1.297</td> <td>   34.735</td> <td> 0.000</td> <td>   42.509</td> <td>   47.597</td>\n",
       "</tr>\n",
       "<tr>\n",
       "  <th>TOR</th>       <td>   -1.5350</td> <td>    0.069</td> <td>  -22.129</td> <td> 0.000</td> <td>   -1.671</td> <td>   -1.399</td>\n",
       "</tr>\n",
       "</table>\n",
       "<table class=\"simpletable\">\n",
       "<tr>\n",
       "  <th>Omnibus:</th>       <td>24.657</td> <th>  Durbin-Watson:     </th> <td>   1.398</td>\n",
       "</tr>\n",
       "<tr>\n",
       "  <th>Prob(Omnibus):</th> <td> 0.000</td> <th>  Jarque-Bera (JB):  </th> <td>  17.817</td>\n",
       "</tr>\n",
       "<tr>\n",
       "  <th>Skew:</th>          <td> 0.138</td> <th>  Prob(JB):          </th> <td>0.000135</td>\n",
       "</tr>\n",
       "<tr>\n",
       "  <th>Kurtosis:</th>      <td> 2.591</td> <th>  Cond. No.          </th> <td>    176.</td>\n",
       "</tr>\n",
       "</table><br/><br/>Warnings:<br/>[1] Standard Errors assume that the covariance matrix of the errors is correctly specified."
      ],
      "text/plain": [
       "<class 'statsmodels.iolib.summary.Summary'>\n",
       "\"\"\"\n",
       "                            OLS Regression Results                            \n",
       "==============================================================================\n",
       "Dep. Variable:                      W   R-squared:                       0.218\n",
       "Model:                            OLS   Adj. R-squared:                  0.218\n",
       "Method:                 Least Squares   F-statistic:                     489.7\n",
       "Date:                Fri, 27 Mar 2020   Prob (F-statistic):           6.63e-96\n",
       "Time:                        06:34:53   Log-Likelihood:                -5577.4\n",
       "No. Observations:                1757   AIC:                         1.116e+04\n",
       "Df Residuals:                    1755   BIC:                         1.117e+04\n",
       "Df Model:                           1                                         \n",
       "Covariance Type:            nonrobust                                         \n",
       "==============================================================================\n",
       "                 coef    std err          t      P>|t|      [0.025      0.975]\n",
       "------------------------------------------------------------------------------\n",
       "Intercept     45.0527      1.297     34.735      0.000      42.509      47.597\n",
       "TOR           -1.5350      0.069    -22.129      0.000      -1.671      -1.399\n",
       "==============================================================================\n",
       "Omnibus:                       24.657   Durbin-Watson:                   1.398\n",
       "Prob(Omnibus):                  0.000   Jarque-Bera (JB):               17.817\n",
       "Skew:                           0.138   Prob(JB):                     0.000135\n",
       "Kurtosis:                       2.591   Cond. No.                         176.\n",
       "==============================================================================\n",
       "\n",
       "Warnings:\n",
       "[1] Standard Errors assume that the covariance matrix of the errors is correctly specified.\n",
       "\"\"\""
      ]
     },
     "execution_count": 283,
     "metadata": {},
     "output_type": "execute_result"
    }
   ],
   "source": [
    "lr_model3 = ols(formula='W~TOR', data=df3).fit()\n",
    "\n",
    "lr_model3.summary()"
   ]
  },
  {
   "cell_type": "markdown",
   "metadata": {},
   "source": [
    "**R Squared is 0.218**"
   ]
  },
  {
   "cell_type": "code",
   "execution_count": 236,
   "metadata": {},
   "outputs": [],
   "source": [
    "X3 = df3['TOR'].values.reshape(-1,1)\n",
    "Y3 = df3['W'].values.reshape(-1,1)"
   ]
  },
  {
   "cell_type": "code",
   "execution_count": 237,
   "metadata": {},
   "outputs": [],
   "source": [
    "X3_train, X3_test, Y3_train, Y3_test = train_test_split(X3, Y3, test_size=0.2, random_state=0) # 80% of data is used to train model and 20% used to test model"
   ]
  },
  {
   "cell_type": "code",
   "execution_count": 239,
   "metadata": {},
   "outputs": [],
   "source": [
    "lr3 = LinearRegression()"
   ]
  },
  {
   "cell_type": "code",
   "execution_count": 240,
   "metadata": {},
   "outputs": [
    {
     "data": {
      "text/plain": [
       "LinearRegression(copy_X=True, fit_intercept=True, n_jobs=None, normalize=False)"
      ]
     },
     "execution_count": 240,
     "metadata": {},
     "output_type": "execute_result"
    }
   ],
   "source": [
    "lr3.fit(X3_train,Y3_train)"
   ]
  },
  {
   "cell_type": "code",
   "execution_count": 242,
   "metadata": {},
   "outputs": [
    {
     "name": "stdout",
     "output_type": "stream",
     "text": [
      "[[-1.48959017]]\n"
     ]
    }
   ],
   "source": [
    "print(lr3.coef_)"
   ]
  },
  {
   "cell_type": "code",
   "execution_count": 291,
   "metadata": {},
   "outputs": [
    {
     "name": "stdout",
     "output_type": "stream",
     "text": [
      "[44.2158634]\n"
     ]
    }
   ],
   "source": [
    "print(lr3.intercept_)"
   ]
  },
  {
   "cell_type": "code",
   "execution_count": 258,
   "metadata": {},
   "outputs": [
    {
     "data": {
      "text/html": [
       "<div>\n",
       "<style scoped>\n",
       "    .dataframe tbody tr th:only-of-type {\n",
       "        vertical-align: middle;\n",
       "    }\n",
       "\n",
       "    .dataframe tbody tr th {\n",
       "        vertical-align: top;\n",
       "    }\n",
       "\n",
       "    .dataframe thead th {\n",
       "        text-align: right;\n",
       "    }\n",
       "</style>\n",
       "<table border=\"1\" class=\"dataframe\">\n",
       "  <thead>\n",
       "    <tr style=\"text-align: right;\">\n",
       "      <th></th>\n",
       "      <th>Actual_Wins</th>\n",
       "      <th>Predicted_Wins</th>\n",
       "    </tr>\n",
       "  </thead>\n",
       "  <tbody>\n",
       "    <tr>\n",
       "      <td>0</td>\n",
       "      <td>11</td>\n",
       "      <td>14.275101</td>\n",
       "    </tr>\n",
       "    <tr>\n",
       "      <td>1</td>\n",
       "      <td>16</td>\n",
       "      <td>15.168855</td>\n",
       "    </tr>\n",
       "    <tr>\n",
       "      <td>2</td>\n",
       "      <td>15</td>\n",
       "      <td>15.168855</td>\n",
       "    </tr>\n",
       "    <tr>\n",
       "      <td>3</td>\n",
       "      <td>25</td>\n",
       "      <td>16.509486</td>\n",
       "    </tr>\n",
       "    <tr>\n",
       "      <td>4</td>\n",
       "      <td>11</td>\n",
       "      <td>13.232388</td>\n",
       "    </tr>\n",
       "    <tr>\n",
       "      <td>...</td>\n",
       "      <td>...</td>\n",
       "      <td>...</td>\n",
       "    </tr>\n",
       "    <tr>\n",
       "      <td>347</td>\n",
       "      <td>6</td>\n",
       "      <td>13.530306</td>\n",
       "    </tr>\n",
       "    <tr>\n",
       "      <td>348</td>\n",
       "      <td>20</td>\n",
       "      <td>14.275101</td>\n",
       "    </tr>\n",
       "    <tr>\n",
       "      <td>349</td>\n",
       "      <td>19</td>\n",
       "      <td>15.466773</td>\n",
       "    </tr>\n",
       "    <tr>\n",
       "      <td>350</td>\n",
       "      <td>4</td>\n",
       "      <td>17.254281</td>\n",
       "    </tr>\n",
       "    <tr>\n",
       "      <td>351</td>\n",
       "      <td>25</td>\n",
       "      <td>18.296994</td>\n",
       "    </tr>\n",
       "  </tbody>\n",
       "</table>\n",
       "<p>352 rows × 2 columns</p>\n",
       "</div>"
      ],
      "text/plain": [
       "     Actual_Wins  Predicted_Wins\n",
       "0             11       14.275101\n",
       "1             16       15.168855\n",
       "2             15       15.168855\n",
       "3             25       16.509486\n",
       "4             11       13.232388\n",
       "..           ...             ...\n",
       "347            6       13.530306\n",
       "348           20       14.275101\n",
       "349           19       15.466773\n",
       "350            4       17.254281\n",
       "351           25       18.296994\n",
       "\n",
       "[352 rows x 2 columns]"
      ]
     },
     "execution_count": 258,
     "metadata": {},
     "output_type": "execute_result"
    }
   ],
   "source": [
    "wins_pred_tor = (lr3.predict(X3_test)) # Model predictied wins using test data\n",
    "wins_pred_tor_df = pd.DataFrame({'Actual_Wins': Y3_test.flatten(), 'Predicted_Wins': wins_pred_tor.flatten()}) # Predicted wins and Actual wins into Data Frame\n",
    "wins_pred_tor_df"
   ]
  },
  {
   "cell_type": "code",
   "execution_count": 263,
   "metadata": {},
   "outputs": [
    {
     "data": {
      "image/png": "[encoded data removed]",
      "text/plain": [
       "<Figure size 432x288 with 1 Axes>"
      ]
     },
     "metadata": {
      "needs_background": "light"
     },
     "output_type": "display_data"
    }
   ],
   "source": [
    "plt.scatter(X3_test, Y3_test, color = 'blue', label = 'Actual Team Wins')\n",
    "plt.plot(X3_test, wins_pred_tor, color = 'red', linewidth = 3, label = 'Predicted Team Wins')\n",
    "plt.xlabel('Turnover Rate')\n",
    "plt.ylabel('Wins')\n",
    "plt.legend()\n",
    "plt.title('Turnover Rate Predicting Wins')\n",
    "plt.show() # Graphing Predicted Wins vs Actual Wins"
   ]
  },
  {
   "cell_type": "code",
   "execution_count": 267,
   "metadata": {},
   "outputs": [
    {
     "name": "stdout",
     "output_type": "stream",
     "text": [
      "Root Mean Squared Error: 6.065027635986877\n"
     ]
    }
   ],
   "source": [
    "print('Root Mean Squared Error:', np.sqrt(metrics.mean_squared_error(Y3_test, wins_pred_tor))) # Model RMSE"
   ]
  },
  {
   "cell_type": "markdown",
   "metadata": {},
   "source": [
    "### Predicting Wins with Offensive Rebound Rate"
   ]
  },
  {
   "cell_type": "code",
   "execution_count": 297,
   "metadata": {},
   "outputs": [
    {
     "data": {
      "text/plain": [
       "<matplotlib.axes._subplots.AxesSubplot at 0x1a23d32b10>"
      ]
     },
     "execution_count": 297,
     "metadata": {},
     "output_type": "execute_result"
    },
    {
     "data": {
      "image/png": "[encoded data removed]",
      "text/plain": [
       "<Figure size 432x288 with 1 Axes>"
      ]
     },
     "metadata": {
      "needs_background": "light"
     },
     "output_type": "display_data"
    }
   ],
   "source": [
    "df3.plot.scatter(x = 'ORB', y = 'W', label = 'Team Wins') # Scatter plot to display on the same graph"
   ]
  },
  {
   "cell_type": "code",
   "execution_count": 284,
   "metadata": {},
   "outputs": [
    {
     "data": {
      "text/html": [
       "<table class=\"simpletable\">\n",
       "<caption>OLS Regression Results</caption>\n",
       "<tr>\n",
       "  <th>Dep. Variable:</th>            <td>W</td>        <th>  R-squared:         </th> <td>   0.088</td> \n",
       "</tr>\n",
       "<tr>\n",
       "  <th>Model:</th>                   <td>OLS</td>       <th>  Adj. R-squared:    </th> <td>   0.087</td> \n",
       "</tr>\n",
       "<tr>\n",
       "  <th>Method:</th>             <td>Least Squares</td>  <th>  F-statistic:       </th> <td>   169.0</td> \n",
       "</tr>\n",
       "<tr>\n",
       "  <th>Date:</th>             <td>Fri, 27 Mar 2020</td> <th>  Prob (F-statistic):</th> <td>5.80e-37</td> \n",
       "</tr>\n",
       "<tr>\n",
       "  <th>Time:</th>                 <td>06:35:10</td>     <th>  Log-Likelihood:    </th> <td> -5712.8</td> \n",
       "</tr>\n",
       "<tr>\n",
       "  <th>No. Observations:</th>      <td>  1757</td>      <th>  AIC:               </th> <td>1.143e+04</td>\n",
       "</tr>\n",
       "<tr>\n",
       "  <th>Df Residuals:</th>          <td>  1755</td>      <th>  BIC:               </th> <td>1.144e+04</td>\n",
       "</tr>\n",
       "<tr>\n",
       "  <th>Df Model:</th>              <td>     1</td>      <th>                     </th>     <td> </td>    \n",
       "</tr>\n",
       "<tr>\n",
       "  <th>Covariance Type:</th>      <td>nonrobust</td>    <th>                     </th>     <td> </td>    \n",
       "</tr>\n",
       "</table>\n",
       "<table class=\"simpletable\">\n",
       "<tr>\n",
       "      <td></td>         <th>coef</th>     <th>std err</th>      <th>t</th>      <th>P>|t|</th>  <th>[0.025</th>    <th>0.975]</th>  \n",
       "</tr>\n",
       "<tr>\n",
       "  <th>Intercept</th> <td>    2.6658</td> <td>    1.076</td> <td>    2.479</td> <td> 0.013</td> <td>    0.556</td> <td>    4.775</td>\n",
       "</tr>\n",
       "<tr>\n",
       "  <th>ORB</th>       <td>    0.4730</td> <td>    0.036</td> <td>   13.001</td> <td> 0.000</td> <td>    0.402</td> <td>    0.544</td>\n",
       "</tr>\n",
       "</table>\n",
       "<table class=\"simpletable\">\n",
       "<tr>\n",
       "  <th>Omnibus:</th>       <td>20.893</td> <th>  Durbin-Watson:     </th> <td>   1.200</td>\n",
       "</tr>\n",
       "<tr>\n",
       "  <th>Prob(Omnibus):</th> <td> 0.000</td> <th>  Jarque-Bera (JB):  </th> <td>  17.709</td>\n",
       "</tr>\n",
       "<tr>\n",
       "  <th>Skew:</th>          <td> 0.180</td> <th>  Prob(JB):          </th> <td>0.000143</td>\n",
       "</tr>\n",
       "<tr>\n",
       "  <th>Kurtosis:</th>      <td> 2.665</td> <th>  Cond. No.          </th> <td>    213.</td>\n",
       "</tr>\n",
       "</table><br/><br/>Warnings:<br/>[1] Standard Errors assume that the covariance matrix of the errors is correctly specified."
      ],
      "text/plain": [
       "<class 'statsmodels.iolib.summary.Summary'>\n",
       "\"\"\"\n",
       "                            OLS Regression Results                            \n",
       "==============================================================================\n",
       "Dep. Variable:                      W   R-squared:                       0.088\n",
       "Model:                            OLS   Adj. R-squared:                  0.087\n",
       "Method:                 Least Squares   F-statistic:                     169.0\n",
       "Date:                Fri, 27 Mar 2020   Prob (F-statistic):           5.80e-37\n",
       "Time:                        06:35:10   Log-Likelihood:                -5712.8\n",
       "No. Observations:                1757   AIC:                         1.143e+04\n",
       "Df Residuals:                    1755   BIC:                         1.144e+04\n",
       "Df Model:                           1                                         \n",
       "Covariance Type:            nonrobust                                         \n",
       "==============================================================================\n",
       "                 coef    std err          t      P>|t|      [0.025      0.975]\n",
       "------------------------------------------------------------------------------\n",
       "Intercept      2.6658      1.076      2.479      0.013       0.556       4.775\n",
       "ORB            0.4730      0.036     13.001      0.000       0.402       0.544\n",
       "==============================================================================\n",
       "Omnibus:                       20.893   Durbin-Watson:                   1.200\n",
       "Prob(Omnibus):                  0.000   Jarque-Bera (JB):               17.709\n",
       "Skew:                           0.180   Prob(JB):                     0.000143\n",
       "Kurtosis:                       2.665   Cond. No.                         213.\n",
       "==============================================================================\n",
       "\n",
       "Warnings:\n",
       "[1] Standard Errors assume that the covariance matrix of the errors is correctly specified.\n",
       "\"\"\""
      ]
     },
     "execution_count": 284,
     "metadata": {},
     "output_type": "execute_result"
    }
   ],
   "source": [
    "lr_model4 = ols(formula='W~ORB', data=df3).fit()\n",
    "\n",
    "lr_model4.summary()"
   ]
  },
  {
   "cell_type": "markdown",
   "metadata": {},
   "source": [
    "**R Squared is 0.88**"
   ]
  },
  {
   "cell_type": "code",
   "execution_count": 285,
   "metadata": {},
   "outputs": [],
   "source": [
    "X4 = df3['ORB'].values.reshape(-1,1)\n",
    "Y4 = df3['W'].values.reshape(-1,1)"
   ]
  },
  {
   "cell_type": "code",
   "execution_count": 286,
   "metadata": {},
   "outputs": [],
   "source": [
    "X4_train, X4_test, Y4_train, Y4_test = train_test_split(X4, Y4, test_size=0.2, random_state=0) # 80% of data is used to train model and 20% used to test model"
   ]
  },
  {
   "cell_type": "code",
   "execution_count": 287,
   "metadata": {},
   "outputs": [],
   "source": [
    "lr4 = LinearRegression()"
   ]
  },
  {
   "cell_type": "code",
   "execution_count": 288,
   "metadata": {},
   "outputs": [
    {
     "data": {
      "text/plain": [
       "LinearRegression(copy_X=True, fit_intercept=True, n_jobs=None, normalize=False)"
      ]
     },
     "execution_count": 288,
     "metadata": {},
     "output_type": "execute_result"
    }
   ],
   "source": [
    "lr4.fit(X4_train,Y4_train)"
   ]
  },
  {
   "cell_type": "code",
   "execution_count": 289,
   "metadata": {},
   "outputs": [
    {
     "name": "stdout",
     "output_type": "stream",
     "text": [
      "[[0.47889633]]\n"
     ]
    }
   ],
   "source": [
    "print(lr4.coef_)"
   ]
  },
  {
   "cell_type": "code",
   "execution_count": 290,
   "metadata": {},
   "outputs": [
    {
     "name": "stdout",
     "output_type": "stream",
     "text": [
      "[2.50912348]\n"
     ]
    }
   ],
   "source": [
    "print(lr4.intercept_)"
   ]
  },
  {
   "cell_type": "code",
   "execution_count": 292,
   "metadata": {},
   "outputs": [
    {
     "data": {
      "text/html": [
       "<div>\n",
       "<style scoped>\n",
       "    .dataframe tbody tr th:only-of-type {\n",
       "        vertical-align: middle;\n",
       "    }\n",
       "\n",
       "    .dataframe tbody tr th {\n",
       "        vertical-align: top;\n",
       "    }\n",
       "\n",
       "    .dataframe thead th {\n",
       "        text-align: right;\n",
       "    }\n",
       "</style>\n",
       "<table border=\"1\" class=\"dataframe\">\n",
       "  <thead>\n",
       "    <tr style=\"text-align: right;\">\n",
       "      <th></th>\n",
       "      <th>Actual_Wins</th>\n",
       "      <th>Predicted_Wins</th>\n",
       "    </tr>\n",
       "  </thead>\n",
       "  <tbody>\n",
       "    <tr>\n",
       "      <td>0</td>\n",
       "      <td>11</td>\n",
       "      <td>18.504261</td>\n",
       "    </tr>\n",
       "    <tr>\n",
       "      <td>1</td>\n",
       "      <td>16</td>\n",
       "      <td>17.546468</td>\n",
       "    </tr>\n",
       "    <tr>\n",
       "      <td>2</td>\n",
       "      <td>15</td>\n",
       "      <td>16.971793</td>\n",
       "    </tr>\n",
       "    <tr>\n",
       "      <td>3</td>\n",
       "      <td>25</td>\n",
       "      <td>17.211241</td>\n",
       "    </tr>\n",
       "    <tr>\n",
       "      <td>4</td>\n",
       "      <td>11</td>\n",
       "      <td>15.487214</td>\n",
       "    </tr>\n",
       "    <tr>\n",
       "      <td>...</td>\n",
       "      <td>...</td>\n",
       "      <td>...</td>\n",
       "    </tr>\n",
       "    <tr>\n",
       "      <td>347</td>\n",
       "      <td>6</td>\n",
       "      <td>15.056207</td>\n",
       "    </tr>\n",
       "    <tr>\n",
       "      <td>348</td>\n",
       "      <td>20</td>\n",
       "      <td>20.659295</td>\n",
       "    </tr>\n",
       "    <tr>\n",
       "      <td>349</td>\n",
       "      <td>19</td>\n",
       "      <td>15.151987</td>\n",
       "    </tr>\n",
       "    <tr>\n",
       "      <td>350</td>\n",
       "      <td>4</td>\n",
       "      <td>14.960428</td>\n",
       "    </tr>\n",
       "    <tr>\n",
       "      <td>351</td>\n",
       "      <td>25</td>\n",
       "      <td>16.061890</td>\n",
       "    </tr>\n",
       "  </tbody>\n",
       "</table>\n",
       "<p>352 rows × 2 columns</p>\n",
       "</div>"
      ],
      "text/plain": [
       "     Actual_Wins  Predicted_Wins\n",
       "0             11       18.504261\n",
       "1             16       17.546468\n",
       "2             15       16.971793\n",
       "3             25       17.211241\n",
       "4             11       15.487214\n",
       "..           ...             ...\n",
       "347            6       15.056207\n",
       "348           20       20.659295\n",
       "349           19       15.151987\n",
       "350            4       14.960428\n",
       "351           25       16.061890\n",
       "\n",
       "[352 rows x 2 columns]"
      ]
     },
     "execution_count": 292,
     "metadata": {},
     "output_type": "execute_result"
    }
   ],
   "source": [
    "wins_pred_orb = (lr4.predict(X4_test)) # Model predictied wins using test data\n",
    "wins_pred_orb_df = pd.DataFrame({'Actual_Wins': Y4_test.flatten(), 'Predicted_Wins': wins_pred_orb.flatten()}) # Predicted wins and Actual wins into Data Frame\n",
    "wins_pred_orb_df"
   ]
  },
  {
   "cell_type": "code",
   "execution_count": 293,
   "metadata": {},
   "outputs": [
    {
     "data": {
      "image/png": "[encoded data removed]",
      "text/plain": [
       "<Figure size 432x288 with 1 Axes>"
      ]
     },
     "metadata": {
      "needs_background": "light"
     },
     "output_type": "display_data"
    }
   ],
   "source": [
    "plt.scatter(X4_test, Y4_test, color = 'blue', label = 'Actual Team Wins')\n",
    "plt.plot(X4_test, wins_pred_orb, color = 'red', linewidth = 3, label = 'Predicted Team Wins')\n",
    "plt.xlabel('Offensive Rebound Rate')\n",
    "plt.ylabel('Wins')\n",
    "plt.legend()\n",
    "plt.title('Offensive Rebound Rate Predicting Wins')\n",
    "plt.show() # Graphing Predicted Wins vs Actual Wins"
   ]
  },
  {
   "cell_type": "code",
   "execution_count": 364,
   "metadata": {},
   "outputs": [
    {
     "name": "stdout",
     "output_type": "stream",
     "text": [
      "Root Mean Squared Error: 6.674453155558198\n"
     ]
    }
   ],
   "source": [
    "print('Root Mean Squared Error:', np.sqrt(metrics.mean_squared_error(Y4_test, wins_pred_orb))) # Model RMSE"
   ]
  },
  {
   "cell_type": "markdown",
   "metadata": {},
   "source": [
    "### Predicting Wins with Defensive Rebound Rate"
   ]
  },
  {
   "cell_type": "code",
   "execution_count": 296,
   "metadata": {},
   "outputs": [
    {
     "data": {
      "text/plain": [
       "<matplotlib.axes._subplots.AxesSubplot at 0x1a23be3fd0>"
      ]
     },
     "execution_count": 296,
     "metadata": {},
     "output_type": "execute_result"
    },
    {
     "data": {
      "image/png": "[encoded data removed]",
      "text/plain": [
       "<Figure size 432x288 with 1 Axes>"
      ]
     },
     "metadata": {
      "needs_background": "light"
     },
     "output_type": "display_data"
    }
   ],
   "source": [
    "df3.plot.scatter(x = 'DRB', y = 'W', label = 'Team Wins') # Scatter plot to display on the same graph"
   ]
  },
  {
   "cell_type": "code",
   "execution_count": 300,
   "metadata": {},
   "outputs": [
    {
     "data": {
      "text/html": [
       "<table class=\"simpletable\">\n",
       "<caption>OLS Regression Results</caption>\n",
       "<tr>\n",
       "  <th>Dep. Variable:</th>            <td>W</td>        <th>  R-squared:         </th> <td>   0.134</td> \n",
       "</tr>\n",
       "<tr>\n",
       "  <th>Model:</th>                   <td>OLS</td>       <th>  Adj. R-squared:    </th> <td>   0.134</td> \n",
       "</tr>\n",
       "<tr>\n",
       "  <th>Method:</th>             <td>Least Squares</td>  <th>  F-statistic:       </th> <td>   272.7</td> \n",
       "</tr>\n",
       "<tr>\n",
       "  <th>Date:</th>             <td>Fri, 27 Mar 2020</td> <th>  Prob (F-statistic):</th> <td>4.73e-57</td> \n",
       "</tr>\n",
       "<tr>\n",
       "  <th>Time:</th>                 <td>06:43:13</td>     <th>  Log-Likelihood:    </th> <td> -5666.7</td> \n",
       "</tr>\n",
       "<tr>\n",
       "  <th>No. Observations:</th>      <td>  1757</td>      <th>  AIC:               </th> <td>1.134e+04</td>\n",
       "</tr>\n",
       "<tr>\n",
       "  <th>Df Residuals:</th>          <td>  1755</td>      <th>  BIC:               </th> <td>1.135e+04</td>\n",
       "</tr>\n",
       "<tr>\n",
       "  <th>Df Model:</th>              <td>     1</td>      <th>                     </th>     <td> </td>    \n",
       "</tr>\n",
       "<tr>\n",
       "  <th>Covariance Type:</th>      <td>nonrobust</td>    <th>                     </th>     <td> </td>    \n",
       "</tr>\n",
       "</table>\n",
       "<table class=\"simpletable\">\n",
       "<tr>\n",
       "      <td></td>         <th>coef</th>     <th>std err</th>      <th>t</th>      <th>P>|t|</th>  <th>[0.025</th>    <th>0.975]</th>  \n",
       "</tr>\n",
       "<tr>\n",
       "  <th>Intercept</th> <td>   39.6151</td> <td>    1.407</td> <td>   28.165</td> <td> 0.000</td> <td>   36.856</td> <td>   42.374</td>\n",
       "</tr>\n",
       "<tr>\n",
       "  <th>DRB</th>       <td>   -0.7840</td> <td>    0.047</td> <td>  -16.513</td> <td> 0.000</td> <td>   -0.877</td> <td>   -0.691</td>\n",
       "</tr>\n",
       "</table>\n",
       "<table class=\"simpletable\">\n",
       "<tr>\n",
       "  <th>Omnibus:</th>       <td>25.191</td> <th>  Durbin-Watson:     </th> <td>   1.219</td>\n",
       "</tr>\n",
       "<tr>\n",
       "  <th>Prob(Omnibus):</th> <td> 0.000</td> <th>  Jarque-Bera (JB):  </th> <td>  24.841</td>\n",
       "</tr>\n",
       "<tr>\n",
       "  <th>Skew:</th>          <td> 0.266</td> <th>  Prob(JB):          </th> <td>4.04e-06</td>\n",
       "</tr>\n",
       "<tr>\n",
       "  <th>Kurtosis:</th>      <td> 2.762</td> <th>  Cond. No.          </th> <td>    287.</td>\n",
       "</tr>\n",
       "</table><br/><br/>Warnings:<br/>[1] Standard Errors assume that the covariance matrix of the errors is correctly specified."
      ],
      "text/plain": [
       "<class 'statsmodels.iolib.summary.Summary'>\n",
       "\"\"\"\n",
       "                            OLS Regression Results                            \n",
       "==============================================================================\n",
       "Dep. Variable:                      W   R-squared:                       0.134\n",
       "Model:                            OLS   Adj. R-squared:                  0.134\n",
       "Method:                 Least Squares   F-statistic:                     272.7\n",
       "Date:                Fri, 27 Mar 2020   Prob (F-statistic):           4.73e-57\n",
       "Time:                        06:43:13   Log-Likelihood:                -5666.7\n",
       "No. Observations:                1757   AIC:                         1.134e+04\n",
       "Df Residuals:                    1755   BIC:                         1.135e+04\n",
       "Df Model:                           1                                         \n",
       "Covariance Type:            nonrobust                                         \n",
       "==============================================================================\n",
       "                 coef    std err          t      P>|t|      [0.025      0.975]\n",
       "------------------------------------------------------------------------------\n",
       "Intercept     39.6151      1.407     28.165      0.000      36.856      42.374\n",
       "DRB           -0.7840      0.047    -16.513      0.000      -0.877      -0.691\n",
       "==============================================================================\n",
       "Omnibus:                       25.191   Durbin-Watson:                   1.219\n",
       "Prob(Omnibus):                  0.000   Jarque-Bera (JB):               24.841\n",
       "Skew:                           0.266   Prob(JB):                     4.04e-06\n",
       "Kurtosis:                       2.762   Cond. No.                         287.\n",
       "==============================================================================\n",
       "\n",
       "Warnings:\n",
       "[1] Standard Errors assume that the covariance matrix of the errors is correctly specified.\n",
       "\"\"\""
      ]
     },
     "execution_count": 300,
     "metadata": {},
     "output_type": "execute_result"
    }
   ],
   "source": [
    "lr_model5 = ols(formula='W~DRB', data=df3).fit()\n",
    "\n",
    "lr_model5.summary()"
   ]
  },
  {
   "cell_type": "markdown",
   "metadata": {},
   "source": [
    "**R Squared is 0.134** "
   ]
  },
  {
   "cell_type": "code",
   "execution_count": 302,
   "metadata": {},
   "outputs": [],
   "source": [
    "X5 = df3['DRB'].values.reshape(-1,1)\n",
    "Y5 = df3['W'].values.reshape(-1,1)"
   ]
  },
  {
   "cell_type": "code",
   "execution_count": 303,
   "metadata": {},
   "outputs": [],
   "source": [
    "X5_train, X5_test, Y5_train, Y5_test = train_test_split(X5, Y5, test_size=0.2, random_state=0) # 80% of data is used to train model and 20% used to test model"
   ]
  },
  {
   "cell_type": "code",
   "execution_count": 304,
   "metadata": {},
   "outputs": [],
   "source": [
    "lr5 = LinearRegression()"
   ]
  },
  {
   "cell_type": "code",
   "execution_count": 305,
   "metadata": {},
   "outputs": [
    {
     "data": {
      "text/plain": [
       "LinearRegression(copy_X=True, fit_intercept=True, n_jobs=None, normalize=False)"
      ]
     },
     "execution_count": 305,
     "metadata": {},
     "output_type": "execute_result"
    }
   ],
   "source": [
    "lr5.fit(X5_train,Y5_train)"
   ]
  },
  {
   "cell_type": "code",
   "execution_count": 306,
   "metadata": {},
   "outputs": [
    {
     "name": "stdout",
     "output_type": "stream",
     "text": [
      "[[-0.79485731]]\n"
     ]
    }
   ],
   "source": [
    "print(lr5.coef_)"
   ]
  },
  {
   "cell_type": "code",
   "execution_count": 307,
   "metadata": {},
   "outputs": [
    {
     "name": "stdout",
     "output_type": "stream",
     "text": [
      "[39.97149885]\n"
     ]
    }
   ],
   "source": [
    "print(lr5.intercept_)"
   ]
  },
  {
   "cell_type": "code",
   "execution_count": 308,
   "metadata": {},
   "outputs": [
    {
     "data": {
      "text/html": [
       "<div>\n",
       "<style scoped>\n",
       "    .dataframe tbody tr th:only-of-type {\n",
       "        vertical-align: middle;\n",
       "    }\n",
       "\n",
       "    .dataframe tbody tr th {\n",
       "        vertical-align: top;\n",
       "    }\n",
       "\n",
       "    .dataframe thead th {\n",
       "        text-align: right;\n",
       "    }\n",
       "</style>\n",
       "<table border=\"1\" class=\"dataframe\">\n",
       "  <thead>\n",
       "    <tr style=\"text-align: right;\">\n",
       "      <th></th>\n",
       "      <th>Actual_Wins</th>\n",
       "      <th>Predicted_Wins</th>\n",
       "    </tr>\n",
       "  </thead>\n",
       "  <tbody>\n",
       "    <tr>\n",
       "      <td>0</td>\n",
       "      <td>11</td>\n",
       "      <td>18.589837</td>\n",
       "    </tr>\n",
       "    <tr>\n",
       "      <td>1</td>\n",
       "      <td>16</td>\n",
       "      <td>15.728351</td>\n",
       "    </tr>\n",
       "    <tr>\n",
       "      <td>2</td>\n",
       "      <td>15</td>\n",
       "      <td>17.636008</td>\n",
       "    </tr>\n",
       "    <tr>\n",
       "      <td>3</td>\n",
       "      <td>25</td>\n",
       "      <td>22.246181</td>\n",
       "    </tr>\n",
       "    <tr>\n",
       "      <td>4</td>\n",
       "      <td>11</td>\n",
       "      <td>13.661722</td>\n",
       "    </tr>\n",
       "    <tr>\n",
       "      <td>...</td>\n",
       "      <td>...</td>\n",
       "      <td>...</td>\n",
       "    </tr>\n",
       "    <tr>\n",
       "      <td>347</td>\n",
       "      <td>6</td>\n",
       "      <td>17.079608</td>\n",
       "    </tr>\n",
       "    <tr>\n",
       "      <td>348</td>\n",
       "      <td>20</td>\n",
       "      <td>17.238580</td>\n",
       "    </tr>\n",
       "    <tr>\n",
       "      <td>349</td>\n",
       "      <td>19</td>\n",
       "      <td>15.410408</td>\n",
       "    </tr>\n",
       "    <tr>\n",
       "      <td>350</td>\n",
       "      <td>4</td>\n",
       "      <td>17.874466</td>\n",
       "    </tr>\n",
       "    <tr>\n",
       "      <td>351</td>\n",
       "      <td>25</td>\n",
       "      <td>19.543666</td>\n",
       "    </tr>\n",
       "  </tbody>\n",
       "</table>\n",
       "<p>352 rows × 2 columns</p>\n",
       "</div>"
      ],
      "text/plain": [
       "     Actual_Wins  Predicted_Wins\n",
       "0             11       18.589837\n",
       "1             16       15.728351\n",
       "2             15       17.636008\n",
       "3             25       22.246181\n",
       "4             11       13.661722\n",
       "..           ...             ...\n",
       "347            6       17.079608\n",
       "348           20       17.238580\n",
       "349           19       15.410408\n",
       "350            4       17.874466\n",
       "351           25       19.543666\n",
       "\n",
       "[352 rows x 2 columns]"
      ]
     },
     "execution_count": 308,
     "metadata": {},
     "output_type": "execute_result"
    }
   ],
   "source": [
    "wins_pred_drb = (lr5.predict(X5_test)) # Model predictied wins using test data\n",
    "wins_pred_drb_df = pd.DataFrame({'Actual_Wins': Y5_test.flatten(), 'Predicted_Wins': wins_pred_drb.flatten()}) # Predicted wins and Actual wins into Data Frame\n",
    "wins_pred_drb_df"
   ]
  },
  {
   "cell_type": "code",
   "execution_count": 309,
   "metadata": {},
   "outputs": [
    {
     "data": {
      "image/png": "[encoded data removed]",
      "text/plain": [
       "<Figure size 432x288 with 1 Axes>"
      ]
     },
     "metadata": {
      "needs_background": "light"
     },
     "output_type": "display_data"
    }
   ],
   "source": [
    "plt.scatter(X5_test, Y5_test, color = 'blue', label = 'Actual Team Wins')\n",
    "plt.plot(X5_test, wins_pred_drb, color = 'red', linewidth = 3, label = 'Predicted Team Wins')\n",
    "plt.xlabel('Defensive Rebound Rate')\n",
    "plt.ylabel('Wins')\n",
    "plt.legend()\n",
    "plt.title('Defensive Rebound Rate Predicting Wins')\n",
    "plt.show() # Graphing Predicted Wins vs Actual Wins"
   ]
  },
  {
   "cell_type": "code",
   "execution_count": 363,
   "metadata": {},
   "outputs": [
    {
     "name": "stdout",
     "output_type": "stream",
     "text": [
      "Root Mean Squared Error: 6.531243645774716\n"
     ]
    }
   ],
   "source": [
    "print('Root Mean Squared Error:', np.sqrt(metrics.mean_squared_error(Y5_test, wins_pred_drb))) # Model RMSE"
   ]
  },
  {
   "cell_type": "markdown",
   "metadata": {},
   "source": [
    "### Predicting Wins with Three Point Shooting Percentage"
   ]
  },
  {
   "cell_type": "code",
   "execution_count": null,
   "metadata": {},
   "outputs": [],
   "source": [
    "df3.rename(columns = {'3PO': 'ThreePO'}, inplace = True) # Had to rename column to fit in model"
   ]
  },
  {
   "cell_type": "code",
   "execution_count": 349,
   "metadata": {},
   "outputs": [
    {
     "data": {
      "text/plain": [
       "<matplotlib.axes._subplots.AxesSubplot at 0x1a22e55e50>"
      ]
     },
     "execution_count": 349,
     "metadata": {},
     "output_type": "execute_result"
    },
    {
     "data": {
      "image/png": "[encoded data removed]",
      "text/plain": [
       "<Figure size 432x288 with 1 Axes>"
      ]
     },
     "metadata": {
      "needs_background": "light"
     },
     "output_type": "display_data"
    }
   ],
   "source": [
    "df3.plot.scatter(x = 'ThreePO', y = 'W', label = 'Team Wins') # Scatter plot to display on the same graph"
   ]
  },
  {
   "cell_type": "code",
   "execution_count": 351,
   "metadata": {},
   "outputs": [
    {
     "data": {
      "text/html": [
       "<table class=\"simpletable\">\n",
       "<caption>OLS Regression Results</caption>\n",
       "<tr>\n",
       "  <th>Dep. Variable:</th>            <td>W</td>        <th>  R-squared:         </th> <td>   0.187</td> \n",
       "</tr>\n",
       "<tr>\n",
       "  <th>Model:</th>                   <td>OLS</td>       <th>  Adj. R-squared:    </th> <td>   0.187</td> \n",
       "</tr>\n",
       "<tr>\n",
       "  <th>Method:</th>             <td>Least Squares</td>  <th>  F-statistic:       </th> <td>   404.4</td> \n",
       "</tr>\n",
       "<tr>\n",
       "  <th>Date:</th>             <td>Fri, 27 Mar 2020</td> <th>  Prob (F-statistic):</th> <td>4.19e-81</td> \n",
       "</tr>\n",
       "<tr>\n",
       "  <th>Time:</th>                 <td>07:01:23</td>     <th>  Log-Likelihood:    </th> <td> -5611.4</td> \n",
       "</tr>\n",
       "<tr>\n",
       "  <th>No. Observations:</th>      <td>  1757</td>      <th>  AIC:               </th> <td>1.123e+04</td>\n",
       "</tr>\n",
       "<tr>\n",
       "  <th>Df Residuals:</th>          <td>  1755</td>      <th>  BIC:               </th> <td>1.124e+04</td>\n",
       "</tr>\n",
       "<tr>\n",
       "  <th>Df Model:</th>              <td>     1</td>      <th>                     </th>     <td> </td>    \n",
       "</tr>\n",
       "<tr>\n",
       "  <th>Covariance Type:</th>      <td>nonrobust</td>    <th>                     </th>     <td> </td>    \n",
       "</tr>\n",
       "</table>\n",
       "<table class=\"simpletable\">\n",
       "<tr>\n",
       "      <td></td>         <th>coef</th>     <th>std err</th>      <th>t</th>      <th>P>|t|</th>  <th>[0.025</th>    <th>0.975]</th>  \n",
       "</tr>\n",
       "<tr>\n",
       "  <th>Intercept</th> <td>  -19.1874</td> <td>    1.781</td> <td>  -10.774</td> <td> 0.000</td> <td>  -22.680</td> <td>  -15.694</td>\n",
       "</tr>\n",
       "<tr>\n",
       "  <th>ThreePO</th>   <td>    1.0329</td> <td>    0.051</td> <td>   20.109</td> <td> 0.000</td> <td>    0.932</td> <td>    1.134</td>\n",
       "</tr>\n",
       "</table>\n",
       "<table class=\"simpletable\">\n",
       "<tr>\n",
       "  <th>Omnibus:</th>       <td>16.247</td> <th>  Durbin-Watson:     </th> <td>   1.307</td>\n",
       "</tr>\n",
       "<tr>\n",
       "  <th>Prob(Omnibus):</th> <td> 0.000</td> <th>  Jarque-Bera (JB):  </th> <td>  15.653</td>\n",
       "</tr>\n",
       "<tr>\n",
       "  <th>Skew:</th>          <td> 0.201</td> <th>  Prob(JB):          </th> <td>0.000399</td>\n",
       "</tr>\n",
       "<tr>\n",
       "  <th>Kurtosis:</th>      <td> 2.772</td> <th>  Cond. No.          </th> <td>    439.</td>\n",
       "</tr>\n",
       "</table><br/><br/>Warnings:<br/>[1] Standard Errors assume that the covariance matrix of the errors is correctly specified."
      ],
      "text/plain": [
       "<class 'statsmodels.iolib.summary.Summary'>\n",
       "\"\"\"\n",
       "                            OLS Regression Results                            \n",
       "==============================================================================\n",
       "Dep. Variable:                      W   R-squared:                       0.187\n",
       "Model:                            OLS   Adj. R-squared:                  0.187\n",
       "Method:                 Least Squares   F-statistic:                     404.4\n",
       "Date:                Fri, 27 Mar 2020   Prob (F-statistic):           4.19e-81\n",
       "Time:                        07:01:23   Log-Likelihood:                -5611.4\n",
       "No. Observations:                1757   AIC:                         1.123e+04\n",
       "Df Residuals:                    1755   BIC:                         1.124e+04\n",
       "Df Model:                           1                                         \n",
       "Covariance Type:            nonrobust                                         \n",
       "==============================================================================\n",
       "                 coef    std err          t      P>|t|      [0.025      0.975]\n",
       "------------------------------------------------------------------------------\n",
       "Intercept    -19.1874      1.781    -10.774      0.000     -22.680     -15.694\n",
       "ThreePO        1.0329      0.051     20.109      0.000       0.932       1.134\n",
       "==============================================================================\n",
       "Omnibus:                       16.247   Durbin-Watson:                   1.307\n",
       "Prob(Omnibus):                  0.000   Jarque-Bera (JB):               15.653\n",
       "Skew:                           0.201   Prob(JB):                     0.000399\n",
       "Kurtosis:                       2.772   Cond. No.                         439.\n",
       "==============================================================================\n",
       "\n",
       "Warnings:\n",
       "[1] Standard Errors assume that the covariance matrix of the errors is correctly specified.\n",
       "\"\"\""
      ]
     },
     "execution_count": 351,
     "metadata": {},
     "output_type": "execute_result"
    }
   ],
   "source": [
    "lr_model6 = ols(formula='W~ThreePO', data=df3).fit()\n",
    "\n",
    "lr_model6.summary()"
   ]
  },
  {
   "cell_type": "markdown",
   "metadata": {},
   "source": [
    "**R Squared is 0.187**"
   ]
  },
  {
   "cell_type": "code",
   "execution_count": 353,
   "metadata": {},
   "outputs": [],
   "source": [
    "X6 = df3['ThreePO'].values.reshape(-1,1)\n",
    "Y6 = df3['W'].values.reshape(-1,1)"
   ]
  },
  {
   "cell_type": "code",
   "execution_count": 354,
   "metadata": {},
   "outputs": [],
   "source": [
    "X6_train, X6_test, Y6_train, Y6_test = train_test_split(X6, Y6, test_size=0.2, random_state=0) # 80% of data is used to train model and 20% used to test model"
   ]
  },
  {
   "cell_type": "code",
   "execution_count": 355,
   "metadata": {},
   "outputs": [],
   "source": [
    "lr6 = LinearRegression()"
   ]
  },
  {
   "cell_type": "code",
   "execution_count": 356,
   "metadata": {},
   "outputs": [
    {
     "data": {
      "text/plain": [
       "LinearRegression(copy_X=True, fit_intercept=True, n_jobs=None, normalize=False)"
      ]
     },
     "execution_count": 356,
     "metadata": {},
     "output_type": "execute_result"
    }
   ],
   "source": [
    "lr6.fit(X6_train,Y6_train)"
   ]
  },
  {
   "cell_type": "code",
   "execution_count": 357,
   "metadata": {},
   "outputs": [
    {
     "name": "stdout",
     "output_type": "stream",
     "text": [
      "[[0.99161565]]\n"
     ]
    }
   ],
   "source": [
    "print(lr6.coef_)"
   ]
  },
  {
   "cell_type": "code",
   "execution_count": 358,
   "metadata": {},
   "outputs": [
    {
     "name": "stdout",
     "output_type": "stream",
     "text": [
      "[-17.78653533]\n"
     ]
    }
   ],
   "source": [
    "print(lr6.intercept_)"
   ]
  },
  {
   "cell_type": "code",
   "execution_count": 359,
   "metadata": {},
   "outputs": [
    {
     "data": {
      "text/html": [
       "<div>\n",
       "<style scoped>\n",
       "    .dataframe tbody tr th:only-of-type {\n",
       "        vertical-align: middle;\n",
       "    }\n",
       "\n",
       "    .dataframe tbody tr th {\n",
       "        vertical-align: top;\n",
       "    }\n",
       "\n",
       "    .dataframe thead th {\n",
       "        text-align: right;\n",
       "    }\n",
       "</style>\n",
       "<table border=\"1\" class=\"dataframe\">\n",
       "  <thead>\n",
       "    <tr style=\"text-align: right;\">\n",
       "      <th></th>\n",
       "      <th>Actual_Wins</th>\n",
       "      <th>Predicted_Wins</th>\n",
       "    </tr>\n",
       "  </thead>\n",
       "  <tbody>\n",
       "    <tr>\n",
       "      <td>0</td>\n",
       "      <td>11</td>\n",
       "      <td>13.945166</td>\n",
       "    </tr>\n",
       "    <tr>\n",
       "      <td>1</td>\n",
       "      <td>16</td>\n",
       "      <td>16.225882</td>\n",
       "    </tr>\n",
       "    <tr>\n",
       "      <td>2</td>\n",
       "      <td>15</td>\n",
       "      <td>14.540135</td>\n",
       "    </tr>\n",
       "    <tr>\n",
       "      <td>3</td>\n",
       "      <td>25</td>\n",
       "      <td>19.002405</td>\n",
       "    </tr>\n",
       "    <tr>\n",
       "      <td>4</td>\n",
       "      <td>11</td>\n",
       "      <td>14.639297</td>\n",
       "    </tr>\n",
       "    <tr>\n",
       "      <td>...</td>\n",
       "      <td>...</td>\n",
       "      <td>...</td>\n",
       "    </tr>\n",
       "    <tr>\n",
       "      <td>347</td>\n",
       "      <td>6</td>\n",
       "      <td>16.523366</td>\n",
       "    </tr>\n",
       "    <tr>\n",
       "      <td>348</td>\n",
       "      <td>20</td>\n",
       "      <td>15.730074</td>\n",
       "    </tr>\n",
       "    <tr>\n",
       "      <td>349</td>\n",
       "      <td>19</td>\n",
       "      <td>18.308274</td>\n",
       "    </tr>\n",
       "    <tr>\n",
       "      <td>350</td>\n",
       "      <td>4</td>\n",
       "      <td>14.044327</td>\n",
       "    </tr>\n",
       "    <tr>\n",
       "      <td>351</td>\n",
       "      <td>25</td>\n",
       "      <td>15.333427</td>\n",
       "    </tr>\n",
       "  </tbody>\n",
       "</table>\n",
       "<p>352 rows × 2 columns</p>\n",
       "</div>"
      ],
      "text/plain": [
       "     Actual_Wins  Predicted_Wins\n",
       "0             11       13.945166\n",
       "1             16       16.225882\n",
       "2             15       14.540135\n",
       "3             25       19.002405\n",
       "4             11       14.639297\n",
       "..           ...             ...\n",
       "347            6       16.523366\n",
       "348           20       15.730074\n",
       "349           19       18.308274\n",
       "350            4       14.044327\n",
       "351           25       15.333427\n",
       "\n",
       "[352 rows x 2 columns]"
      ]
     },
     "execution_count": 359,
     "metadata": {},
     "output_type": "execute_result"
    }
   ],
   "source": [
    "wins_pred_3po = (lr6.predict(X6_test)) # Model predictied wins using test data\n",
    "wins_pred_3po_df = pd.DataFrame({'Actual_Wins': Y6_test.flatten(), 'Predicted_Wins': wins_pred_3po.flatten()}) # Predicted wins and Actual wins into Data Frame\n",
    "wins_pred_3po_df"
   ]
  },
  {
   "cell_type": "code",
   "execution_count": 360,
   "metadata": {},
   "outputs": [
    {
     "data": {
      "image/png": "[encoded data removed]",
      "text/plain": [
       "<Figure size 432x288 with 1 Axes>"
      ]
     },
     "metadata": {
      "needs_background": "light"
     },
     "output_type": "display_data"
    }
   ],
   "source": [
    "plt.scatter(X6_test, Y6_test, color = 'blue', label = 'Actual Team Wins')\n",
    "plt.plot(X6_test, wins_pred_3po, color = 'red', linewidth = 3, label = 'Predicted Team Wins')\n",
    "plt.xlabel('Three Point Shooting Percentage')\n",
    "plt.ylabel('Wins')\n",
    "plt.legend()\n",
    "plt.title('Three Point Percentage Predicting Wins')\n",
    "plt.show() # Graphing Predicted Wins vs Actual Wins"
   ]
  },
  {
   "cell_type": "code",
   "execution_count": 362,
   "metadata": {},
   "outputs": [
    {
     "name": "stdout",
     "output_type": "stream",
     "text": [
      "Root Mean Squared Error: 6.111328217791869\n"
     ]
    }
   ],
   "source": [
    "print('Root Mean Squared Error:', np.sqrt(metrics.mean_squared_error(Y6_test, wins_pred_3po))) # Model RMSE"
   ]
  },
  {
   "cell_type": "markdown",
   "metadata": {},
   "source": [
    "### Predicitng Wins Using Three Point Percentage Allowed"
   ]
  },
  {
   "cell_type": "code",
   "execution_count": 380,
   "metadata": {},
   "outputs": [],
   "source": [
    "df3.rename(columns = {'3P_D': 'ThreePD'}, inplace = True) # Had to rename column to fit in model"
   ]
  },
  {
   "cell_type": "code",
   "execution_count": 381,
   "metadata": {},
   "outputs": [
    {
     "data": {
      "text/plain": [
       "<matplotlib.axes._subplots.AxesSubplot at 0x1a242b9c10>"
      ]
     },
     "execution_count": 381,
     "metadata": {},
     "output_type": "execute_result"
    },
    {
     "data": {
      "image/png": "[encoded data removed]",
      "text/plain": [
       "<Figure size 432x288 with 1 Axes>"
      ]
     },
     "metadata": {
      "needs_background": "light"
     },
     "output_type": "display_data"
    }
   ],
   "source": [
    "df3.plot.scatter(x = 'ThreePD', y = 'W', label = 'Team Wins') # Scatter plot to display on the same graph"
   ]
  },
  {
   "cell_type": "code",
   "execution_count": 382,
   "metadata": {},
   "outputs": [
    {
     "data": {
      "text/html": [
       "<table class=\"simpletable\">\n",
       "<caption>OLS Regression Results</caption>\n",
       "<tr>\n",
       "  <th>Dep. Variable:</th>            <td>W</td>        <th>  R-squared:         </th> <td>   0.236</td> \n",
       "</tr>\n",
       "<tr>\n",
       "  <th>Model:</th>                   <td>OLS</td>       <th>  Adj. R-squared:    </th> <td>   0.235</td> \n",
       "</tr>\n",
       "<tr>\n",
       "  <th>Method:</th>             <td>Least Squares</td>  <th>  F-statistic:       </th> <td>   541.2</td> \n",
       "</tr>\n",
       "<tr>\n",
       "  <th>Date:</th>             <td>Fri, 27 Mar 2020</td> <th>  Prob (F-statistic):</th> <td>1.44e-104</td>\n",
       "</tr>\n",
       "<tr>\n",
       "  <th>Time:</th>                 <td>07:14:19</td>     <th>  Log-Likelihood:    </th> <td> -5557.5</td> \n",
       "</tr>\n",
       "<tr>\n",
       "  <th>No. Observations:</th>      <td>  1757</td>      <th>  AIC:               </th> <td>1.112e+04</td>\n",
       "</tr>\n",
       "<tr>\n",
       "  <th>Df Residuals:</th>          <td>  1755</td>      <th>  BIC:               </th> <td>1.113e+04</td>\n",
       "</tr>\n",
       "<tr>\n",
       "  <th>Df Model:</th>              <td>     1</td>      <th>                     </th>     <td> </td>    \n",
       "</tr>\n",
       "<tr>\n",
       "  <th>Covariance Type:</th>      <td>nonrobust</td>    <th>                     </th>     <td> </td>    \n",
       "</tr>\n",
       "</table>\n",
       "<table class=\"simpletable\">\n",
       "<tr>\n",
       "      <td></td>         <th>coef</th>     <th>std err</th>      <th>t</th>      <th>P>|t|</th>  <th>[0.025</th>    <th>0.975]</th>  \n",
       "</tr>\n",
       "<tr>\n",
       "  <th>Intercept</th> <td>   63.1058</td> <td>    2.007</td> <td>   31.436</td> <td> 0.000</td> <td>   59.169</td> <td>   67.043</td>\n",
       "</tr>\n",
       "<tr>\n",
       "  <th>ThreePD</th>   <td>   -1.3410</td> <td>    0.058</td> <td>  -23.264</td> <td> 0.000</td> <td>   -1.454</td> <td>   -1.228</td>\n",
       "</tr>\n",
       "</table>\n",
       "<table class=\"simpletable\">\n",
       "<tr>\n",
       "  <th>Omnibus:</th>       <td> 5.311</td> <th>  Durbin-Watson:     </th> <td>   1.272</td>\n",
       "</tr>\n",
       "<tr>\n",
       "  <th>Prob(Omnibus):</th> <td> 0.070</td> <th>  Jarque-Bera (JB):  </th> <td>   5.322</td>\n",
       "</tr>\n",
       "<tr>\n",
       "  <th>Skew:</th>          <td> 0.135</td> <th>  Prob(JB):          </th> <td>  0.0699</td>\n",
       "</tr>\n",
       "<tr>\n",
       "  <th>Kurtosis:</th>      <td> 2.989</td> <th>  Cond. No.          </th> <td>    512.</td>\n",
       "</tr>\n",
       "</table><br/><br/>Warnings:<br/>[1] Standard Errors assume that the covariance matrix of the errors is correctly specified."
      ],
      "text/plain": [
       "<class 'statsmodels.iolib.summary.Summary'>\n",
       "\"\"\"\n",
       "                            OLS Regression Results                            \n",
       "==============================================================================\n",
       "Dep. Variable:                      W   R-squared:                       0.236\n",
       "Model:                            OLS   Adj. R-squared:                  0.235\n",
       "Method:                 Least Squares   F-statistic:                     541.2\n",
       "Date:                Fri, 27 Mar 2020   Prob (F-statistic):          1.44e-104\n",
       "Time:                        07:14:19   Log-Likelihood:                -5557.5\n",
       "No. Observations:                1757   AIC:                         1.112e+04\n",
       "Df Residuals:                    1755   BIC:                         1.113e+04\n",
       "Df Model:                           1                                         \n",
       "Covariance Type:            nonrobust                                         \n",
       "==============================================================================\n",
       "                 coef    std err          t      P>|t|      [0.025      0.975]\n",
       "------------------------------------------------------------------------------\n",
       "Intercept     63.1058      2.007     31.436      0.000      59.169      67.043\n",
       "ThreePD       -1.3410      0.058    -23.264      0.000      -1.454      -1.228\n",
       "==============================================================================\n",
       "Omnibus:                        5.311   Durbin-Watson:                   1.272\n",
       "Prob(Omnibus):                  0.070   Jarque-Bera (JB):                5.322\n",
       "Skew:                           0.135   Prob(JB):                       0.0699\n",
       "Kurtosis:                       2.989   Cond. No.                         512.\n",
       "==============================================================================\n",
       "\n",
       "Warnings:\n",
       "[1] Standard Errors assume that the covariance matrix of the errors is correctly specified.\n",
       "\"\"\""
      ]
     },
     "execution_count": 382,
     "metadata": {},
     "output_type": "execute_result"
    }
   ],
   "source": [
    "lr_model7 = ols(formula='W~ThreePD', data=df3).fit()\n",
    "\n",
    "lr_model7.summary()"
   ]
  },
  {
   "cell_type": "markdown",
   "metadata": {},
   "source": [
    "**R Squared is 0.236**"
   ]
  },
  {
   "cell_type": "code",
   "execution_count": 385,
   "metadata": {},
   "outputs": [],
   "source": [
    "X7 = df3['ThreePD'].values.reshape(-1,1)\n",
    "Y7 = df3['W'].values.reshape(-1,1)"
   ]
  },
  {
   "cell_type": "code",
   "execution_count": 386,
   "metadata": {},
   "outputs": [],
   "source": [
    "X7_train, X7_test, Y7_train, Y7_test = train_test_split(X7, Y7, test_size=0.2, random_state=0) # 80% of data is used to train model and 20% used to test model"
   ]
  },
  {
   "cell_type": "code",
   "execution_count": 387,
   "metadata": {},
   "outputs": [],
   "source": [
    "lr7 = LinearRegression()"
   ]
  },
  {
   "cell_type": "code",
   "execution_count": 388,
   "metadata": {},
   "outputs": [
    {
     "data": {
      "text/plain": [
       "LinearRegression(copy_X=True, fit_intercept=True, n_jobs=None, normalize=False)"
      ]
     },
     "execution_count": 388,
     "metadata": {},
     "output_type": "execute_result"
    }
   ],
   "source": [
    "lr7.fit(X7_train,Y7_train)"
   ]
  },
  {
   "cell_type": "code",
   "execution_count": 389,
   "metadata": {},
   "outputs": [
    {
     "name": "stdout",
     "output_type": "stream",
     "text": [
      "[[-1.2998649]]\n"
     ]
    }
   ],
   "source": [
    "print(lr7.coef_)"
   ]
  },
  {
   "cell_type": "code",
   "execution_count": 390,
   "metadata": {},
   "outputs": [
    {
     "name": "stdout",
     "output_type": "stream",
     "text": [
      "[61.65365045]\n"
     ]
    }
   ],
   "source": [
    "print(lr7.intercept_)"
   ]
  },
  {
   "cell_type": "code",
   "execution_count": 391,
   "metadata": {},
   "outputs": [
    {
     "data": {
      "text/html": [
       "<div>\n",
       "<style scoped>\n",
       "    .dataframe tbody tr th:only-of-type {\n",
       "        vertical-align: middle;\n",
       "    }\n",
       "\n",
       "    .dataframe tbody tr th {\n",
       "        vertical-align: top;\n",
       "    }\n",
       "\n",
       "    .dataframe thead th {\n",
       "        text-align: right;\n",
       "    }\n",
       "</style>\n",
       "<table border=\"1\" class=\"dataframe\">\n",
       "  <thead>\n",
       "    <tr style=\"text-align: right;\">\n",
       "      <th></th>\n",
       "      <th>Actual_Wins</th>\n",
       "      <th>Predicted_Wins</th>\n",
       "    </tr>\n",
       "  </thead>\n",
       "  <tbody>\n",
       "    <tr>\n",
       "      <td>0</td>\n",
       "      <td>11</td>\n",
       "      <td>14.078595</td>\n",
       "    </tr>\n",
       "    <tr>\n",
       "      <td>1</td>\n",
       "      <td>16</td>\n",
       "      <td>21.097866</td>\n",
       "    </tr>\n",
       "    <tr>\n",
       "      <td>2</td>\n",
       "      <td>15</td>\n",
       "      <td>10.698946</td>\n",
       "    </tr>\n",
       "    <tr>\n",
       "      <td>3</td>\n",
       "      <td>25</td>\n",
       "      <td>20.707906</td>\n",
       "    </tr>\n",
       "    <tr>\n",
       "      <td>4</td>\n",
       "      <td>11</td>\n",
       "      <td>14.468555</td>\n",
       "    </tr>\n",
       "    <tr>\n",
       "      <td>...</td>\n",
       "      <td>...</td>\n",
       "      <td>...</td>\n",
       "    </tr>\n",
       "    <tr>\n",
       "      <td>347</td>\n",
       "      <td>6</td>\n",
       "      <td>13.428663</td>\n",
       "    </tr>\n",
       "    <tr>\n",
       "      <td>348</td>\n",
       "      <td>20</td>\n",
       "      <td>16.548338</td>\n",
       "    </tr>\n",
       "    <tr>\n",
       "      <td>349</td>\n",
       "      <td>19</td>\n",
       "      <td>15.638433</td>\n",
       "    </tr>\n",
       "    <tr>\n",
       "      <td>350</td>\n",
       "      <td>4</td>\n",
       "      <td>7.969230</td>\n",
       "    </tr>\n",
       "    <tr>\n",
       "      <td>351</td>\n",
       "      <td>25</td>\n",
       "      <td>20.837893</td>\n",
       "    </tr>\n",
       "  </tbody>\n",
       "</table>\n",
       "<p>352 rows × 2 columns</p>\n",
       "</div>"
      ],
      "text/plain": [
       "     Actual_Wins  Predicted_Wins\n",
       "0             11       14.078595\n",
       "1             16       21.097866\n",
       "2             15       10.698946\n",
       "3             25       20.707906\n",
       "4             11       14.468555\n",
       "..           ...             ...\n",
       "347            6       13.428663\n",
       "348           20       16.548338\n",
       "349           19       15.638433\n",
       "350            4        7.969230\n",
       "351           25       20.837893\n",
       "\n",
       "[352 rows x 2 columns]"
      ]
     },
     "execution_count": 391,
     "metadata": {},
     "output_type": "execute_result"
    }
   ],
   "source": [
    "wins_pred_3pd = (lr7.predict(X7_test)) # Model predictied wins using test data\n",
    "wins_pred_3pd_df = pd.DataFrame({'Actual_Wins': Y7_test.flatten(), 'Predicted_Wins': wins_pred_3pd.flatten()}) # Predicted wins and Actual wins into Data Frame\n",
    "wins_pred_3pd_df"
   ]
  },
  {
   "cell_type": "code",
   "execution_count": 442,
   "metadata": {},
   "outputs": [
    {
     "data": {
      "image/png": "[encoded data removed]",
      "text/plain": [
       "<Figure size 432x288 with 1 Axes>"
      ]
     },
     "metadata": {
      "needs_background": "light"
     },
     "output_type": "display_data"
    }
   ],
   "source": [
    "plt.scatter(X7_test, Y7_test, color = 'blue', label = 'Actual Team Wins')\n",
    "plt.plot(X7_test, wins_pred_3pd, color = 'red', linewidth = 3, label = 'Predicted Team Wins')\n",
    "plt.xlabel('Three Point Shooting Percentage Allowed')\n",
    "plt.ylabel('Wins')\n",
    "plt.legend()\n",
    "plt.title('Three Point Percentage Allowed Predicting Wins')\n",
    "plt.show() # Graphing Predicted Wins vs Actual Wins"
   ]
  },
  {
   "cell_type": "code",
   "execution_count": 393,
   "metadata": {},
   "outputs": [
    {
     "name": "stdout",
     "output_type": "stream",
     "text": [
      "Root Mean Squared Error: 5.900088453357733\n"
     ]
    }
   ],
   "source": [
    "print('Root Mean Squared Error:', np.sqrt(metrics.mean_squared_error(Y7_test, wins_pred_3pd))) # Model RMSE"
   ]
  },
  {
   "cell_type": "markdown",
   "metadata": {},
   "source": [
    "## Multiple Linear Regression"
   ]
  },
  {
   "cell_type": "code",
   "execution_count": 397,
   "metadata": {},
   "outputs": [],
   "source": [
    "X8 = df3[['ADJOE', 'ADJDE', 'TOR', 'ORB', 'DRB', 'ThreePO', 'ThreePD']]\n",
    "Y8 = df3['W']"
   ]
  },
  {
   "cell_type": "code",
   "execution_count": 409,
   "metadata": {},
   "outputs": [],
   "source": [
    "X8_train, X8_test, Y8_train, Y8_test = train_test_split(X8, Y8, test_size=0.2, random_state=0) # 80% of data is used to train model and 20% used to test model"
   ]
  },
  {
   "cell_type": "code",
   "execution_count": 410,
   "metadata": {},
   "outputs": [],
   "source": [
    "f = 'W~ADJOE+ADJDE+TOR+ORB+DRB+ThreePO+ThreePD'"
   ]
  },
  {
   "cell_type": "code",
   "execution_count": 411,
   "metadata": {},
   "outputs": [
    {
     "data": {
      "text/html": [
       "<table class=\"simpletable\">\n",
       "<caption>OLS Regression Results</caption>\n",
       "<tr>\n",
       "  <th>Dep. Variable:</th>            <td>W</td>        <th>  R-squared:         </th> <td>   0.754</td>\n",
       "</tr>\n",
       "<tr>\n",
       "  <th>Model:</th>                   <td>OLS</td>       <th>  Adj. R-squared:    </th> <td>   0.753</td>\n",
       "</tr>\n",
       "<tr>\n",
       "  <th>Method:</th>             <td>Least Squares</td>  <th>  F-statistic:       </th> <td>   767.0</td>\n",
       "</tr>\n",
       "<tr>\n",
       "  <th>Date:</th>             <td>Fri, 27 Mar 2020</td> <th>  Prob (F-statistic):</th>  <td>  0.00</td> \n",
       "</tr>\n",
       "<tr>\n",
       "  <th>Time:</th>                 <td>07:26:49</td>     <th>  Log-Likelihood:    </th> <td> -4560.6</td>\n",
       "</tr>\n",
       "<tr>\n",
       "  <th>No. Observations:</th>      <td>  1757</td>      <th>  AIC:               </th> <td>   9137.</td>\n",
       "</tr>\n",
       "<tr>\n",
       "  <th>Df Residuals:</th>          <td>  1749</td>      <th>  BIC:               </th> <td>   9181.</td>\n",
       "</tr>\n",
       "<tr>\n",
       "  <th>Df Model:</th>              <td>     7</td>      <th>                     </th>     <td> </td>   \n",
       "</tr>\n",
       "<tr>\n",
       "  <th>Covariance Type:</th>      <td>nonrobust</td>    <th>                     </th>     <td> </td>   \n",
       "</tr>\n",
       "</table>\n",
       "<table class=\"simpletable\">\n",
       "<tr>\n",
       "      <td></td>         <th>coef</th>     <th>std err</th>      <th>t</th>      <th>P>|t|</th>  <th>[0.025</th>    <th>0.975]</th>  \n",
       "</tr>\n",
       "<tr>\n",
       "  <th>Intercept</th> <td>   31.3428</td> <td>    3.231</td> <td>    9.702</td> <td> 0.000</td> <td>   25.007</td> <td>   37.679</td>\n",
       "</tr>\n",
       "<tr>\n",
       "  <th>ADJOE</th>     <td>    0.2938</td> <td>    0.022</td> <td>   13.597</td> <td> 0.000</td> <td>    0.251</td> <td>    0.336</td>\n",
       "</tr>\n",
       "<tr>\n",
       "  <th>ADJDE</th>     <td>   -0.2725</td> <td>    0.019</td> <td>  -14.506</td> <td> 0.000</td> <td>   -0.309</td> <td>   -0.236</td>\n",
       "</tr>\n",
       "<tr>\n",
       "  <th>TOR</th>       <td>   -0.4604</td> <td>    0.054</td> <td>   -8.478</td> <td> 0.000</td> <td>   -0.567</td> <td>   -0.354</td>\n",
       "</tr>\n",
       "<tr>\n",
       "  <th>ORB</th>       <td>    0.2102</td> <td>    0.023</td> <td>    8.982</td> <td> 0.000</td> <td>    0.164</td> <td>    0.256</td>\n",
       "</tr>\n",
       "<tr>\n",
       "  <th>DRB</th>       <td>   -0.2251</td> <td>    0.028</td> <td>   -8.030</td> <td> 0.000</td> <td>   -0.280</td> <td>   -0.170</td>\n",
       "</tr>\n",
       "<tr>\n",
       "  <th>ThreePO</th>   <td>    0.3854</td> <td>    0.040</td> <td>    9.596</td> <td> 0.000</td> <td>    0.307</td> <td>    0.464</td>\n",
       "</tr>\n",
       "<tr>\n",
       "  <th>ThreePD</th>   <td>   -0.6136</td> <td>    0.041</td> <td>  -15.107</td> <td> 0.000</td> <td>   -0.693</td> <td>   -0.534</td>\n",
       "</tr>\n",
       "</table>\n",
       "<table class=\"simpletable\">\n",
       "<tr>\n",
       "  <th>Omnibus:</th>       <td> 7.136</td> <th>  Durbin-Watson:     </th> <td>   1.431</td>\n",
       "</tr>\n",
       "<tr>\n",
       "  <th>Prob(Omnibus):</th> <td> 0.028</td> <th>  Jarque-Bera (JB):  </th> <td>   6.817</td>\n",
       "</tr>\n",
       "<tr>\n",
       "  <th>Skew:</th>          <td> 0.120</td> <th>  Prob(JB):          </th> <td>  0.0331</td>\n",
       "</tr>\n",
       "<tr>\n",
       "  <th>Kurtosis:</th>      <td> 2.811</td> <th>  Cond. No.          </th> <td>6.71e+03</td>\n",
       "</tr>\n",
       "</table><br/><br/>Warnings:<br/>[1] Standard Errors assume that the covariance matrix of the errors is correctly specified.<br/>[2] The condition number is large, 6.71e+03. This might indicate that there are<br/>strong multicollinearity or other numerical problems."
      ],
      "text/plain": [
       "<class 'statsmodels.iolib.summary.Summary'>\n",
       "\"\"\"\n",
       "                            OLS Regression Results                            \n",
       "==============================================================================\n",
       "Dep. Variable:                      W   R-squared:                       0.754\n",
       "Model:                            OLS   Adj. R-squared:                  0.753\n",
       "Method:                 Least Squares   F-statistic:                     767.0\n",
       "Date:                Fri, 27 Mar 2020   Prob (F-statistic):               0.00\n",
       "Time:                        07:26:49   Log-Likelihood:                -4560.6\n",
       "No. Observations:                1757   AIC:                             9137.\n",
       "Df Residuals:                    1749   BIC:                             9181.\n",
       "Df Model:                           7                                         \n",
       "Covariance Type:            nonrobust                                         \n",
       "==============================================================================\n",
       "                 coef    std err          t      P>|t|      [0.025      0.975]\n",
       "------------------------------------------------------------------------------\n",
       "Intercept     31.3428      3.231      9.702      0.000      25.007      37.679\n",
       "ADJOE          0.2938      0.022     13.597      0.000       0.251       0.336\n",
       "ADJDE         -0.2725      0.019    -14.506      0.000      -0.309      -0.236\n",
       "TOR           -0.4604      0.054     -8.478      0.000      -0.567      -0.354\n",
       "ORB            0.2102      0.023      8.982      0.000       0.164       0.256\n",
       "DRB           -0.2251      0.028     -8.030      0.000      -0.280      -0.170\n",
       "ThreePO        0.3854      0.040      9.596      0.000       0.307       0.464\n",
       "ThreePD       -0.6136      0.041    -15.107      0.000      -0.693      -0.534\n",
       "==============================================================================\n",
       "Omnibus:                        7.136   Durbin-Watson:                   1.431\n",
       "Prob(Omnibus):                  0.028   Jarque-Bera (JB):                6.817\n",
       "Skew:                           0.120   Prob(JB):                       0.0331\n",
       "Kurtosis:                       2.811   Cond. No.                     6.71e+03\n",
       "==============================================================================\n",
       "\n",
       "Warnings:\n",
       "[1] Standard Errors assume that the covariance matrix of the errors is correctly specified.\n",
       "[2] The condition number is large, 6.71e+03. This might indicate that there are\n",
       "strong multicollinearity or other numerical problems.\n",
       "\"\"\""
      ]
     },
     "execution_count": 411,
     "metadata": {},
     "output_type": "execute_result"
    }
   ],
   "source": [
    "lr_model8 = ols(formula=f, data=df3).fit()\n",
    "\n",
    "lr_model8.summary()"
   ]
  },
  {
   "cell_type": "markdown",
   "metadata": {},
   "source": [
    "**R Squared is 0.754**"
   ]
  },
  {
   "cell_type": "code",
   "execution_count": 412,
   "metadata": {},
   "outputs": [],
   "source": [
    "lr8 = LinearRegression()"
   ]
  },
  {
   "cell_type": "code",
   "execution_count": 413,
   "metadata": {},
   "outputs": [
    {
     "data": {
      "text/plain": [
       "LinearRegression(copy_X=True, fit_intercept=True, n_jobs=None, normalize=False)"
      ]
     },
     "execution_count": 413,
     "metadata": {},
     "output_type": "execute_result"
    }
   ],
   "source": [
    "lr8.fit(X8_train, Y8_train)"
   ]
  },
  {
   "cell_type": "code",
   "execution_count": 414,
   "metadata": {},
   "outputs": [
    {
     "data": {
      "text/plain": [
       "array([ 0.28361584, -0.27145934, -0.48657826,  0.20266142, -0.2520664 ,\n",
       "        0.38203087, -0.61086233])"
      ]
     },
     "execution_count": 414,
     "metadata": {},
     "output_type": "execute_result"
    }
   ],
   "source": [
    "lr8.coef_"
   ]
  },
  {
   "cell_type": "code",
   "execution_count": 415,
   "metadata": {},
   "outputs": [
    {
     "data": {
      "text/plain": [
       "33.804836574491965"
      ]
     },
     "execution_count": 415,
     "metadata": {},
     "output_type": "execute_result"
    }
   ],
   "source": [
    "lr8.intercept_"
   ]
  },
  {
   "cell_type": "code",
   "execution_count": 416,
   "metadata": {},
   "outputs": [],
   "source": [
    "wins_pred = lr8.predict(X8_test)"
   ]
  },
  {
   "cell_type": "code",
   "execution_count": 418,
   "metadata": {},
   "outputs": [],
   "source": [
    "wins_pred_df = pd.DataFrame({'Actual_Wins': Y8_test, 'Wins_Predicted': wins_pred})"
   ]
  },
  {
   "cell_type": "code",
   "execution_count": 419,
   "metadata": {},
   "outputs": [
    {
     "data": {
      "text/html": [
       "<div>\n",
       "<style scoped>\n",
       "    .dataframe tbody tr th:only-of-type {\n",
       "        vertical-align: middle;\n",
       "    }\n",
       "\n",
       "    .dataframe tbody tr th {\n",
       "        vertical-align: top;\n",
       "    }\n",
       "\n",
       "    .dataframe thead th {\n",
       "        text-align: right;\n",
       "    }\n",
       "</style>\n",
       "<table border=\"1\" class=\"dataframe\">\n",
       "  <thead>\n",
       "    <tr style=\"text-align: right;\">\n",
       "      <th></th>\n",
       "      <th>Actual_Wins</th>\n",
       "      <th>Wins_Predicted</th>\n",
       "    </tr>\n",
       "  </thead>\n",
       "  <tbody>\n",
       "    <tr>\n",
       "      <td>1379</td>\n",
       "      <td>11</td>\n",
       "      <td>13.147968</td>\n",
       "    </tr>\n",
       "    <tr>\n",
       "      <td>668</td>\n",
       "      <td>16</td>\n",
       "      <td>17.513891</td>\n",
       "    </tr>\n",
       "    <tr>\n",
       "      <td>412</td>\n",
       "      <td>15</td>\n",
       "      <td>11.067908</td>\n",
       "    </tr>\n",
       "    <tr>\n",
       "      <td>558</td>\n",
       "      <td>25</td>\n",
       "      <td>25.291851</td>\n",
       "    </tr>\n",
       "    <tr>\n",
       "      <td>1363</td>\n",
       "      <td>11</td>\n",
       "      <td>6.869229</td>\n",
       "    </tr>\n",
       "    <tr>\n",
       "      <td>...</td>\n",
       "      <td>...</td>\n",
       "      <td>...</td>\n",
       "    </tr>\n",
       "    <tr>\n",
       "      <td>554</td>\n",
       "      <td>6</td>\n",
       "      <td>9.704795</td>\n",
       "    </tr>\n",
       "    <tr>\n",
       "      <td>1579</td>\n",
       "      <td>20</td>\n",
       "      <td>22.873568</td>\n",
       "    </tr>\n",
       "    <tr>\n",
       "      <td>969</td>\n",
       "      <td>19</td>\n",
       "      <td>16.775359</td>\n",
       "    </tr>\n",
       "    <tr>\n",
       "      <td>539</td>\n",
       "      <td>4</td>\n",
       "      <td>6.287189</td>\n",
       "    </tr>\n",
       "    <tr>\n",
       "      <td>1590</td>\n",
       "      <td>25</td>\n",
       "      <td>24.970721</td>\n",
       "    </tr>\n",
       "  </tbody>\n",
       "</table>\n",
       "<p>352 rows × 2 columns</p>\n",
       "</div>"
      ],
      "text/plain": [
       "      Actual_Wins  Wins_Predicted\n",
       "1379           11       13.147968\n",
       "668            16       17.513891\n",
       "412            15       11.067908\n",
       "558            25       25.291851\n",
       "1363           11        6.869229\n",
       "...           ...             ...\n",
       "554             6        9.704795\n",
       "1579           20       22.873568\n",
       "969            19       16.775359\n",
       "539             4        6.287189\n",
       "1590           25       24.970721\n",
       "\n",
       "[352 rows x 2 columns]"
      ]
     },
     "execution_count": 419,
     "metadata": {},
     "output_type": "execute_result"
    }
   ],
   "source": [
    "wins_pred_df"
   ]
  },
  {
   "cell_type": "code",
   "execution_count": 439,
   "metadata": {},
   "outputs": [
    {
     "data": {
      "image/png": "[encoded data removed]",
      "text/plain": [
       "<Figure size 1224x504 with 1 Axes>"
      ]
     },
     "metadata": {
      "needs_background": "light"
     },
     "output_type": "display_data"
    }
   ],
   "source": [
    "ax = wins_pred_df.head(20).plot(kind = 'bar', figsize = (17,7), color = ('blue', 'red'))\n",
    "plt.yticks(np.arange(0, 39, step=2))\n",
    "plt.xlabel('Randomly Selected Teams')\n",
    "plt.ylabel('Wins')\n",
    "plt.title('Actual Wins vs Model Predicted Wins')\n",
    "ax.set_facecolor(\"lightgrey\")"
   ]
  },
  {
   "cell_type": "code",
   "execution_count": 443,
   "metadata": {},
   "outputs": [
    {
     "name": "stdout",
     "output_type": "stream",
     "text": [
      "Root Mean Squared Error: 3.439632049719883\n"
     ]
    }
   ],
   "source": [
    "print('Root Mean Squared Error:', np.sqrt(metrics.mean_squared_error(Y8_test, wins_pred))) # Model RMSE"
   ]
  },
  {
   "cell_type": "code",
   "execution_count": null,
   "metadata": {},
   "outputs": [],
   "source": []
  }
 ],
 "metadata": {
  "kernelspec": {
   "display_name": "Python 3",
   "language": "python",
   "name": "python3"
  },
  "language_info": {
   "codemirror_mode": {
    "name": "ipython",
    "version": 3
   },
   "file_extension": ".py",
   "mimetype": "text/x-python",
   "name": "python",
   "nbconvert_exporter": "python",
   "pygments_lexer": "ipython3",
   "version": "3.7.4"
  }
 },
 "nbformat": 4,
 "nbformat_minor": 2
}
